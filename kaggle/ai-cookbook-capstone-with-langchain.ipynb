{
 "cells": [
  {
   "cell_type": "markdown",
   "id": "c8e9aaa4",
   "metadata": {
    "papermill": {
     "duration": 0.006195,
     "end_time": "2025-04-16T12:03:36.783436",
     "exception": false,
     "start_time": "2025-04-16T12:03:36.777241",
     "status": "completed"
    },
    "tags": []
   },
   "source": [
    "# 📖 Introduction"
   ]
  },
  {
   "cell_type": "markdown",
   "id": "c40f403f",
   "metadata": {
    "_cell_guid": "b1076dfc-b9ad-4769-8c92-a6c4dae69d19",
    "_uuid": "8f2839f25d086af736a60e9eeb907d3b93b6e0e5",
    "papermill": {
     "duration": 0.004421,
     "end_time": "2025-04-16T12:03:36.793583",
     "exception": false,
     "start_time": "2025-04-16T12:03:36.789162",
     "status": "completed"
    },
    "tags": []
   },
   "source": [
    "This is a notebook that summarizes some of the knowledge gained through the **5-day Gen AI Intensive Course with Google** in a form of the **Gen AI Intensive Course Capstone 2025Q1**.  \n",
    "\n",
    "## It is a refactored approach to use **LangChain** capabilities where possible.\n",
    "\n",
    "### TODO: verify list below when finished\n",
    "\n",
    "It implements the intelligent chef assistant bot, whose main capabilities are:\n",
    "* selection of proper cookbook based on users suggestion\n",
    "* suggestion of a recipe eg. based on available ingredients\n",
    "* dummy ordering of ingredients\n",
    "\n",
    "The **gen AI capabilities** used in the notebook are:  \n",
    "✅ Embeddings  \n",
    "✅ Few shot prompting  \n",
    "✅ Structured output/JSON mode/controlled generation  \n",
    "✅ Retrieval augmented generation (RAG)  \n",
    "✅ Vector search/vector store/vector database   \n",
    "✅ Agents with LangGraph"
   ]
  },
  {
   "cell_type": "markdown",
   "id": "308c2a3b",
   "metadata": {
    "papermill": {
     "duration": 0.004402,
     "end_time": "2025-04-16T12:03:36.802619",
     "exception": false,
     "start_time": "2025-04-16T12:03:36.798217",
     "status": "completed"
    },
    "tags": []
   },
   "source": [
    "# ⚒ Installation and setup"
   ]
  },
  {
   "cell_type": "code",
   "execution_count": 1,
   "id": "1e2ef263",
   "metadata": {
    "execution": {
     "iopub.execute_input": "2025-04-16T12:03:36.813581Z",
     "iopub.status.busy": "2025-04-16T12:03:36.813264Z",
     "iopub.status.idle": "2025-04-16T12:04:13.699362Z",
     "shell.execute_reply": "2025-04-16T12:04:13.697867Z"
    },
    "papermill": {
     "duration": 36.893616,
     "end_time": "2025-04-16T12:04:13.701215",
     "exception": false,
     "start_time": "2025-04-16T12:03:36.807599",
     "status": "completed"
    },
    "tags": []
   },
   "outputs": [
    {
     "name": "stdout",
     "output_type": "stream",
     "text": [
      "\u001b[33mWARNING: Skipping kfp as it is not installed.\u001b[0m\u001b[33m\r\n",
      "\u001b[2K     \u001b[90m━━━━━━━━━━━━━━━━━━━━━━━━━━━━━━━━━━━━━━━━\u001b[0m \u001b[32m43.5/43.5 kB\u001b[0m \u001b[31m882.2 kB/s\u001b[0m eta \u001b[36m0:00:00\u001b[0m\r\n",
      "\u001b[2K   \u001b[90m━━━━━━━━━━━━━━━━━━━━━━━━━━━━━━━━━━━━━━━━\u001b[0m \u001b[32m138.0/138.0 kB\u001b[0m \u001b[31m3.2 MB/s\u001b[0m eta \u001b[36m0:00:00\u001b[0m\r\n",
      "\u001b[2K   \u001b[90m━━━━━━━━━━━━━━━━━━━━━━━━━━━━━━━━━━━━━━━━\u001b[0m \u001b[32m42.0/42.0 kB\u001b[0m \u001b[31m1.8 MB/s\u001b[0m eta \u001b[36m0:00:00\u001b[0m\r\n",
      "\u001b[2K   \u001b[90m━━━━━━━━━━━━━━━━━━━━━━━━━━━━━━━━━━━━━━━━\u001b[0m \u001b[32m1.0/1.0 MB\u001b[0m \u001b[31m13.8 MB/s\u001b[0m eta \u001b[36m0:00:00\u001b[0m\r\n",
      "\u001b[2K   \u001b[90m━━━━━━━━━━━━━━━━━━━━━━━━━━━━━━━━━━━━━━━━\u001b[0m \u001b[32m1.4/1.4 MB\u001b[0m \u001b[31m30.3 MB/s\u001b[0m eta \u001b[36m0:00:00\u001b[0m\r\n",
      "\u001b[2K   \u001b[90m━━━━━━━━━━━━━━━━━━━━━━━━━━━━━━━━━━━━━━━━\u001b[0m \u001b[32m433.6/433.6 kB\u001b[0m \u001b[31m17.9 MB/s\u001b[0m eta \u001b[36m0:00:00\u001b[0m\r\n",
      "\u001b[2K   \u001b[90m━━━━━━━━━━━━━━━━━━━━━━━━━━━━━━━━━━━━━━━━\u001b[0m \u001b[32m42.0/42.0 kB\u001b[0m \u001b[31m1.7 MB/s\u001b[0m eta \u001b[36m0:00:00\u001b[0m\r\n",
      "\u001b[2K   \u001b[90m━━━━━━━━━━━━━━━━━━━━━━━━━━━━━━━━━━━━━━━━\u001b[0m \u001b[32m47.2/47.2 kB\u001b[0m \u001b[31m2.5 MB/s\u001b[0m eta \u001b[36m0:00:00\u001b[0m\r\n",
      "\u001b[2K   \u001b[90m━━━━━━━━━━━━━━━━━━━━━━━━━━━━━━━━━━━━━━━━\u001b[0m \u001b[32m223.6/223.6 kB\u001b[0m \u001b[31m10.4 MB/s\u001b[0m eta \u001b[36m0:00:00\u001b[0m\r\n",
      "\u001b[?25h"
     ]
    }
   ],
   "source": [
    "!pip uninstall -qqy kfp jupyterlab libpysal thinc spacy fastai ydata-profiling google-cloud-bigquery google-generativeai\n",
    "\n",
    "!pip install -qU 'langgraph==0.3.21' 'langchain-google-genai==2.1.2' 'langgraph-prebuilt==0.1.7' 'langchain'"
   ]
  },
  {
   "cell_type": "code",
   "execution_count": 2,
   "id": "74eb3e6c",
   "metadata": {
    "execution": {
     "iopub.execute_input": "2025-04-16T12:04:13.714788Z",
     "iopub.status.busy": "2025-04-16T12:04:13.713807Z",
     "iopub.status.idle": "2025-04-16T12:04:42.777296Z",
     "shell.execute_reply": "2025-04-16T12:04:42.776068Z"
    },
    "papermill": {
     "duration": 29.072099,
     "end_time": "2025-04-16T12:04:42.779299",
     "exception": false,
     "start_time": "2025-04-16T12:04:13.707200",
     "status": "completed"
    },
    "tags": []
   },
   "outputs": [
    {
     "name": "stdout",
     "output_type": "stream",
     "text": [
      "\u001b[2K     \u001b[90m━━━━━━━━━━━━━━━━━━━━━━━━━━━━━━━━━━━━━━━━\u001b[0m \u001b[32m67.3/67.3 kB\u001b[0m \u001b[31m1.9 MB/s\u001b[0m eta \u001b[36m0:00:00\u001b[0m\r\n",
      "\u001b[?25h  Installing build dependencies ... \u001b[?25l\u001b[?25hdone\r\n",
      "  Getting requirements to build wheel ... \u001b[?25l\u001b[?25hdone\r\n",
      "  Preparing metadata (pyproject.toml) ... \u001b[?25l\u001b[?25hdone\r\n",
      "\u001b[2K   \u001b[90m━━━━━━━━━━━━━━━━━━━━━━━━━━━━━━━━━━━━━━━━\u001b[0m \u001b[32m144.7/144.7 kB\u001b[0m \u001b[31m2.9 MB/s\u001b[0m eta \u001b[36m0:00:00\u001b[0m\r\n",
      "\u001b[2K   \u001b[90m━━━━━━━━━━━━━━━━━━━━━━━━━━━━━━━━━━━━━━━━\u001b[0m \u001b[32m611.1/611.1 kB\u001b[0m \u001b[31m9.6 MB/s\u001b[0m eta \u001b[36m0:00:00\u001b[0m\r\n",
      "\u001b[2K   \u001b[90m━━━━━━━━━━━━━━━━━━━━━━━━━━━━━━━━━━━━━━━━\u001b[0m \u001b[32m2.4/2.4 MB\u001b[0m \u001b[31m33.2 MB/s\u001b[0m eta \u001b[36m0:00:00\u001b[0m\r\n",
      "\u001b[2K   \u001b[90m━━━━━━━━━━━━━━━━━━━━━━━━━━━━━━━━━━━━━━━━\u001b[0m \u001b[32m100.9/100.9 kB\u001b[0m \u001b[31m4.4 MB/s\u001b[0m eta \u001b[36m0:00:00\u001b[0m\r\n",
      "\u001b[2K   \u001b[90m━━━━━━━━━━━━━━━━━━━━━━━━━━━━━━━━━━━━━━━━\u001b[0m \u001b[32m284.2/284.2 kB\u001b[0m \u001b[31m15.2 MB/s\u001b[0m eta \u001b[36m0:00:00\u001b[0m\r\n",
      "\u001b[2K   \u001b[90m━━━━━━━━━━━━━━━━━━━━━━━━━━━━━━━━━━━━━━━━\u001b[0m \u001b[32m95.2/95.2 kB\u001b[0m \u001b[31m4.3 MB/s\u001b[0m eta \u001b[36m0:00:00\u001b[0m\r\n",
      "\u001b[2K   \u001b[90m━━━━━━━━━━━━━━━━━━━━━━━━━━━━━━━━━━━━━━━━\u001b[0m \u001b[32m2.0/2.0 MB\u001b[0m \u001b[31m51.0 MB/s\u001b[0m eta \u001b[36m0:00:00\u001b[0m\r\n",
      "\u001b[2K   \u001b[90m━━━━━━━━━━━━━━━━━━━━━━━━━━━━━━━━━━━━━━━━\u001b[0m \u001b[32m101.6/101.6 kB\u001b[0m \u001b[31m4.6 MB/s\u001b[0m eta \u001b[36m0:00:00\u001b[0m\r\n",
      "\u001b[2K   \u001b[90m━━━━━━━━━━━━━━━━━━━━━━━━━━━━━━━━━━━━━━━━\u001b[0m \u001b[32m16.0/16.0 MB\u001b[0m \u001b[31m60.2 MB/s\u001b[0m eta \u001b[36m0:00:00\u001b[0m\r\n",
      "\u001b[2K   \u001b[90m━━━━━━━━━━━━━━━━━━━━━━━━━━━━━━━━━━━━━━━━\u001b[0m \u001b[32m55.9/55.9 kB\u001b[0m \u001b[31m2.8 MB/s\u001b[0m eta \u001b[36m0:00:00\u001b[0m\r\n",
      "\u001b[2K   \u001b[90m━━━━━━━━━━━━━━━━━━━━━━━━━━━━━━━━━━━━━━━━\u001b[0m \u001b[32m188.4/188.4 kB\u001b[0m \u001b[31m10.7 MB/s\u001b[0m eta \u001b[36m0:00:00\u001b[0m\r\n",
      "\u001b[2K   \u001b[90m━━━━━━━━━━━━━━━━━━━━━━━━━━━━━━━━━━━━━━━━\u001b[0m \u001b[32m65.3/65.3 kB\u001b[0m \u001b[31m3.3 MB/s\u001b[0m eta \u001b[36m0:00:00\u001b[0m\r\n",
      "\u001b[2K   \u001b[90m━━━━━━━━━━━━━━━━━━━━━━━━━━━━━━━━━━━━━━━━\u001b[0m \u001b[32m119.0/119.0 kB\u001b[0m \u001b[31m5.9 MB/s\u001b[0m eta \u001b[36m0:00:00\u001b[0m\r\n",
      "\u001b[2K   \u001b[90m━━━━━━━━━━━━━━━━━━━━━━━━━━━━━━━━━━━━━━━━\u001b[0m \u001b[32m89.1/89.1 kB\u001b[0m \u001b[31m4.6 MB/s\u001b[0m eta \u001b[36m0:00:00\u001b[0m\r\n",
      "\u001b[2K   \u001b[90m━━━━━━━━━━━━━━━━━━━━━━━━━━━━━━━━━━━━━━━━\u001b[0m \u001b[32m62.4/62.4 kB\u001b[0m \u001b[31m2.9 MB/s\u001b[0m eta \u001b[36m0:00:00\u001b[0m\r\n",
      "\u001b[2K   \u001b[90m━━━━━━━━━━━━━━━━━━━━━━━━━━━━━━━━━━━━━━━━\u001b[0m \u001b[32m459.8/459.8 kB\u001b[0m \u001b[31m21.9 MB/s\u001b[0m eta \u001b[36m0:00:00\u001b[0m\r\n",
      "\u001b[2K   \u001b[90m━━━━━━━━━━━━━━━━━━━━━━━━━━━━━━━━━━━━━━━━\u001b[0m \u001b[32m319.7/319.7 kB\u001b[0m \u001b[31m16.1 MB/s\u001b[0m eta \u001b[36m0:00:00\u001b[0m\r\n",
      "\u001b[2K   \u001b[90m━━━━━━━━━━━━━━━━━━━━━━━━━━━━━━━━━━━━━━━━\u001b[0m \u001b[32m72.0/72.0 kB\u001b[0m \u001b[31m3.8 MB/s\u001b[0m eta \u001b[36m0:00:00\u001b[0m\r\n",
      "\u001b[2K   \u001b[90m━━━━━━━━━━━━━━━━━━━━━━━━━━━━━━━━━━━━━━━━\u001b[0m \u001b[32m4.0/4.0 MB\u001b[0m \u001b[31m71.0 MB/s\u001b[0m eta \u001b[36m0:00:00\u001b[0m\r\n",
      "\u001b[2K   \u001b[90m━━━━━━━━━━━━━━━━━━━━━━━━━━━━━━━━━━━━━━━━\u001b[0m \u001b[32m454.8/454.8 kB\u001b[0m \u001b[31m20.2 MB/s\u001b[0m eta \u001b[36m0:00:00\u001b[0m\r\n",
      "\u001b[2K   \u001b[90m━━━━━━━━━━━━━━━━━━━━━━━━━━━━━━━━━━━━━━━━\u001b[0m \u001b[32m46.0/46.0 kB\u001b[0m \u001b[31m2.1 MB/s\u001b[0m eta \u001b[36m0:00:00\u001b[0m\r\n",
      "\u001b[2K   \u001b[90m━━━━━━━━━━━━━━━━━━━━━━━━━━━━━━━━━━━━━━━━\u001b[0m \u001b[32m86.8/86.8 kB\u001b[0m \u001b[31m3.5 MB/s\u001b[0m eta \u001b[36m0:00:00\u001b[0m\r\n",
      "\u001b[?25h  Building wheel for pypika (pyproject.toml) ... \u001b[?25l\u001b[?25hdone\r\n",
      "\u001b[31mERROR: pip's dependency resolver does not currently take into account all the packages that are installed. This behaviour is the source of the following dependency conflicts.\r\n",
      "jupyterlab-lsp 3.10.2 requires jupyterlab<4.0.0a0,>=3.1.0, which is not installed.\r\n",
      "pandas-gbq 0.26.1 requires google-cloud-bigquery<4.0.0dev,>=3.4.2, which is not installed.\r\n",
      "bigframes 1.36.0 requires google-cloud-bigquery[bqstorage,pandas]>=3.18.0, which is not installed.\r\n",
      "google-cloud-aiplatform 1.79.0 requires google-cloud-bigquery!=3.20.0,<4.0.0dev,>=1.15.0, which is not installed.\r\n",
      "google-cloud-translate 3.12.1 requires protobuf!=3.20.0,!=3.20.1,!=4.21.0,!=4.21.1,!=4.21.2,!=4.21.3,!=4.21.4,!=4.21.5,<5.0.0dev,>=3.19.5, but you have protobuf 5.29.4 which is incompatible.\r\n",
      "google-api-core 1.34.1 requires protobuf!=3.20.0,!=3.20.1,!=4.21.0,!=4.21.1,!=4.21.2,!=4.21.3,!=4.21.4,!=4.21.5,<4.0.0dev,>=3.19.5, but you have protobuf 5.29.4 which is incompatible.\r\n",
      "google-spark-connect 0.5.2 requires google-api-core>=2.19.1, but you have google-api-core 1.34.1 which is incompatible.\r\n",
      "pandas-gbq 0.26.1 requires google-api-core<3.0.0dev,>=2.10.2, but you have google-api-core 1.34.1 which is incompatible.\r\n",
      "bigframes 1.36.0 requires rich<14,>=12.4.4, but you have rich 14.0.0 which is incompatible.\r\n",
      "google-cloud-bigtable 2.28.1 requires google-api-core[grpc]<3.0.0dev,>=2.16.0, but you have google-api-core 1.34.1 which is incompatible.\u001b[0m\u001b[31m\r\n",
      "\u001b[0m"
     ]
    }
   ],
   "source": [
    "!pip install -qU \"google-genai==1.7.0\" \"chromadb==0.6.3\""
   ]
  },
  {
   "cell_type": "markdown",
   "id": "f16b55fe",
   "metadata": {
    "papermill": {
     "duration": 0.007363,
     "end_time": "2025-04-16T12:04:42.795112",
     "exception": false,
     "start_time": "2025-04-16T12:04:42.787749",
     "status": "completed"
    },
    "tags": []
   },
   "source": [
    "Verify installed genai version"
   ]
  },
  {
   "cell_type": "code",
   "execution_count": 3,
   "id": "977913f0",
   "metadata": {
    "execution": {
     "iopub.execute_input": "2025-04-16T12:04:42.811836Z",
     "iopub.status.busy": "2025-04-16T12:04:42.811483Z",
     "iopub.status.idle": "2025-04-16T12:04:44.127679Z",
     "shell.execute_reply": "2025-04-16T12:04:44.126713Z"
    },
    "papermill": {
     "duration": 1.326603,
     "end_time": "2025-04-16T12:04:44.129289",
     "exception": false,
     "start_time": "2025-04-16T12:04:42.802686",
     "status": "completed"
    },
    "tags": []
   },
   "outputs": [
    {
     "data": {
      "text/plain": [
       "'1.7.0'"
      ]
     },
     "execution_count": 3,
     "metadata": {},
     "output_type": "execute_result"
    }
   ],
   "source": [
    "from google import genai\n",
    "from google.genai import types\n",
    "\n",
    "genai.__version__"
   ]
  },
  {
   "cell_type": "markdown",
   "id": "e4b0b725",
   "metadata": {
    "papermill": {
     "duration": 0.007255,
     "end_time": "2025-04-16T12:04:44.144619",
     "exception": false,
     "start_time": "2025-04-16T12:04:44.137364",
     "status": "completed"
    },
    "tags": []
   },
   "source": [
    "Setup the API key and env variable."
   ]
  },
  {
   "cell_type": "code",
   "execution_count": 4,
   "id": "67ab70c8",
   "metadata": {
    "execution": {
     "iopub.execute_input": "2025-04-16T12:04:44.161579Z",
     "iopub.status.busy": "2025-04-16T12:04:44.161154Z",
     "iopub.status.idle": "2025-04-16T12:04:44.707161Z",
     "shell.execute_reply": "2025-04-16T12:04:44.706244Z"
    },
    "papermill": {
     "duration": 0.556149,
     "end_time": "2025-04-16T12:04:44.708793",
     "exception": false,
     "start_time": "2025-04-16T12:04:44.152644",
     "status": "completed"
    },
    "tags": []
   },
   "outputs": [],
   "source": [
    "import os\n",
    "from kaggle_secrets import UserSecretsClient\n",
    "\n",
    "GOOGLE_API_KEY = UserSecretsClient().get_secret(\"GOOGLE_API_KEY\")\n",
    "\n",
    "client = genai.Client(api_key=GOOGLE_API_KEY)\n",
    "\n",
    "# This is crucial, necessary for LangGraph invoke\n",
    "os.environ['GOOGLE_API_KEY'] = GOOGLE_API_KEY\n",
    "\n",
    "is_retriable = lambda e: (isinstance(e, genai.errors.APIError) and e.code in {429, 503})"
   ]
  },
  {
   "cell_type": "markdown",
   "id": "b04288c0",
   "metadata": {
    "execution": {
     "iopub.execute_input": "2025-04-11T14:18:48.778215Z",
     "iopub.status.busy": "2025-04-11T14:18:48.77787Z",
     "iopub.status.idle": "2025-04-11T14:18:48.782625Z",
     "shell.execute_reply": "2025-04-11T14:18:48.781857Z",
     "shell.execute_reply.started": "2025-04-11T14:18:48.778191Z"
    },
    "papermill": {
     "duration": 0.007372,
     "end_time": "2025-04-16T12:04:44.724819",
     "exception": false,
     "start_time": "2025-04-16T12:04:44.717447",
     "status": "completed"
    },
    "tags": []
   },
   "source": [
    "# 📚 Cookbook data corpus preparation\n",
    "\n",
    "From the attached dataset **Cookbooks** select some books and get the first N characters, based on which the titles will be retrieved later."
   ]
  },
  {
   "cell_type": "code",
   "execution_count": 5,
   "id": "06e9583e",
   "metadata": {
    "execution": {
     "iopub.execute_input": "2025-04-16T12:04:44.741374Z",
     "iopub.status.busy": "2025-04-16T12:04:44.741075Z",
     "iopub.status.idle": "2025-04-16T12:04:45.113433Z",
     "shell.execute_reply": "2025-04-16T12:04:45.112287Z"
    },
    "papermill": {
     "duration": 0.382659,
     "end_time": "2025-04-16T12:04:45.114923",
     "exception": false,
     "start_time": "2025-04-16T12:04:44.732264",
     "status": "completed"
    },
    "tags": []
   },
   "outputs": [
    {
     "name": "stdout",
     "output_type": "stream",
     "text": [
      "amem.txt\n",
      "chin.txt\n",
      "epia.txt\n",
      "grea.txt\n",
      "linc.txt\n"
     ]
    }
   ],
   "source": [
    "import os\n",
    "import re\n",
    "import json\n",
    "import typing_extensions as typing\n",
    "from google.api_core import retry\n",
    "\n",
    "CLIP = 250\n",
    "NUM_BOOKS = 5\n",
    "BOOKS_STEP = 12\n",
    "\n",
    "book_headers = []\n",
    "book_file_names = []\n",
    "\n",
    "for dirname, _, filenames in os.walk('/kaggle/input'):\n",
    "    for filename in sorted(filenames)[::BOOKS_STEP][:NUM_BOOKS]:\n",
    "        with open(os.path.join(dirname, filename), \"r\") as fh:\n",
    "            book = fh.read()\n",
    "\n",
    "        book_headers.append(book[:CLIP])\n",
    "        book_file_names.append(filename)\n",
    "        print(filename)"
   ]
  },
  {
   "cell_type": "markdown",
   "id": "167f1dfa",
   "metadata": {
    "execution": {
     "iopub.execute_input": "2025-04-11T14:20:58.710653Z",
     "iopub.status.busy": "2025-04-11T14:20:58.709996Z",
     "iopub.status.idle": "2025-04-11T14:20:58.714991Z",
     "shell.execute_reply": "2025-04-11T14:20:58.714141Z",
     "shell.execute_reply.started": "2025-04-11T14:20:58.710628Z"
    },
    "papermill": {
     "duration": 0.007317,
     "end_time": "2025-04-16T12:04:45.130573",
     "exception": false,
     "start_time": "2025-04-16T12:04:45.123256",
     "status": "completed"
    },
    "tags": []
   },
   "source": [
    "## 📝 Titles retrieval\n",
    "Define Pydantic model for a function output, to help structure the few_shot_prompt and LLM call output format.\n",
    "Capabilities:\n",
    "* **few shot prompting**\n",
    "* **structured output controlled generation**"
   ]
  },
  {
   "cell_type": "code",
   "execution_count": 6,
   "id": "3b398c8c",
   "metadata": {
    "execution": {
     "iopub.execute_input": "2025-04-16T12:04:45.147835Z",
     "iopub.status.busy": "2025-04-16T12:04:45.147383Z",
     "iopub.status.idle": "2025-04-16T12:04:45.153788Z",
     "shell.execute_reply": "2025-04-16T12:04:45.152855Z"
    },
    "papermill": {
     "duration": 0.01633,
     "end_time": "2025-04-16T12:04:45.155203",
     "exception": false,
     "start_time": "2025-04-16T12:04:45.138873",
     "status": "completed"
    },
    "tags": []
   },
   "outputs": [],
   "source": [
    "from pydantic import BaseModel, Field\n",
    "\n",
    "class BookInfo(BaseModel):\n",
    "    title: str = Field(description=\"Title of a book\")\n",
    "    authors: list[str] = Field(description=\"Book authors list\")"
   ]
  },
  {
   "cell_type": "code",
   "execution_count": 7,
   "id": "e3791362",
   "metadata": {
    "execution": {
     "iopub.execute_input": "2025-04-16T12:04:45.172449Z",
     "iopub.status.busy": "2025-04-16T12:04:45.172136Z",
     "iopub.status.idle": "2025-04-16T12:04:45.512427Z",
     "shell.execute_reply": "2025-04-16T12:04:45.511477Z"
    },
    "papermill": {
     "duration": 0.35075,
     "end_time": "2025-04-16T12:04:45.514095",
     "exception": false,
     "start_time": "2025-04-16T12:04:45.163345",
     "status": "completed"
    },
    "tags": []
   },
   "outputs": [],
   "source": [
    "from langchain_core.prompts import PromptTemplate, FewShotPromptTemplate\n",
    "from langchain_core.example_selectors import LengthBasedExampleSelector\n",
    "from langchain_core.output_parsers import JsonOutputParser\n",
    "\n",
    "few_shot_prompt_instruction = \"Parse the begining of given book to retrieve title and authors. Note there can be many new-line characters inside the text.\"\n",
    "examples = [{\"input\": \"\\n \\n \\n \\n The American Woman's Home: or, Principles of Domestic Science; being a Guide to the Formation and Maintenance of Economical, Healthful, Beautiful, and Christian Homes.  Beecher, Catharine Esther  Stowe, Harriet Beecher  Home economics.  Introduction. The Christian Family. A Christian House. A Healthful Home.\",\n",
    "            \"output\": \n",
    "                \"\"\"\n",
    "                title: \"The American Woman's Home: or, Principles of Domestic Science; being a Guide to the Formation and Maintenance of Economical, Healthful, Beautiful, and Christian Homes.\\n\"\n",
    "                authors: [\"Catharine Beecher\", \"Stowe Esther\", \"Beecher Harriet\"]\n",
    "                \"\"\",\n",
    "            },           \n",
    "            {\"input\": \"\\n\\n Directions for Cookery, in its Various Branches.\\n Leslie, Eliza \\nCookery, American.\\n\",\n",
    "            \"output\":\n",
    "                \"\"\"\n",
    "                title: \"Directions for Cookery, in its Various Branches.\"\n",
    "                authors: [\"Eliza Leslie\"]\n",
    "                \"\"\",\n",
    "            },\n",
    "            {\"input\": \"\\n\\n \\n\\n \\nA bookplate illustration of a illuminated reading lap and an open book.  \\nThis book belongs to Beatrice V. Grant.\\n\\n\",\n",
    "            \"output\":\n",
    "                \"\"\"\n",
    "                title: \"A bookplate illustration of a illuminated reading lap and an open book.\"\n",
    "                authors: [\"Beatrice V. Grant\"]\n",
    "                \"\"\"\n",
    "           }]\n",
    "\n",
    "example_prompt = PromptTemplate(\n",
    "    input_variables = [\"input\", \"output\"],\n",
    "    template = \"EXAMPLE: {input}\\nResponse: {output}\",  \n",
    ")\n",
    "\n",
    "example_selector = LengthBasedExampleSelector(\n",
    "    examples=examples,\n",
    "    example_prompt=example_prompt,\n",
    "    max_length=500,\n",
    ")\n",
    "\n",
    "output_parser = JsonOutputParser(pydantic_object=BookInfo)\n",
    "format_instructions = output_parser.get_format_instructions()\n",
    "\n",
    "dynamic_prompt = FewShotPromptTemplate(\n",
    "    example_selector=example_selector,\n",
    "    example_prompt=example_prompt,\n",
    "    prefix=few_shot_prompt_instruction + \"\\n {format_instructions}\",\n",
    "    suffix=\"EXAMPLE: {header}\\nResponse:\",\n",
    "    input_variables=[\"header\"],\n",
    "    partial_variables={\"format_instructions\": format_instructions},\n",
    ")"
   ]
  },
  {
   "cell_type": "code",
   "execution_count": 8,
   "id": "3037cd5e",
   "metadata": {
    "execution": {
     "iopub.execute_input": "2025-04-16T12:04:45.532263Z",
     "iopub.status.busy": "2025-04-16T12:04:45.531519Z",
     "iopub.status.idle": "2025-04-16T12:04:45.537356Z",
     "shell.execute_reply": "2025-04-16T12:04:45.536152Z"
    },
    "papermill": {
     "duration": 0.016779,
     "end_time": "2025-04-16T12:04:45.539210",
     "exception": false,
     "start_time": "2025-04-16T12:04:45.522431",
     "status": "completed"
    },
    "tags": []
   },
   "outputs": [
    {
     "name": "stdout",
     "output_type": "stream",
     "text": [
      "Parse the begining of given book to retrieve title and authors. Note there can be many new-line characters inside the text.\n",
      " The output should be formatted as a JSON instance that conforms to the JSON schema below.\n",
      "\n",
      "As an example, for the schema {\"properties\": {\"foo\": {\"title\": \"Foo\", \"description\": \"a list of strings\", \"type\": \"array\", \"items\": {\"type\": \"string\"}}}, \"required\": [\"foo\"]}\n",
      "the object {\"foo\": [\"bar\", \"baz\"]} is a well-formatted instance of the schema. The object {\"properties\": {\"foo\": [\"bar\", \"baz\"]}} is not well-formatted.\n",
      "\n",
      "Here is the output schema:\n",
      "```\n",
      "{\"properties\": {\"title\": {\"description\": \"Title of a book\", \"title\": \"Title\", \"type\": \"string\"}, \"authors\": {\"description\": \"Book authors list\", \"items\": {\"type\": \"string\"}, \"title\": \"Authors\", \"type\": \"array\"}}, \"required\": [\"title\", \"authors\"]}\n",
      "```\n",
      "\n",
      "EXAMPLE: \n",
      " \n",
      " \n",
      " \n",
      " The American Woman's Home: or, Principles of Domestic Science; being a Guide to the Formation and Maintenance of Economical, Healthful, Beautiful, and Christian Homes.  Beecher, Catharine Esther  Stowe, Harriet Beecher  Home economics.  Introduction. The Christian Family. A Christian House. A Healthful Home.\n",
      "Response: \n",
      "                title: \"The American Woman's Home: or, Principles of Domestic Science; being a Guide to the Formation and Maintenance of Economical, Healthful, Beautiful, and Christian Homes.\n",
      "\"\n",
      "                authors: [\"Catharine Beecher\", \"Stowe Esther\", \"Beecher Harriet\"]\n",
      "                \n",
      "\n",
      "EXAMPLE: \n",
      "\n",
      " Directions for Cookery, in its Various Branches.\n",
      " Leslie, Eliza \n",
      "Cookery, American.\n",
      "\n",
      "Response: \n",
      "                title: \"Directions for Cookery, in its Various Branches.\"\n",
      "                authors: [\"Eliza Leslie\"]\n",
      "                \n",
      "\n",
      "EXAMPLE: \n",
      "\n",
      " \n",
      "\n",
      " \n",
      "A bookplate illustration of a illuminated reading lap and an open book.  \n",
      "This book belongs to Beatrice V. Grant.\n",
      "\n",
      "\n",
      "Response: \n",
      "                title: \"A bookplate illustration of a illuminated reading lap and an open book.\"\n",
      "                authors: [\"Beatrice V. Grant\"]\n",
      "                \n",
      "\n",
      "EXAMPLE: Cookbook for oldies. Mr. Matuzalem\n",
      "Response:\n"
     ]
    }
   ],
   "source": [
    "print(dynamic_prompt.format(header=\"Cookbook for oldies. Mr. Matuzalem\"))"
   ]
  },
  {
   "cell_type": "code",
   "execution_count": 9,
   "id": "00035ee8",
   "metadata": {
    "execution": {
     "iopub.execute_input": "2025-04-16T12:04:45.556604Z",
     "iopub.status.busy": "2025-04-16T12:04:45.556283Z",
     "iopub.status.idle": "2025-04-16T12:04:49.009211Z",
     "shell.execute_reply": "2025-04-16T12:04:49.008138Z"
    },
    "papermill": {
     "duration": 3.463289,
     "end_time": "2025-04-16T12:04:49.010769",
     "exception": false,
     "start_time": "2025-04-16T12:04:45.547480",
     "status": "completed"
    },
    "tags": []
   },
   "outputs": [
    {
     "name": "stdout",
     "output_type": "stream",
     "text": [
      "=========================\n",
      "Original book header:\n",
      "\n",
      " \n",
      " \n",
      "\n",
      " \n",
      "  \n",
      "\n",
      " \n",
      " \n",
      " \n",
      "\n",
      "\n",
      " The American Matron: Or, Practical and Scientific Cookery. \n",
      "\n",
      "\n",
      " By a Housekeeper. \n",
      "\n",
      "\n",
      " Boston: J. Munroe &amp; Co., 1851 \n",
      "\n",
      " [Page images for  The American Matron  were produced before MSU began the \"Feeding America\" digitization pro\n",
      "=========================\n",
      "Retrieved title and authors:\n",
      "{'title': 'The American Matron: Or, Practical and Scientific Cookery.', 'authors': ['A Housekeeper']}\n",
      "\n",
      "=========================\n",
      "\n",
      "=========================\n",
      "Original book header:\n",
      "\n",
      " \n",
      " \n",
      "  \n",
      " \n",
      " Chinese-Japanese Cook Book \n",
      " Bosse, Sara \n",
      " Watanna, Onoto \n",
      " Cookery, Chinese. Cookery, Japanese. Cookery, American. \n",
      " Part 1 Chinese Recipes. Rules for Cooking. Soups. Gravy. Fish. Poultry and Game. Meats. Chop Sueys. Chow Mains. Fried Rice\n",
      "=========================\n",
      "Retrieved title and authors:\n",
      "{'title': 'Chinese-Japanese Cook Book', 'authors': ['Sara Bosse', 'Onoto Watanna']}\n",
      "\n",
      "=========================\n",
      "\n",
      "=========================\n",
      "Original book header:\n",
      "\n",
      " \n",
      " \n",
      " \n",
      "  The Epicurean...  Ranhofer, Charles.  Cookery, American. Cookery, French. Menus.  Complete title: The Epicurean. A complete treatise of Analytical and Practical Studies on the Culinary Art including Table and Wine Service, How to Prepare and \n",
      "=========================\n",
      "Retrieved title and authors:\n",
      "{'title': 'The Epicurean...', 'authors': ['Charles Ranhofer']}\n",
      "\n",
      "=========================\n",
      "\n",
      "=========================\n",
      "Original book header:\n",
      "\n",
      " \n",
      " \n",
      " \n",
      " \n",
      "  The Great Western Cook Book, or Table Receipts, Adapted to Western Housewifery.  Collins, Anna Maria  Cookery, American.  Soups and broths. Fish. Boiling. Sauces and gravies. Pickling. Vegetables. Bread. Roasting. Broiling, etc. Preserves. \n",
      "=========================\n",
      "Retrieved title and authors:\n",
      "{'title': 'The Great Western Cook Book, or Table Receipts, Adapted to Western Housewifery.', 'authors': ['Anna Maria Collins']}\n",
      "\n",
      "=========================\n",
      "\n",
      "=========================\n",
      "Original book header:\n",
      "\n",
      " \n",
      " \n",
      " \n",
      " \n",
      " Mrs. Lincoln's Boston Cook Book. What to Do and What Not to Do in Cooking. \n",
      " Lincoln, Mary Johnson \n",
      " Cookery, American. \n",
      " Introduction. Bread and Bread Making. Receipts for Yeast and Bread. Raised Biscuit, Rolls, etc. Stale Bread, Toast, etc\n",
      "=========================\n",
      "Retrieved title and authors:\n",
      "{'title': \"Mrs. Lincoln's Boston Cook Book. What to Do and What Not to Do in Cooking.\", 'authors': ['Mary Johnson Lincoln']}\n",
      "\n",
      "=========================\n",
      "\n"
     ]
    }
   ],
   "source": [
    "from langchain_google_genai import GoogleGenerativeAI\n",
    "\n",
    "llm = GoogleGenerativeAI(model=\"gemini-1.5-flash\")\n",
    "\n",
    "@retry.Retry(predicate=is_retriable, timeout=3.0)\n",
    "def extract_header_meta(book_header: str) -> dict:\n",
    "\n",
    "    chain = dynamic_prompt | llm | output_parser\n",
    "    \n",
    "    return chain.invoke({\"header\": book_header})\n",
    "    \n",
    "\n",
    "titles_retrieved = [] \n",
    "for book_header in book_headers:\n",
    "    print(\"=========================\")\n",
    "    print(\"Original book header:\\n\")\n",
    "    print(book_header)\n",
    "\n",
    "    try:        \n",
    "        book_info = extract_header_meta(book_header)\n",
    "        titles_retrieved.append(book_info.get(\"title\"))\n",
    "        print(\"=========================\")\n",
    "        print(\"Retrieved title and authors:\")\n",
    "        print(book_info)\n",
    "        print(\"\")\n",
    "    except:\n",
    "        print(\"error\")\n",
    "        titles_retrieved.append(\"\")\n",
    "    print(\"=========================\\n\")"
   ]
  },
  {
   "cell_type": "markdown",
   "id": "b8f0a43b",
   "metadata": {
    "papermill": {
     "duration": 0.008897,
     "end_time": "2025-04-16T12:04:49.028187",
     "exception": false,
     "start_time": "2025-04-16T12:04:49.019290",
     "status": "completed"
    },
    "tags": []
   },
   "source": [
    "# 🧠 RAG utilities\n",
    "## Basic text chunking"
   ]
  },
  {
   "cell_type": "markdown",
   "id": "a3a30b29",
   "metadata": {
    "papermill": {
     "duration": 0.008199,
     "end_time": "2025-04-16T12:04:49.044631",
     "exception": false,
     "start_time": "2025-04-16T12:04:49.036432",
     "status": "completed"
    },
    "tags": []
   },
   "source": [
    "## Embedding function for RAG system\n",
    "This will make embeddings of text chunks (obtained with dummy_chunk_text) that will be stored in a vector database. Later a user query will allow to retrieve (hopefully) the most relevant chunks."
   ]
  },
  {
   "cell_type": "markdown",
   "id": "6cbc4c74",
   "metadata": {
    "execution": {
     "iopub.execute_input": "2025-04-11T14:26:45.734163Z",
     "iopub.status.busy": "2025-04-11T14:26:45.733768Z",
     "iopub.status.idle": "2025-04-11T14:26:45.74075Z",
     "shell.execute_reply": "2025-04-11T14:26:45.739642Z",
     "shell.execute_reply.started": "2025-04-11T14:26:45.734136Z"
    },
    "papermill": {
     "duration": 0.007725,
     "end_time": "2025-04-16T12:04:49.060545",
     "exception": false,
     "start_time": "2025-04-16T12:04:49.052820",
     "status": "completed"
    },
    "tags": []
   },
   "source": [
    "Helper method to navigate through book titles."
   ]
  },
  {
   "cell_type": "markdown",
   "id": "1264f8bb",
   "metadata": {
    "papermill": {
     "duration": 0.008287,
     "end_time": "2025-04-16T12:04:49.076900",
     "exception": false,
     "start_time": "2025-04-16T12:04:49.068613",
     "status": "completed"
    },
    "tags": []
   },
   "source": [
    "# 🔩 Tools for LLM to use\n",
    "Several tools are specified here:\n",
    "* find_cuisine - Find appropriate cookbook based on how the provided query matches the title of a book - based on semantic similarity (capability: **Embeddings**)\n",
    "* summarize_cookbook - Summarize cookbook (perform indexing with vector database) - (capability: **RAG**)\n",
    "* retrieve_recipe - Retrieves relevant information about user requested recipe - (capability: **RAG**)\n",
    "* order_ingredients - Orders desired ingredients in the nearby store - (capability: just **function calling** like other methods)"
   ]
  },
  {
   "cell_type": "markdown",
   "id": "68c3df45",
   "metadata": {
    "papermill": {
     "duration": 0.00775,
     "end_time": "2025-04-16T12:04:49.092772",
     "exception": false,
     "start_time": "2025-04-16T12:04:49.085022",
     "status": "completed"
    },
    "tags": []
   },
   "source": [
    "Gather tools and prepare chat bot instructions."
   ]
  },
  {
   "cell_type": "markdown",
   "id": "678da691",
   "metadata": {
    "papermill": {
     "duration": 0.007682,
     "end_time": "2025-04-16T12:04:49.108729",
     "exception": false,
     "start_time": "2025-04-16T12:04:49.101047",
     "status": "completed"
    },
    "tags": []
   },
   "source": [
    "# 💬 Configure the chat and start conversation"
   ]
  },
  {
   "cell_type": "markdown",
   "id": "da4e0cb6",
   "metadata": {
    "papermill": {
     "duration": 0.007743,
     "end_time": "2025-04-16T12:04:49.124460",
     "exception": false,
     "start_time": "2025-04-16T12:04:49.116717",
     "status": "completed"
    },
    "tags": []
   },
   "source": [
    "## Preview the details of conversation"
   ]
  },
  {
   "cell_type": "markdown",
   "id": "d4bf2485",
   "metadata": {
    "papermill": {
     "duration": 0.007775,
     "end_time": "2025-04-16T12:04:49.140429",
     "exception": false,
     "start_time": "2025-04-16T12:04:49.132654",
     "status": "completed"
    },
    "tags": []
   },
   "source": [
    "# 🥷 Agentic approach "
   ]
  },
  {
   "cell_type": "markdown",
   "id": "6e76154c",
   "metadata": {
    "papermill": {
     "duration": 0.009468,
     "end_time": "2025-04-16T12:04:49.162793",
     "exception": false,
     "start_time": "2025-04-16T12:04:49.153325",
     "status": "completed"
    },
    "tags": []
   },
   "source": [
    "## State class\n",
    "Prepare class to store conversation history and success state of the conversation, along with ingredients lits."
   ]
  },
  {
   "cell_type": "markdown",
   "id": "191c498f",
   "metadata": {
    "papermill": {
     "duration": 0.012895,
     "end_time": "2025-04-16T12:04:49.184230",
     "exception": false,
     "start_time": "2025-04-16T12:04:49.171335",
     "status": "completed"
    },
    "tags": []
   },
   "source": [
    "## Extended and updated instruction for the Agent"
   ]
  },
  {
   "cell_type": "markdown",
   "id": "d13dfd33",
   "metadata": {
    "papermill": {
     "duration": 0.010606,
     "end_time": "2025-04-16T12:04:49.208341",
     "exception": false,
     "start_time": "2025-04-16T12:04:49.197735",
     "status": "completed"
    },
    "tags": []
   },
   "source": [
    "## Tools for the Agent and nodes for the graph"
   ]
  },
  {
   "cell_type": "markdown",
   "id": "fd9af866",
   "metadata": {
    "papermill": {
     "duration": 0.01292,
     "end_time": "2025-04-16T12:04:49.231442",
     "exception": false,
     "start_time": "2025-04-16T12:04:49.218522",
     "status": "completed"
    },
    "tags": []
   },
   "source": [
    "## Conditional edges"
   ]
  },
  {
   "cell_type": "markdown",
   "id": "ff255f9d",
   "metadata": {
    "execution": {
     "iopub.execute_input": "2025-04-12T16:44:25.338846Z",
     "iopub.status.busy": "2025-04-12T16:44:25.338429Z",
     "iopub.status.idle": "2025-04-12T16:44:25.344372Z",
     "shell.execute_reply": "2025-04-12T16:44:25.342927Z",
     "shell.execute_reply.started": "2025-04-12T16:44:25.338822Z"
    },
    "papermill": {
     "duration": 0.007871,
     "end_time": "2025-04-16T12:04:49.249169",
     "exception": false,
     "start_time": "2025-04-16T12:04:49.241298",
     "status": "completed"
    },
    "tags": []
   },
   "source": [
    "## Full graph building for the Agent"
   ]
  },
  {
   "cell_type": "markdown",
   "id": "388aa51d",
   "metadata": {
    "papermill": {
     "duration": 0.00754,
     "end_time": "2025-04-16T12:04:49.264768",
     "exception": false,
     "start_time": "2025-04-16T12:04:49.257228",
     "status": "completed"
    },
    "tags": []
   },
   "source": [
    "## 💬 Test the Agentic Chatbot \n",
    "In this notebook a pre arranged user messages are run in a chat with the bot."
   ]
  }
 ],
 "metadata": {
  "kaggle": {
   "accelerator": "none",
   "dataSources": [
    {
     "sourceId": 97258,
     "sourceType": "competition"
    },
    {
     "datasetId": 512760,
     "sourceId": 945693,
     "sourceType": "datasetVersion"
    }
   ],
   "dockerImageVersionId": 31012,
   "isGpuEnabled": false,
   "isInternetEnabled": true,
   "language": "python",
   "sourceType": "notebook"
  },
  "kernelspec": {
   "display_name": "Python 3",
   "language": "python",
   "name": "python3"
  },
  "language_info": {
   "codemirror_mode": {
    "name": "ipython",
    "version": 3
   },
   "file_extension": ".py",
   "mimetype": "text/x-python",
   "name": "python",
   "nbconvert_exporter": "python",
   "pygments_lexer": "ipython3",
   "version": "3.11.11"
  },
  "papermill": {
   "default_parameters": {},
   "duration": 78.286113,
   "end_time": "2025-04-16T12:04:50.094386",
   "environment_variables": {},
   "exception": null,
   "input_path": "__notebook__.ipynb",
   "output_path": "__notebook__.ipynb",
   "parameters": {},
   "start_time": "2025-04-16T12:03:31.808273",
   "version": "2.6.0"
  }
 },
 "nbformat": 4,
 "nbformat_minor": 5
}
