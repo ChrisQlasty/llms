{
 "cells": [
  {
   "cell_type": "markdown",
   "id": "beff1a12",
   "metadata": {
    "papermill": {
     "duration": 0.008977,
     "end_time": "2025-04-17T13:18:50.205632",
     "exception": false,
     "start_time": "2025-04-17T13:18:50.196655",
     "status": "completed"
    },
    "tags": []
   },
   "source": [
    "# 📖 Introduction"
   ]
  },
  {
   "cell_type": "markdown",
   "id": "0b1b0483",
   "metadata": {
    "_cell_guid": "b1076dfc-b9ad-4769-8c92-a6c4dae69d19",
    "_uuid": "8f2839f25d086af736a60e9eeb907d3b93b6e0e5",
    "papermill": {
     "duration": 0.007777,
     "end_time": "2025-04-17T13:18:50.220757",
     "exception": false,
     "start_time": "2025-04-17T13:18:50.212980",
     "status": "completed"
    },
    "tags": []
   },
   "source": [
    "This is a notebook that summarizes some of the knowledge gained through the **5-day Gen AI Intensive Course with Google** in a form of the **Gen AI Intensive Course Capstone 2025Q1**.  \n",
    "\n",
    "## It is a refactored approach to use **LangChain** capabilities where possible.\n",
    "\n",
    "It implements the intelligent chef assistant bot, whose main capabilities are:\n",
    "* selection of proper cookbook based on users suggestion\n",
    "* suggestion of a recipe eg. based on available ingredients\n",
    "* dummy ordering of ingredients\n",
    "\n",
    "The **gen AI capabilities** used in the notebook are:  \n",
    "✅ Embeddings  \n",
    "✅ Few shot prompting  \n",
    "✅ Structured output/JSON mode/controlled generation  \n",
    "✅ Retrieval augmented generation (RAG)  \n",
    "✅ Vector search/vector store/vector database   \n",
    "✅ Agents with LangGraph"
   ]
  },
  {
   "cell_type": "markdown",
   "id": "edf3a54a",
   "metadata": {
    "papermill": {
     "duration": 0.006654,
     "end_time": "2025-04-17T13:18:50.234297",
     "exception": false,
     "start_time": "2025-04-17T13:18:50.227643",
     "status": "completed"
    },
    "tags": []
   },
   "source": [
    "# ⚒ Installation and setup"
   ]
  },
  {
   "cell_type": "code",
   "execution_count": 1,
   "id": "8c7f4642",
   "metadata": {
    "execution": {
     "iopub.execute_input": "2025-04-17T13:18:50.249347Z",
     "iopub.status.busy": "2025-04-17T13:18:50.248952Z",
     "iopub.status.idle": "2025-04-17T13:19:31.864530Z",
     "shell.execute_reply": "2025-04-17T13:19:31.863291Z"
    },
    "papermill": {
     "duration": 41.62541,
     "end_time": "2025-04-17T13:19:31.866436",
     "exception": false,
     "start_time": "2025-04-17T13:18:50.241026",
     "status": "completed"
    },
    "tags": []
   },
   "outputs": [
    {
     "name": "stdout",
     "output_type": "stream",
     "text": [
      "\u001b[33mWARNING: Skipping kfp as it is not installed.\u001b[0m\u001b[33m\r\n",
      "\u001b[2K     \u001b[90m━━━━━━━━━━━━━━━━━━━━━━━━━━━━━━━━━━━━━━━━\u001b[0m \u001b[32m43.5/43.5 kB\u001b[0m \u001b[31m1.3 MB/s\u001b[0m eta \u001b[36m0:00:00\u001b[0m\r\n",
      "\u001b[2K   \u001b[90m━━━━━━━━━━━━━━━━━━━━━━━━━━━━━━━━━━━━━━━━\u001b[0m \u001b[32m138.0/138.0 kB\u001b[0m \u001b[31m4.2 MB/s\u001b[0m eta \u001b[36m0:00:00\u001b[0m\r\n",
      "\u001b[2K   \u001b[90m━━━━━━━━━━━━━━━━━━━━━━━━━━━━━━━━━━━━━━━━\u001b[0m \u001b[32m42.0/42.0 kB\u001b[0m \u001b[31m1.9 MB/s\u001b[0m eta \u001b[36m0:00:00\u001b[0m\r\n",
      "\u001b[2K   \u001b[90m━━━━━━━━━━━━━━━━━━━━━━━━━━━━━━━━━━━━━━━━\u001b[0m \u001b[32m1.0/1.0 MB\u001b[0m \u001b[31m20.4 MB/s\u001b[0m eta \u001b[36m0:00:00\u001b[0m\r\n",
      "\u001b[2K   \u001b[90m━━━━━━━━━━━━━━━━━━━━━━━━━━━━━━━━━━━━━━━━\u001b[0m \u001b[32m2.5/2.5 MB\u001b[0m \u001b[31m54.4 MB/s\u001b[0m eta \u001b[36m0:00:00\u001b[0m\r\n",
      "\u001b[2K   \u001b[90m━━━━━━━━━━━━━━━━━━━━━━━━━━━━━━━━━━━━━━━━\u001b[0m \u001b[32m1.4/1.4 MB\u001b[0m \u001b[31m46.3 MB/s\u001b[0m eta \u001b[36m0:00:00\u001b[0m\r\n",
      "\u001b[2K   \u001b[90m━━━━━━━━━━━━━━━━━━━━━━━━━━━━━━━━━━━━━━━━\u001b[0m \u001b[32m433.6/433.6 kB\u001b[0m \u001b[31m20.6 MB/s\u001b[0m eta \u001b[36m0:00:00\u001b[0m\r\n",
      "\u001b[2K   \u001b[90m━━━━━━━━━━━━━━━━━━━━━━━━━━━━━━━━━━━━━━━━\u001b[0m \u001b[32m42.0/42.0 kB\u001b[0m \u001b[31m2.1 MB/s\u001b[0m eta \u001b[36m0:00:00\u001b[0m\r\n",
      "\u001b[2K   \u001b[90m━━━━━━━━━━━━━━━━━━━━━━━━━━━━━━━━━━━━━━━━\u001b[0m \u001b[32m47.2/47.2 kB\u001b[0m \u001b[31m2.1 MB/s\u001b[0m eta \u001b[36m0:00:00\u001b[0m\r\n",
      "\u001b[2K   \u001b[90m━━━━━━━━━━━━━━━━━━━━━━━━━━━━━━━━━━━━━━━━\u001b[0m \u001b[32m223.6/223.6 kB\u001b[0m \u001b[31m10.8 MB/s\u001b[0m eta \u001b[36m0:00:00\u001b[0m\r\n",
      "\u001b[?25h"
     ]
    }
   ],
   "source": [
    "!pip uninstall -qqy kfp jupyterlab libpysal thinc spacy fastai ydata-profiling google-cloud-bigquery google-generativeai\n",
    "\n",
    "!pip install -qU 'langgraph==0.3.21' 'langchain-google-genai==2.1.2' 'langgraph-prebuilt==0.1.7' 'langchain' 'langchain-community'"
   ]
  },
  {
   "cell_type": "code",
   "execution_count": 2,
   "id": "d2c64914",
   "metadata": {
    "execution": {
     "iopub.execute_input": "2025-04-17T13:19:31.885196Z",
     "iopub.status.busy": "2025-04-17T13:19:31.884536Z",
     "iopub.status.idle": "2025-04-17T13:19:58.268935Z",
     "shell.execute_reply": "2025-04-17T13:19:58.267573Z"
    },
    "papermill": {
     "duration": 26.395781,
     "end_time": "2025-04-17T13:19:58.270861",
     "exception": false,
     "start_time": "2025-04-17T13:19:31.875080",
     "status": "completed"
    },
    "tags": []
   },
   "outputs": [
    {
     "name": "stdout",
     "output_type": "stream",
     "text": [
      "\u001b[2K     \u001b[90m━━━━━━━━━━━━━━━━━━━━━━━━━━━━━━━━━━━━━━━━\u001b[0m \u001b[32m67.3/67.3 kB\u001b[0m \u001b[31m3.4 MB/s\u001b[0m eta \u001b[36m0:00:00\u001b[0m\r\n",
      "\u001b[?25h  Installing build dependencies ... \u001b[?25l\u001b[?25hdone\r\n",
      "  Getting requirements to build wheel ... \u001b[?25l\u001b[?25hdone\r\n",
      "  Preparing metadata (pyproject.toml) ... \u001b[?25l\u001b[?25hdone\r\n",
      "\u001b[2K   \u001b[90m━━━━━━━━━━━━━━━━━━━━━━━━━━━━━━━━━━━━━━━━\u001b[0m \u001b[32m144.7/144.7 kB\u001b[0m \u001b[31m5.2 MB/s\u001b[0m eta \u001b[36m0:00:00\u001b[0m\r\n",
      "\u001b[2K   \u001b[90m━━━━━━━━━━━━━━━━━━━━━━━━━━━━━━━━━━━━━━━━\u001b[0m \u001b[32m611.1/611.1 kB\u001b[0m \u001b[31m15.7 MB/s\u001b[0m eta \u001b[36m0:00:00\u001b[0m\r\n",
      "\u001b[2K   \u001b[90m━━━━━━━━━━━━━━━━━━━━━━━━━━━━━━━━━━━━━━━━\u001b[0m \u001b[32m2.4/2.4 MB\u001b[0m \u001b[31m43.4 MB/s\u001b[0m eta \u001b[36m0:00:00\u001b[0m\r\n",
      "\u001b[2K   \u001b[90m━━━━━━━━━━━━━━━━━━━━━━━━━━━━━━━━━━━━━━━━\u001b[0m \u001b[32m100.9/100.9 kB\u001b[0m \u001b[31m4.7 MB/s\u001b[0m eta \u001b[36m0:00:00\u001b[0m\r\n",
      "\u001b[2K   \u001b[90m━━━━━━━━━━━━━━━━━━━━━━━━━━━━━━━━━━━━━━━━\u001b[0m \u001b[32m284.2/284.2 kB\u001b[0m \u001b[31m14.8 MB/s\u001b[0m eta \u001b[36m0:00:00\u001b[0m\r\n",
      "\u001b[2K   \u001b[90m━━━━━━━━━━━━━━━━━━━━━━━━━━━━━━━━━━━━━━━━\u001b[0m \u001b[32m95.2/95.2 kB\u001b[0m \u001b[31m4.5 MB/s\u001b[0m eta \u001b[36m0:00:00\u001b[0m\r\n",
      "\u001b[2K   \u001b[90m━━━━━━━━━━━━━━━━━━━━━━━━━━━━━━━━━━━━━━━━\u001b[0m \u001b[32m2.0/2.0 MB\u001b[0m \u001b[31m54.4 MB/s\u001b[0m eta \u001b[36m0:00:00\u001b[0m\r\n",
      "\u001b[2K   \u001b[90m━━━━━━━━━━━━━━━━━━━━━━━━━━━━━━━━━━━━━━━━\u001b[0m \u001b[32m101.6/101.6 kB\u001b[0m \u001b[31m5.4 MB/s\u001b[0m eta \u001b[36m0:00:00\u001b[0m\r\n",
      "\u001b[2K   \u001b[90m━━━━━━━━━━━━━━━━━━━━━━━━━━━━━━━━━━━━━━━━\u001b[0m \u001b[32m16.0/16.0 MB\u001b[0m \u001b[31m80.8 MB/s\u001b[0m eta \u001b[36m0:00:00\u001b[0m\r\n",
      "\u001b[2K   \u001b[90m━━━━━━━━━━━━━━━━━━━━━━━━━━━━━━━━━━━━━━━━\u001b[0m \u001b[32m55.9/55.9 kB\u001b[0m \u001b[31m2.5 MB/s\u001b[0m eta \u001b[36m0:00:00\u001b[0m\r\n",
      "\u001b[2K   \u001b[90m━━━━━━━━━━━━━━━━━━━━━━━━━━━━━━━━━━━━━━━━\u001b[0m \u001b[32m188.4/188.4 kB\u001b[0m \u001b[31m9.0 MB/s\u001b[0m eta \u001b[36m0:00:00\u001b[0m\r\n",
      "\u001b[2K   \u001b[90m━━━━━━━━━━━━━━━━━━━━━━━━━━━━━━━━━━━━━━━━\u001b[0m \u001b[32m65.3/65.3 kB\u001b[0m \u001b[31m3.4 MB/s\u001b[0m eta \u001b[36m0:00:00\u001b[0m\r\n",
      "\u001b[2K   \u001b[90m━━━━━━━━━━━━━━━━━━━━━━━━━━━━━━━━━━━━━━━━\u001b[0m \u001b[32m119.0/119.0 kB\u001b[0m \u001b[31m6.7 MB/s\u001b[0m eta \u001b[36m0:00:00\u001b[0m\r\n",
      "\u001b[2K   \u001b[90m━━━━━━━━━━━━━━━━━━━━━━━━━━━━━━━━━━━━━━━━\u001b[0m \u001b[32m89.1/89.1 kB\u001b[0m \u001b[31m3.9 MB/s\u001b[0m eta \u001b[36m0:00:00\u001b[0m\r\n",
      "\u001b[2K   \u001b[90m━━━━━━━━━━━━━━━━━━━━━━━━━━━━━━━━━━━━━━━━\u001b[0m \u001b[32m62.4/62.4 kB\u001b[0m \u001b[31m3.1 MB/s\u001b[0m eta \u001b[36m0:00:00\u001b[0m\r\n",
      "\u001b[2K   \u001b[90m━━━━━━━━━━━━━━━━━━━━━━━━━━━━━━━━━━━━━━━━\u001b[0m \u001b[32m459.8/459.8 kB\u001b[0m \u001b[31m21.8 MB/s\u001b[0m eta \u001b[36m0:00:00\u001b[0m\r\n",
      "\u001b[2K   \u001b[90m━━━━━━━━━━━━━━━━━━━━━━━━━━━━━━━━━━━━━━━━\u001b[0m \u001b[32m319.7/319.7 kB\u001b[0m \u001b[31m13.1 MB/s\u001b[0m eta \u001b[36m0:00:00\u001b[0m\r\n",
      "\u001b[2K   \u001b[90m━━━━━━━━━━━━━━━━━━━━━━━━━━━━━━━━━━━━━━━━\u001b[0m \u001b[32m72.0/72.0 kB\u001b[0m \u001b[31m3.9 MB/s\u001b[0m eta \u001b[36m0:00:00\u001b[0m\r\n",
      "\u001b[2K   \u001b[90m━━━━━━━━━━━━━━━━━━━━━━━━━━━━━━━━━━━━━━━━\u001b[0m \u001b[32m4.0/4.0 MB\u001b[0m \u001b[31m68.8 MB/s\u001b[0m eta \u001b[36m0:00:00\u001b[0m\r\n",
      "\u001b[2K   \u001b[90m━━━━━━━━━━━━━━━━━━━━━━━━━━━━━━━━━━━━━━━━\u001b[0m \u001b[32m454.8/454.8 kB\u001b[0m \u001b[31m21.8 MB/s\u001b[0m eta \u001b[36m0:00:00\u001b[0m\r\n",
      "\u001b[2K   \u001b[90m━━━━━━━━━━━━━━━━━━━━━━━━━━━━━━━━━━━━━━━━\u001b[0m \u001b[32m46.0/46.0 kB\u001b[0m \u001b[31m2.0 MB/s\u001b[0m eta \u001b[36m0:00:00\u001b[0m\r\n",
      "\u001b[2K   \u001b[90m━━━━━━━━━━━━━━━━━━━━━━━━━━━━━━━━━━━━━━━━\u001b[0m \u001b[32m86.8/86.8 kB\u001b[0m \u001b[31m4.5 MB/s\u001b[0m eta \u001b[36m0:00:00\u001b[0m\r\n",
      "\u001b[?25h  Building wheel for pypika (pyproject.toml) ... \u001b[?25l\u001b[?25hdone\r\n",
      "\u001b[31mERROR: pip's dependency resolver does not currently take into account all the packages that are installed. This behaviour is the source of the following dependency conflicts.\r\n",
      "jupyterlab-lsp 3.10.2 requires jupyterlab<4.0.0a0,>=3.1.0, which is not installed.\r\n",
      "pandas-gbq 0.26.1 requires google-cloud-bigquery<4.0.0dev,>=3.4.2, which is not installed.\r\n",
      "bigframes 1.36.0 requires google-cloud-bigquery[bqstorage,pandas]>=3.18.0, which is not installed.\r\n",
      "google-cloud-aiplatform 1.79.0 requires google-cloud-bigquery!=3.20.0,<4.0.0dev,>=1.15.0, which is not installed.\r\n",
      "google-cloud-translate 3.12.1 requires protobuf!=3.20.0,!=3.20.1,!=4.21.0,!=4.21.1,!=4.21.2,!=4.21.3,!=4.21.4,!=4.21.5,<5.0.0dev,>=3.19.5, but you have protobuf 5.29.4 which is incompatible.\r\n",
      "google-api-core 1.34.1 requires protobuf!=3.20.0,!=3.20.1,!=4.21.0,!=4.21.1,!=4.21.2,!=4.21.3,!=4.21.4,!=4.21.5,<4.0.0dev,>=3.19.5, but you have protobuf 5.29.4 which is incompatible.\r\n",
      "google-spark-connect 0.5.2 requires google-api-core>=2.19.1, but you have google-api-core 1.34.1 which is incompatible.\r\n",
      "pandas-gbq 0.26.1 requires google-api-core<3.0.0dev,>=2.10.2, but you have google-api-core 1.34.1 which is incompatible.\r\n",
      "bigframes 1.36.0 requires rich<14,>=12.4.4, but you have rich 14.0.0 which is incompatible.\r\n",
      "google-cloud-bigtable 2.28.1 requires google-api-core[grpc]<3.0.0dev,>=2.16.0, but you have google-api-core 1.34.1 which is incompatible.\u001b[0m\u001b[31m\r\n",
      "\u001b[0m"
     ]
    }
   ],
   "source": [
    "!pip install -qU \"google-genai==1.7.0\" \"chromadb==0.6.3\""
   ]
  },
  {
   "cell_type": "markdown",
   "id": "9b578330",
   "metadata": {
    "papermill": {
     "duration": 0.009591,
     "end_time": "2025-04-17T13:19:58.290504",
     "exception": false,
     "start_time": "2025-04-17T13:19:58.280913",
     "status": "completed"
    },
    "tags": []
   },
   "source": [
    "Verify installed genai version"
   ]
  },
  {
   "cell_type": "code",
   "execution_count": 3,
   "id": "6405726b",
   "metadata": {
    "execution": {
     "iopub.execute_input": "2025-04-17T13:19:58.311393Z",
     "iopub.status.busy": "2025-04-17T13:19:58.311085Z",
     "iopub.status.idle": "2025-04-17T13:19:59.615399Z",
     "shell.execute_reply": "2025-04-17T13:19:59.614447Z"
    },
    "papermill": {
     "duration": 1.317073,
     "end_time": "2025-04-17T13:19:59.617273",
     "exception": false,
     "start_time": "2025-04-17T13:19:58.300200",
     "status": "completed"
    },
    "tags": []
   },
   "outputs": [
    {
     "data": {
      "text/plain": [
       "'1.7.0'"
      ]
     },
     "execution_count": 3,
     "metadata": {},
     "output_type": "execute_result"
    }
   ],
   "source": [
    "from google import genai\n",
    "from google.genai import types\n",
    "\n",
    "is_retriable = lambda e: (isinstance(e, genai.errors.APIError) and e.code in {429, 503})\n",
    "\n",
    "genai.__version__"
   ]
  },
  {
   "cell_type": "markdown",
   "id": "c84a67e6",
   "metadata": {
    "papermill": {
     "duration": 0.013624,
     "end_time": "2025-04-17T13:19:59.641530",
     "exception": false,
     "start_time": "2025-04-17T13:19:59.627906",
     "status": "completed"
    },
    "tags": []
   },
   "source": [
    "Setup the API key and env variable."
   ]
  },
  {
   "cell_type": "code",
   "execution_count": 4,
   "id": "5e84c2ab",
   "metadata": {
    "execution": {
     "iopub.execute_input": "2025-04-17T13:19:59.664073Z",
     "iopub.status.busy": "2025-04-17T13:19:59.663509Z",
     "iopub.status.idle": "2025-04-17T13:19:59.760262Z",
     "shell.execute_reply": "2025-04-17T13:19:59.759376Z"
    },
    "papermill": {
     "duration": 0.110438,
     "end_time": "2025-04-17T13:19:59.761949",
     "exception": false,
     "start_time": "2025-04-17T13:19:59.651511",
     "status": "completed"
    },
    "tags": []
   },
   "outputs": [],
   "source": [
    "import os\n",
    "from kaggle_secrets import UserSecretsClient\n",
    "\n",
    "GOOGLE_API_KEY = UserSecretsClient().get_secret(\"GOOGLE_API_KEY\")\n",
    "\n",
    "# This is crucial, necessary for LangGraph invoke\n",
    "os.environ['GOOGLE_API_KEY'] = GOOGLE_API_KEY"
   ]
  },
  {
   "cell_type": "code",
   "execution_count": 5,
   "id": "5d721fe6",
   "metadata": {
    "execution": {
     "iopub.execute_input": "2025-04-17T13:19:59.783054Z",
     "iopub.status.busy": "2025-04-17T13:19:59.782765Z",
     "iopub.status.idle": "2025-04-17T13:19:59.787617Z",
     "shell.execute_reply": "2025-04-17T13:19:59.786761Z"
    },
    "papermill": {
     "duration": 0.017457,
     "end_time": "2025-04-17T13:19:59.789491",
     "exception": false,
     "start_time": "2025-04-17T13:19:59.772034",
     "status": "completed"
    },
    "tags": []
   },
   "outputs": [],
   "source": [
    "from enum import Enum, auto\n",
    "\n",
    "class LLMProvider(Enum):\n",
    "    GOOGLE = auto()\n",
    "\n",
    "OUR_LLM_PROVIDER = LLMProvider.GOOGLE"
   ]
  },
  {
   "cell_type": "code",
   "execution_count": 6,
   "id": "7a1b6e50",
   "metadata": {
    "execution": {
     "iopub.execute_input": "2025-04-17T13:19:59.811039Z",
     "iopub.status.busy": "2025-04-17T13:19:59.810752Z",
     "iopub.status.idle": "2025-04-17T13:19:59.815796Z",
     "shell.execute_reply": "2025-04-17T13:19:59.814951Z"
    },
    "papermill": {
     "duration": 0.01722,
     "end_time": "2025-04-17T13:19:59.817219",
     "exception": false,
     "start_time": "2025-04-17T13:19:59.799999",
     "status": "completed"
    },
    "tags": []
   },
   "outputs": [],
   "source": [
    "from abc import ABC, abstractmethod\n",
    "\n",
    "class LLMInterface(ABC):\n",
    "\n",
    "    @abstractmethod\n",
    "    def get_gen_llm():\n",
    "        pass\n",
    "    \n",
    "    @abstractmethod\n",
    "    def get_gen_llm():\n",
    "        pass\n",
    "    \n",
    "    @abstractmethod\n",
    "    def get_gen_llm():\n",
    "        pass\n",
    "\n",
    "    @abstractmethod\n",
    "    def get_embed_kwarg():\n",
    "        pass\n",
    "\n"
   ]
  },
  {
   "cell_type": "code",
   "execution_count": 7,
   "id": "4b914146",
   "metadata": {
    "execution": {
     "iopub.execute_input": "2025-04-17T13:19:59.837934Z",
     "iopub.status.busy": "2025-04-17T13:19:59.837639Z",
     "iopub.status.idle": "2025-04-17T13:20:01.185242Z",
     "shell.execute_reply": "2025-04-17T13:20:01.183913Z"
    },
    "papermill": {
     "duration": 1.359956,
     "end_time": "2025-04-17T13:20:01.186998",
     "exception": false,
     "start_time": "2025-04-17T13:19:59.827042",
     "status": "completed"
    },
    "tags": []
   },
   "outputs": [],
   "source": [
    "from langchain_google_genai import GoogleGenerativeAI\n",
    "from langchain_google_genai.embeddings import GoogleGenerativeAIEmbeddings\n",
    "from langchain_google_genai import ChatGoogleGenerativeAI\n",
    "\n",
    "class GoogleLLM(LLMInterface):\n",
    "    def get_gen_llm(self):\n",
    "        kwargs = dict(model=\"gemini-1.5-flash\")\n",
    "        return GoogleGenerativeAI(**kwargs)\n",
    "     \n",
    "    def get_embed_llm(self):\n",
    "        kwargs = dict(model=\"models/text-embedding-004\")\n",
    "        return GoogleGenerativeAIEmbeddings(**kwargs)\n",
    "\n",
    "    def get_chat_llm(self):\n",
    "        kwargs = dict(model=\"gemini-2.0-flash\")\n",
    "        return ChatGoogleGenerativeAI(**kwargs)\n",
    "\n",
    "    def get_embed_kwarg(self, kwarg):\n",
    "        return kwarg"
   ]
  },
  {
   "cell_type": "code",
   "execution_count": 8,
   "id": "5332397a",
   "metadata": {
    "execution": {
     "iopub.execute_input": "2025-04-17T13:20:01.209681Z",
     "iopub.status.busy": "2025-04-17T13:20:01.209062Z",
     "iopub.status.idle": "2025-04-17T13:20:01.314712Z",
     "shell.execute_reply": "2025-04-17T13:20:01.313661Z"
    },
    "papermill": {
     "duration": 0.1197,
     "end_time": "2025-04-17T13:20:01.316540",
     "exception": false,
     "start_time": "2025-04-17T13:20:01.196840",
     "status": "completed"
    },
    "tags": []
   },
   "outputs": [
    {
     "name": "stdout",
     "output_type": "stream",
     "text": [
      "Your provider is GOOGLE!\n"
     ]
    }
   ],
   "source": [
    "def create_llm(llm_provider: LLMProvider):\n",
    "    print(f\"Your provider is {llm_provider.name}!\")\n",
    "    \n",
    "    if llm_provider == LLMProvider.GOOGLE:\n",
    "        return GoogleLLM()\n",
    "        \n",
    "    else:\n",
    "        raise NotImplementedError(f\"The provider {provider} is not supported!\")\n",
    "\n",
    "\n",
    "my_factory = create_llm(llm_provider=OUR_LLM_PROVIDER)\n",
    "\n",
    "gen_model = my_factory.get_gen_llm()\n",
    "embed_model = my_factory.get_embed_llm()\n",
    "chat_model = my_factory.get_chat_llm()"
   ]
  },
  {
   "cell_type": "markdown",
   "id": "6b2034d0",
   "metadata": {
    "execution": {
     "iopub.execute_input": "2025-04-11T14:18:48.778215Z",
     "iopub.status.busy": "2025-04-11T14:18:48.77787Z",
     "iopub.status.idle": "2025-04-11T14:18:48.782625Z",
     "shell.execute_reply": "2025-04-11T14:18:48.781857Z",
     "shell.execute_reply.started": "2025-04-11T14:18:48.778191Z"
    },
    "papermill": {
     "duration": 0.079557,
     "end_time": "2025-04-17T13:20:01.406595",
     "exception": false,
     "start_time": "2025-04-17T13:20:01.327038",
     "status": "completed"
    },
    "tags": []
   },
   "source": [
    "# 📚 Cookbook data corpus preparation\n",
    "\n",
    "From the attached dataset **Cookbooks** select some books and get the first N characters, based on which the titles will be retrieved later."
   ]
  },
  {
   "cell_type": "code",
   "execution_count": 9,
   "id": "757255ed",
   "metadata": {
    "execution": {
     "iopub.execute_input": "2025-04-17T13:20:01.430132Z",
     "iopub.status.busy": "2025-04-17T13:20:01.429760Z",
     "iopub.status.idle": "2025-04-17T13:20:01.643338Z",
     "shell.execute_reply": "2025-04-17T13:20:01.642257Z"
    },
    "papermill": {
     "duration": 0.22703,
     "end_time": "2025-04-17T13:20:01.645036",
     "exception": false,
     "start_time": "2025-04-17T13:20:01.418006",
     "status": "completed"
    },
    "tags": []
   },
   "outputs": [
    {
     "name": "stdout",
     "output_type": "stream",
     "text": [
      "amem.txt\n",
      "chin.txt\n",
      "epia.txt\n",
      "grea.txt\n",
      "linc.txt\n"
     ]
    }
   ],
   "source": [
    "import os\n",
    "import re\n",
    "import json\n",
    "import typing_extensions as typing\n",
    "from google.api_core import retry\n",
    "from langchain_community.document_loaders import TextLoader\n",
    "\n",
    "CLIP = 250\n",
    "NUM_BOOKS = 5\n",
    "BOOKS_STEP = 12\n",
    "\n",
    "book_headers = []\n",
    "book_file_names = []\n",
    "\n",
    "for dirname, _, filenames in os.walk('/kaggle/input'):\n",
    "    for filename in sorted(filenames)[::BOOKS_STEP][:NUM_BOOKS]:\n",
    "\n",
    "        book_loader = TextLoader(os.path.join(dirname, filename))\n",
    "        book = book_loader.load()\n",
    "        \n",
    "        book_headers.append(book[0].page_content[:CLIP])\n",
    "        book_file_names.append(filename)\n",
    "        print(filename)"
   ]
  },
  {
   "cell_type": "markdown",
   "id": "bff0db65",
   "metadata": {
    "execution": {
     "iopub.execute_input": "2025-04-11T14:20:58.710653Z",
     "iopub.status.busy": "2025-04-11T14:20:58.709996Z",
     "iopub.status.idle": "2025-04-11T14:20:58.714991Z",
     "shell.execute_reply": "2025-04-11T14:20:58.714141Z",
     "shell.execute_reply.started": "2025-04-11T14:20:58.710628Z"
    },
    "papermill": {
     "duration": 0.010067,
     "end_time": "2025-04-17T13:20:01.665099",
     "exception": false,
     "start_time": "2025-04-17T13:20:01.655032",
     "status": "completed"
    },
    "tags": []
   },
   "source": [
    "## 📝 Titles retrieval\n",
    "Define Pydantic model for a function output, to help structure the few_shot_prompt and LLM call output format.\n",
    "Capabilities:\n",
    "* **few shot prompting**\n",
    "* **structured output controlled generation**"
   ]
  },
  {
   "cell_type": "code",
   "execution_count": 10,
   "id": "44ed9afb",
   "metadata": {
    "execution": {
     "iopub.execute_input": "2025-04-17T13:20:01.686824Z",
     "iopub.status.busy": "2025-04-17T13:20:01.686486Z",
     "iopub.status.idle": "2025-04-17T13:20:01.693679Z",
     "shell.execute_reply": "2025-04-17T13:20:01.692629Z"
    },
    "papermill": {
     "duration": 0.020372,
     "end_time": "2025-04-17T13:20:01.695666",
     "exception": false,
     "start_time": "2025-04-17T13:20:01.675294",
     "status": "completed"
    },
    "tags": []
   },
   "outputs": [],
   "source": [
    "from pydantic import BaseModel, Field\n",
    "\n",
    "class BookInfo(BaseModel):\n",
    "    title: str = Field(description=\"Title of a book\")\n",
    "    authors: list[str] = Field(description=\"Book authors list\")"
   ]
  },
  {
   "cell_type": "code",
   "execution_count": 11,
   "id": "6c48bc87",
   "metadata": {
    "execution": {
     "iopub.execute_input": "2025-04-17T13:20:01.721764Z",
     "iopub.status.busy": "2025-04-17T13:20:01.721294Z",
     "iopub.status.idle": "2025-04-17T13:20:01.794158Z",
     "shell.execute_reply": "2025-04-17T13:20:01.793052Z"
    },
    "papermill": {
     "duration": 0.087497,
     "end_time": "2025-04-17T13:20:01.796488",
     "exception": false,
     "start_time": "2025-04-17T13:20:01.708991",
     "status": "completed"
    },
    "tags": []
   },
   "outputs": [],
   "source": [
    "from langchain_core.prompts import PromptTemplate, FewShotPromptTemplate\n",
    "from langchain_core.example_selectors import LengthBasedExampleSelector\n",
    "from langchain_core.output_parsers import JsonOutputParser\n",
    "\n",
    "few_shot_prompt_instruction = \"Parse the begining of given book to retrieve title and authors. Note there can be many new-line characters inside the text.\"\n",
    "examples = [{\"input\": \"\\n \\n \\n \\n The American Woman's Home: or, Principles of Domestic Science; being a Guide to the Formation and Maintenance of Economical, Healthful, Beautiful, and Christian Homes.  Beecher, Catharine Esther  Stowe, Harriet Beecher  Home economics.  Introduction. The Christian Family. A Christian House. A Healthful Home.\",\n",
    "            \"output\": \n",
    "                \"\"\"\n",
    "                title: \"The American Woman's Home: or, Principles of Domestic Science; being a Guide to the Formation and Maintenance of Economical, Healthful, Beautiful, and Christian Homes.\\n\"\n",
    "                authors: [\"Catharine Beecher\", \"Stowe Esther\", \"Beecher Harriet\"]\n",
    "                \"\"\",\n",
    "            },           \n",
    "            {\"input\": \"\\n\\n Directions for Cookery, in its Various Branches.\\n Leslie, Eliza \\nCookery, American.\\n\",\n",
    "            \"output\":\n",
    "                \"\"\"\n",
    "                title: \"Directions for Cookery, in its Various Branches.\"\n",
    "                authors: [\"Eliza Leslie\"]\n",
    "                \"\"\",\n",
    "            },\n",
    "            {\"input\": \"\\n\\n \\n\\n \\nA bookplate illustration of a illuminated reading lap and an open book.  \\nThis book belongs to Beatrice V. Grant.\\n\\n\",\n",
    "            \"output\":\n",
    "                \"\"\"\n",
    "                title: \"A bookplate illustration of a illuminated reading lap and an open book.\"\n",
    "                authors: [\"Beatrice V. Grant\"]\n",
    "                \"\"\"\n",
    "           }]\n",
    "\n",
    "example_prompt = PromptTemplate(\n",
    "    input_variables = [\"input\", \"output\"],\n",
    "    template = \"EXAMPLE: {input}\\nResponse: {output}\",  \n",
    ")\n",
    "\n",
    "example_selector = LengthBasedExampleSelector(\n",
    "    examples=examples,\n",
    "    example_prompt=example_prompt,\n",
    "    max_length=500,\n",
    ")\n",
    "\n",
    "output_parser = JsonOutputParser(pydantic_object=BookInfo)\n",
    "format_instructions = output_parser.get_format_instructions()\n",
    "\n",
    "dynamic_prompt = FewShotPromptTemplate(\n",
    "    example_selector=example_selector,\n",
    "    example_prompt=example_prompt,\n",
    "    prefix=few_shot_prompt_instruction + \"\\n {format_instructions}\",\n",
    "    suffix=\"EXAMPLE: {header}\\nResponse:\",\n",
    "    input_variables=[\"header\"],\n",
    "    partial_variables={\"format_instructions\": format_instructions},\n",
    ")"
   ]
  },
  {
   "cell_type": "code",
   "execution_count": 12,
   "id": "c0683c40",
   "metadata": {
    "execution": {
     "iopub.execute_input": "2025-04-17T13:20:01.820765Z",
     "iopub.status.busy": "2025-04-17T13:20:01.820387Z",
     "iopub.status.idle": "2025-04-17T13:20:01.826805Z",
     "shell.execute_reply": "2025-04-17T13:20:01.824914Z"
    },
    "papermill": {
     "duration": 0.019944,
     "end_time": "2025-04-17T13:20:01.828528",
     "exception": false,
     "start_time": "2025-04-17T13:20:01.808584",
     "status": "completed"
    },
    "tags": []
   },
   "outputs": [
    {
     "name": "stdout",
     "output_type": "stream",
     "text": [
      "Parse the begining of given book to retrieve title and authors. Note there can be many new-line characters inside the text.\n",
      " The output should be formatted as a JSON instance that conforms to the JSON schema below.\n",
      "\n",
      "As an example, for the schema {\"properties\": {\"foo\": {\"title\": \"Foo\", \"description\": \"a list of strings\", \"type\": \"array\", \"items\": {\"type\": \"string\"}}}, \"required\": [\"foo\"]}\n",
      "the object {\"foo\": [\"bar\", \"baz\"]} is a well-formatted instance of the schema. The object {\"properties\": {\"foo\": [\"bar\", \"baz\"]}} is not well-formatted.\n",
      "\n",
      "Here is the output schema:\n",
      "```\n",
      "{\"properties\": {\"title\": {\"description\": \"Title of a book\", \"title\": \"Title\", \"type\": \"string\"}, \"authors\": {\"description\": \"Book authors list\", \"items\": {\"type\": \"string\"}, \"title\": \"Authors\", \"type\": \"array\"}}, \"required\": [\"title\", \"authors\"]}\n",
      "```\n",
      "\n",
      "EXAMPLE: \n",
      " \n",
      " \n",
      " \n",
      " The American Woman's Home: or, Principles of Domestic Science; being a Guide to the Formation and Maintenance of Economical, Healthful, Beautiful, and Christian Homes.  Beecher, Catharine Esther  Stowe, Harriet Beecher  Home economics.  Introduction. The Christian Family. A Christian House. A Healthful Home.\n",
      "Response: \n",
      "                title: \"The American Woman's Home: or, Principles of Domestic Science; being a Guide to the Formation and Maintenance of Economical, Healthful, Beautiful, and Christian Homes.\n",
      "\"\n",
      "                authors: [\"Catharine Beecher\", \"Stowe Esther\", \"Beecher Harriet\"]\n",
      "                \n",
      "\n",
      "EXAMPLE: \n",
      "\n",
      " Directions for Cookery, in its Various Branches.\n",
      " Leslie, Eliza \n",
      "Cookery, American.\n",
      "\n",
      "Response: \n",
      "                title: \"Directions for Cookery, in its Various Branches.\"\n",
      "                authors: [\"Eliza Leslie\"]\n",
      "                \n",
      "\n",
      "EXAMPLE: \n",
      "\n",
      " \n",
      "\n",
      " \n",
      "A bookplate illustration of a illuminated reading lap and an open book.  \n",
      "This book belongs to Beatrice V. Grant.\n",
      "\n",
      "\n",
      "Response: \n",
      "                title: \"A bookplate illustration of a illuminated reading lap and an open book.\"\n",
      "                authors: [\"Beatrice V. Grant\"]\n",
      "                \n",
      "\n",
      "EXAMPLE: Cookbook for oldies. Mr. Matuzalem\n",
      "Response:\n"
     ]
    }
   ],
   "source": [
    "print(dynamic_prompt.format(header=\"Cookbook for oldies. Mr. Matuzalem\"))"
   ]
  },
  {
   "cell_type": "code",
   "execution_count": 13,
   "id": "2e0e54fa",
   "metadata": {
    "execution": {
     "iopub.execute_input": "2025-04-17T13:20:01.853877Z",
     "iopub.status.busy": "2025-04-17T13:20:01.853552Z",
     "iopub.status.idle": "2025-04-17T13:20:04.723127Z",
     "shell.execute_reply": "2025-04-17T13:20:04.722046Z"
    },
    "papermill": {
     "duration": 2.884359,
     "end_time": "2025-04-17T13:20:04.725064",
     "exception": false,
     "start_time": "2025-04-17T13:20:01.840705",
     "status": "completed"
    },
    "tags": []
   },
   "outputs": [
    {
     "name": "stdout",
     "output_type": "stream",
     "text": [
      "=========================\n",
      "Book header:\n",
      "\n",
      "         The American Matron: Or, Practical and Scientific Cookery.  By a Housekeeper.  Boston: J. Munroe &amp; Co., 1851  [Page images for  The American Matron  were produced before MSU began the \"Feeding America\" digitization pro\n",
      "=========================\n",
      "Retrieved title and authors:\n",
      "{'title': 'The American Matron: Or, Practical and Scientific Cookery.', 'authors': ['A Housekeeper']}\n",
      "\n",
      "=========================\n",
      "\n",
      "=========================\n",
      "Book header:\n",
      "\n",
      "      Chinese-Japanese Cook Book  Bosse, Sara  Watanna, Onoto  Cookery, Chinese. Cookery, Japanese. Cookery, American.  Part 1 Chinese Recipes. Rules for Cooking. Soups. Gravy. Fish. Poultry and Game. Meats. Chop Sueys. Chow Mains. Fried Rice\n",
      "=========================\n",
      "Retrieved title and authors:\n",
      "{'title': 'Chinese-Japanese Cook Book', 'authors': ['Sara Bosse', 'Onoto Watanna']}\n",
      "\n",
      "=========================\n",
      "\n",
      "=========================\n",
      "Book header:\n",
      "\n",
      "     The Epicurean...  Ranhofer, Charles.  Cookery, American. Cookery, French. Menus.  Complete title: The Epicurean. A complete treatise of Analytical and Practical Studies on the Culinary Art including Table and Wine Service, How to Prepare and \n",
      "=========================\n",
      "Retrieved title and authors:\n",
      "{'title': 'The Epicurean...', 'authors': ['Charles Ranhofer']}\n",
      "\n",
      "=========================\n",
      "\n",
      "=========================\n",
      "Book header:\n",
      "\n",
      "      The Great Western Cook Book, or Table Receipts, Adapted to Western Housewifery.  Collins, Anna Maria  Cookery, American.  Soups and broths. Fish. Boiling. Sauces and gravies. Pickling. Vegetables. Bread. Roasting. Broiling, etc. Preserves. \n",
      "=========================\n",
      "Retrieved title and authors:\n",
      "{'title': 'The Great Western Cook Book, or Table Receipts, Adapted to Western Housewifery.', 'authors': ['Anna Maria Collins']}\n",
      "\n",
      "=========================\n",
      "\n",
      "=========================\n",
      "Book header:\n",
      "\n",
      "     Mrs. Lincoln's Boston Cook Book. What to Do and What Not to Do in Cooking.  Lincoln, Mary Johnson  Cookery, American.  Introduction. Bread and Bread Making. Receipts for Yeast and Bread. Raised Biscuit, Rolls, etc. Stale Bread, Toast, etc\n",
      "=========================\n",
      "Retrieved title and authors:\n",
      "{'title': \"Mrs. Lincoln's Boston Cook Book. What to Do and What Not to Do in Cooking.\", 'authors': ['Mary Johnson Lincoln']}\n",
      "\n",
      "=========================\n",
      "\n"
     ]
    }
   ],
   "source": [
    "\n",
    "@retry.Retry(predicate=is_retriable, timeout=3.0)\n",
    "def extract_header_meta(book_header: str) -> dict:\n",
    "\n",
    "    chain = dynamic_prompt | gen_model | output_parser\n",
    "    \n",
    "    return chain.invoke({\"header\": book_header})\n",
    "    \n",
    "\n",
    "titles_retrieved = [] \n",
    "for book_header in book_headers:\n",
    "    print(\"=========================\")\n",
    "    print(\"Book header:\\n\")\n",
    "    print(book_header.replace(\"\\n\", \"\"))\n",
    "\n",
    "    try:        \n",
    "        book_info = extract_header_meta(book_header)\n",
    "        titles_retrieved.append(book_info.get(\"title\"))\n",
    "        print(\"=========================\")\n",
    "        print(\"Retrieved title and authors:\")\n",
    "        print(book_info)\n",
    "        print(\"\")\n",
    "    except:\n",
    "        print(\"error\")\n",
    "        titles_retrieved.append(\"\")\n",
    "    print(\"=========================\\n\")"
   ]
  },
  {
   "cell_type": "markdown",
   "id": "7bffdeb9",
   "metadata": {
    "papermill": {
     "duration": 0.010584,
     "end_time": "2025-04-17T13:20:04.746782",
     "exception": false,
     "start_time": "2025-04-17T13:20:04.736198",
     "status": "completed"
    },
    "tags": []
   },
   "source": [
    "# 🧠 RAG utilities\n",
    "## Text chunking"
   ]
  },
  {
   "cell_type": "code",
   "execution_count": 14,
   "id": "896f0250",
   "metadata": {
    "execution": {
     "iopub.execute_input": "2025-04-17T13:20:04.770857Z",
     "iopub.status.busy": "2025-04-17T13:20:04.769926Z",
     "iopub.status.idle": "2025-04-17T13:20:06.109679Z",
     "shell.execute_reply": "2025-04-17T13:20:06.108147Z"
    },
    "papermill": {
     "duration": 1.353905,
     "end_time": "2025-04-17T13:20:06.112045",
     "exception": false,
     "start_time": "2025-04-17T13:20:04.758140",
     "status": "completed"
    },
    "tags": []
   },
   "outputs": [
    {
     "name": "stdout",
     "output_type": "stream",
     "text": [
      " \n",
      " \n",
      " \n",
      " \n",
      " Mrs. Lincoln's Boston Cook Book. What to Do and What Not to Do in Cooking. \n",
      " Lincoln, Mary Johnson \n",
      " Cookery, American. \n",
      " Introduction. Bread and Bread Making. Receipts for Yeast and Bread. Raised Biscuit, Rolls, etc. Stale Bread, Toast, etc. Soda Biscuit, Muffins, Gems, etc. Waffles and Griddle-Cakes. Fried Muffins, Fritters, Doughnuts, etc. Oatmeal and other Grains. Beverages. Soup and Stock. Soup without Stock. Fish. Shell Fish. Meat and Fish Sauces. Eggs. Meat. Beef. Mutton and Lamb. Veal. Pork. Poultry and Game. Entr&#233;es and Meat R&#233;chauff&#233;. Sundries. Vegetables. Rice and Macaroni. Salads. Pastry and Pies. Pudding Sauces. Hot Puddings. Custards, Jellies, and Creams. Ice-Cream and Sherbet. Cake. Fruit. Cooking for Invalids. Miscellaneous Hints. The Dining-Room. The Care of Kitchen Utensils. An Outline of Study for Teachers. Suggestions to Teachers. A Course of Study for Normal Pupils. Miscellaneous Questions for Examination. Topics and Illustrations for Lectures on Cookery. Course of Instruction at the Boston Cooking-School. Explanation of Terms used in Cookery. List of Utensils needed in a Cooking-School. \n",
      " Boston: Roberts Brothers. \n",
      " Electronic edition created by Digital &#38; Multimedia Center, Michigan State University Libraries, East Lansing, Michigan, 2002-2003. \n",
      " Supplementary material by Jan Longone, Anne-Marie Rachman, Peter Berg, Yvonne Lockwood, and Val Berryman \n",
      " 1884 \n",
      " Text \n",
      " xml-external-parsed-entity \n",
      " jpeg \n",
      " quicktime \n",
      " http://digital.lib.msu.edu/cookbooks/mrslincoln/linc.xml \n",
      " OCLC 3299992 \n",
      " en \n",
      " Digitized as part of \"Feeding America: The Historic American Cookbook Project.\" Michigan State University Libraries, East Lansing, Michigan, 2002-2003. http://digital.lib.msu.edu/cookbooks/ \n",
      " United States \n",
      " Nineteenth century \n",
      " The book digitized here was published in the United States before 1923 and is in the public domain according to U.S. copyright\n"
     ]
    }
   ],
   "source": [
    "from langchain.text_splitter import TokenTextSplitter\n",
    "\n",
    "splitter = TokenTextSplitter(\n",
    "    encoding_name=\"cl100k_base\", # Example encoding for newer OpenAI models\n",
    "    chunk_size=500,  # Target chunk size in TOKENS\n",
    "    chunk_overlap=30 # Overlap in TOKENS\n",
    ")\n",
    "\n",
    "chunks = splitter.split_documents(book)\n",
    "\n",
    "# example:\n",
    "print(chunks[0].page_content)"
   ]
  },
  {
   "cell_type": "markdown",
   "id": "84552f2d",
   "metadata": {
    "papermill": {
     "duration": 0.011066,
     "end_time": "2025-04-17T13:20:06.134218",
     "exception": false,
     "start_time": "2025-04-17T13:20:06.123152",
     "status": "completed"
    },
    "tags": []
   },
   "source": [
    "## Embedding function for RAG system\n",
    "This will make embeddings of text chunks (obtained with dummy_chunk_text) that will be stored in a vector database. Later a user query will allow to retrieve (hopefully) the most relevant chunks."
   ]
  },
  {
   "cell_type": "code",
   "execution_count": 15,
   "id": "d213177e",
   "metadata": {
    "execution": {
     "iopub.execute_input": "2025-04-17T13:20:06.157159Z",
     "iopub.status.busy": "2025-04-17T13:20:06.156825Z",
     "iopub.status.idle": "2025-04-17T13:20:06.690381Z",
     "shell.execute_reply": "2025-04-17T13:20:06.689376Z"
    },
    "papermill": {
     "duration": 0.546873,
     "end_time": "2025-04-17T13:20:06.692184",
     "exception": false,
     "start_time": "2025-04-17T13:20:06.145311",
     "status": "completed"
    },
    "tags": []
   },
   "outputs": [],
   "source": [
    "from chromadb import Documents, EmbeddingFunction, Embeddings\n",
    "\n",
    "class LangChainEmbeddingFunction(EmbeddingFunction):\n",
    "    # Specify whether to generate embeddings for documents, or queries\n",
    "    embedding_task = \"retrieval_document\"\n",
    "\n",
    "    def __init__(self, *args, embedding_llm, **kwargs):\n",
    "        super().__init__(*args, **kwargs)\n",
    "        self.embedding_llm = embedding_llm\n",
    "\n",
    "    @retry.Retry(predicate=is_retriable)\n",
    "    def __call__(self, input: Documents) -> Embeddings:\n",
    "\n",
    "        kwargs = {\"task_type\": self.embedding_task} if self.embedding_task else {}        \n",
    "        response = self.embedding_llm.embed_documents(input, **kwargs)\n",
    "        return response"
   ]
  },
  {
   "cell_type": "markdown",
   "id": "bf50640d",
   "metadata": {
    "execution": {
     "iopub.execute_input": "2025-04-11T14:26:45.734163Z",
     "iopub.status.busy": "2025-04-11T14:26:45.733768Z",
     "iopub.status.idle": "2025-04-11T14:26:45.74075Z",
     "shell.execute_reply": "2025-04-11T14:26:45.739642Z",
     "shell.execute_reply.started": "2025-04-11T14:26:45.734136Z"
    },
    "papermill": {
     "duration": 0.010714,
     "end_time": "2025-04-17T13:20:06.713699",
     "exception": false,
     "start_time": "2025-04-17T13:20:06.702985",
     "status": "completed"
    },
    "tags": []
   },
   "source": [
    "Helper method to navigate through book titles."
   ]
  },
  {
   "cell_type": "code",
   "execution_count": 16,
   "id": "908bee3b",
   "metadata": {
    "execution": {
     "iopub.execute_input": "2025-04-17T13:20:06.737289Z",
     "iopub.status.busy": "2025-04-17T13:20:06.737016Z",
     "iopub.status.idle": "2025-04-17T13:20:06.742002Z",
     "shell.execute_reply": "2025-04-17T13:20:06.741239Z"
    },
    "papermill": {
     "duration": 0.018002,
     "end_time": "2025-04-17T13:20:06.743314",
     "exception": false,
     "start_time": "2025-04-17T13:20:06.725312",
     "status": "completed"
    },
    "tags": []
   },
   "outputs": [],
   "source": [
    "from IPython.display import Markdown\n",
    "\n",
    "def truncate(t: str, limit: int = 50) -> str:\n",
    "  \"\"\"Truncate labels to fit on the chart.\"\"\"\n",
    "  if len(t) > limit:\n",
    "    return t[:limit-3] + '...'\n",
    "  else:\n",
    "    return t"
   ]
  },
  {
   "cell_type": "markdown",
   "id": "03ff619d",
   "metadata": {
    "papermill": {
     "duration": 0.010589,
     "end_time": "2025-04-17T13:20:06.766296",
     "exception": false,
     "start_time": "2025-04-17T13:20:06.755707",
     "status": "completed"
    },
    "tags": []
   },
   "source": [
    "# 🔩 Tools for LLM to use\n",
    "Several tools are specified here:\n",
    "* find_cuisine - Find appropriate cookbook based on how the provided query matches the title of a book - based on semantic similarity (capability: **Embeddings**)\n",
    "* summarize_cookbook - Summarize cookbook (perform indexing with vector database) - (capability: **RAG**)\n",
    "* retrieve_recipe - Retrieves relevant information about user requested recipe - (capability: **RAG**)\n",
    "* order_ingredients - Orders desired ingredients in the nearby store - (capability: just **function calling** like other methods)"
   ]
  },
  {
   "cell_type": "code",
   "execution_count": 17,
   "id": "08ff4c34",
   "metadata": {
    "execution": {
     "iopub.execute_input": "2025-04-17T13:20:06.791062Z",
     "iopub.status.busy": "2025-04-17T13:20:06.790775Z",
     "iopub.status.idle": "2025-04-17T13:20:09.282781Z",
     "shell.execute_reply": "2025-04-17T13:20:09.281787Z"
    },
    "papermill": {
     "duration": 2.50602,
     "end_time": "2025-04-17T13:20:09.284533",
     "exception": false,
     "start_time": "2025-04-17T13:20:06.778513",
     "status": "completed"
    },
    "tags": []
   },
   "outputs": [],
   "source": [
    "import numpy as np\n",
    "import chromadb\n",
    "import pandas as pd\n",
    "\n",
    "STEP = 100\n",
    "DB_NAME = \"db_local\"\n",
    "embed_fn = LangChainEmbeddingFunction(embedding_llm=embed_model)\n",
    "\n",
    "chroma_client = chromadb.Client()\n",
    "db = chroma_client.get_or_create_collection(name=DB_NAME, embedding_function=embed_fn)\n",
    "\n",
    "\n",
    "def find_cuisine(cuisine_query: str) -> str:\n",
    "    \"\"\"Find appropriate cookbook based on how the provided query matches the title of a book\"\"\"\n",
    "    query = titles_retrieved + [cuisine_query]\n",
    "    \n",
    "    truncated_texts = [truncate(t) for t in query]\n",
    "\n",
    "    embed_fn.embedding_task = \"semantic_similarity\"\n",
    "    response = embed_fn(input=query)\n",
    "    \n",
    "    df = pd.DataFrame(response, index=truncated_texts)\n",
    "    \n",
    "    # Perform the similarity calculation\n",
    "    sim = df @ df.T\n",
    "    filename = book_file_names[sim[cuisine_query].iloc[:-1].argmax()]\n",
    "    return filename\n",
    "\n",
    "\n",
    "def summarize_cookbook(filename: str) -> None:\n",
    "    \"\"\"Summarize cookbook (perform indexing with vector database\"\"\"\n",
    "\n",
    "    book_loader = TextLoader(os.path.join('/kaggle/input/cookbooks', filename))\n",
    "    book = book_loader.load()\n",
    "    chunks = [c.page_content for c in splitter.split_documents(book)]\n",
    "    \n",
    "    embed_fn.embedding_task = \"retrieval_document\"\n",
    "\n",
    "    # Chunk the book as at most 100 vectors can be added in single batch to the database\n",
    "    for x in range(0, len(chunks), STEP):\n",
    "        small_chunk = chunks[x: x+STEP-1]\n",
    "        db.add(documents=small_chunk, ids=[str(i + x) for i in range(len(small_chunk))])\n",
    "\n",
    "def retrieve_recipe(recipe_query: str) -> str:\n",
    "    \"\"\"Retrieves relevant information about user requested recipe.\n",
    "\n",
    "    Parameters:\n",
    "    recipe_query: str\n",
    "        user query about recipe he wants to get\n",
    "\n",
    "    Returns:\n",
    "        str: chunks of relevant recipes found in the cookbook.\n",
    "    \"\"\"\n",
    "    # Switch to query mode when generating embeddings.\n",
    "    embed_fn.embedding_task = \"retrieval_query\"\n",
    "    \n",
    "    result = db.query(query_texts=[recipe_query], n_results=5)\n",
    "    [all_passages] = result[\"documents\"]\n",
    "\n",
    "    prompt = \"\"\n",
    "    # Add the retrieved documents to the prompt.\n",
    "    for passage in all_passages:\n",
    "        passage_oneline = passage.replace(\"\\n\", \" \")\n",
    "        prompt += f\"PASSAGE: {passage_oneline}\\n\"\n",
    "\n",
    "    return prompt\n",
    "\n",
    "\n",
    "\n",
    "def order_ingredients(ingredients: list[str]) -> bool:\n",
    "    \"\"\"Orders desired ingredients in the nearby store.\n",
    "    \n",
    "    Parameters:\n",
    "    ingredients: tuple[str]\n",
    "        iterable of ingredients to order\n",
    "\n",
    "    Returns:\n",
    "        bool: whether the order was succesfull\n",
    "    \n",
    "    \"\"\"\n",
    "    total_succes = 0\n",
    "    for item in ingredients:\n",
    "        if np.random.random()<0.9:\n",
    "            print(f\"{item} ordered!\")\n",
    "            total_succes += 1\n",
    "        else:\n",
    "            print(f\"{item} is missing in the shop!\")\n",
    "\n",
    "    return total_succes == len(ingredients)"
   ]
  },
  {
   "cell_type": "markdown",
   "id": "6309c44c",
   "metadata": {
    "papermill": {
     "duration": 0.010221,
     "end_time": "2025-04-17T13:20:09.305401",
     "exception": false,
     "start_time": "2025-04-17T13:20:09.295180",
     "status": "completed"
    },
    "tags": []
   },
   "source": [
    "Prepare chat bot instructions."
   ]
  },
  {
   "cell_type": "code",
   "execution_count": 18,
   "id": "4205cf04",
   "metadata": {
    "execution": {
     "iopub.execute_input": "2025-04-17T13:20:09.329627Z",
     "iopub.status.busy": "2025-04-17T13:20:09.329065Z",
     "iopub.status.idle": "2025-04-17T13:20:09.333933Z",
     "shell.execute_reply": "2025-04-17T13:20:09.333082Z"
    },
    "papermill": {
     "duration": 0.019088,
     "end_time": "2025-04-17T13:20:09.335581",
     "exception": false,
     "start_time": "2025-04-17T13:20:09.316493",
     "status": "completed"
    },
    "tags": []
   },
   "outputs": [],
   "source": [
    "chat_instructions = f\"\"\"You are a helpful bot - the cook assistant. \n",
    "You should guide the user through following steps:\n",
    "- ask about the type of cuisine he wants - use tool find_cuisine for you to find the appropriate cookbook file_name\n",
    "- now as you have access to a selected cookbook with many of interesting recipes - you can use a tool summarize_cookbook which needs the file_name found\n",
    "- you should propose a recipe based on ingredients indicated by your chef. Your output should contain four parts:\n",
    "* Name of dish and extremely brief summary\n",
    "* Detailed preparation guide (try to describe each step based also on your knowledge - put this information that is not present in the book in the braces)\n",
    "* Ingredients chef already has\n",
    "* Ingredients missing and what is missing)\n",
    "\n",
    "You have acess also to tools order_ingredients to order desired ingredients for a selected recipe AND a atool retrieve_recipe - in order to get recipe chunks from the cookbook based on which \n",
    "you summarize it according to a provided guide. Note that you have to always rely on the recipe text chunks obtained with the retrieve_recipe. You are not allowed to propose a recipe that does not come\n",
    "from a retrieve_recipe text chunks.\n",
    "Be eager to run tools by yourself, be verbose and summarize what you have done.\n",
    "\n",
    "\"\"\""
   ]
  },
  {
   "cell_type": "code",
   "execution_count": 19,
   "id": "76fef7d5",
   "metadata": {
    "execution": {
     "iopub.execute_input": "2025-04-17T13:20:09.358896Z",
     "iopub.status.busy": "2025-04-17T13:20:09.358614Z",
     "iopub.status.idle": "2025-04-17T13:20:09.363109Z",
     "shell.execute_reply": "2025-04-17T13:20:09.362201Z"
    },
    "papermill": {
     "duration": 0.018144,
     "end_time": "2025-04-17T13:20:09.364552",
     "exception": false,
     "start_time": "2025-04-17T13:20:09.346408",
     "status": "completed"
    },
    "tags": []
   },
   "outputs": [],
   "source": [
    "bot_tools = [order_ingredients, retrieve_recipe, find_cuisine, summarize_cookbook]"
   ]
  },
  {
   "cell_type": "markdown",
   "id": "f2c2bd29",
   "metadata": {
    "papermill": {
     "duration": 0.011351,
     "end_time": "2025-04-17T13:20:09.386320",
     "exception": false,
     "start_time": "2025-04-17T13:20:09.374969",
     "status": "completed"
    },
    "tags": []
   },
   "source": [
    "# 🥷 Agentic approach "
   ]
  },
  {
   "cell_type": "markdown",
   "id": "1b7d4fea",
   "metadata": {
    "papermill": {
     "duration": 0.010597,
     "end_time": "2025-04-17T13:20:09.408199",
     "exception": false,
     "start_time": "2025-04-17T13:20:09.397602",
     "status": "completed"
    },
    "tags": []
   },
   "source": [
    "## State class\n",
    "Prepare class to store conversation history and success state of the conversation, along with ingredients lits."
   ]
  },
  {
   "cell_type": "code",
   "execution_count": 20,
   "id": "58c88883",
   "metadata": {
    "execution": {
     "iopub.execute_input": "2025-04-17T13:20:09.431586Z",
     "iopub.status.busy": "2025-04-17T13:20:09.431244Z",
     "iopub.status.idle": "2025-04-17T13:20:09.484447Z",
     "shell.execute_reply": "2025-04-17T13:20:09.483562Z"
    },
    "papermill": {
     "duration": 0.066256,
     "end_time": "2025-04-17T13:20:09.486024",
     "exception": false,
     "start_time": "2025-04-17T13:20:09.419768",
     "status": "completed"
    },
    "tags": []
   },
   "outputs": [],
   "source": [
    "from typing import Annotated\n",
    "from typing_extensions import TypedDict\n",
    "\n",
    "from langgraph.graph.message import add_messages\n",
    "\n",
    "\n",
    "class RecipeState(TypedDict):\n",
    "    \"\"\"State representing the cook chef's conversation.\"\"\"\n",
    "\n",
    "    # chats history\n",
    "    messages: Annotated[list, add_messages]\n",
    "\n",
    "    # list of ingredients eventually to buy\n",
    "    order: list[str]\n",
    "\n",
    "    # Flag indicating that the chef is satisfied\n",
    "    finished: bool"
   ]
  },
  {
   "cell_type": "markdown",
   "id": "46552d90",
   "metadata": {
    "papermill": {
     "duration": 0.010452,
     "end_time": "2025-04-17T13:20:09.507101",
     "exception": false,
     "start_time": "2025-04-17T13:20:09.496649",
     "status": "completed"
    },
    "tags": []
   },
   "source": [
    "## Extended and updated instruction for the Agent"
   ]
  },
  {
   "cell_type": "code",
   "execution_count": 21,
   "id": "37150037",
   "metadata": {
    "execution": {
     "iopub.execute_input": "2025-04-17T13:20:09.529120Z",
     "iopub.status.busy": "2025-04-17T13:20:09.528794Z",
     "iopub.status.idle": "2025-04-17T13:20:09.533640Z",
     "shell.execute_reply": "2025-04-17T13:20:09.532766Z"
    },
    "papermill": {
     "duration": 0.017617,
     "end_time": "2025-04-17T13:20:09.534998",
     "exception": false,
     "start_time": "2025-04-17T13:20:09.517381",
     "status": "completed"
    },
    "tags": []
   },
   "outputs": [],
   "source": [
    "CHEF_BOT_SYSINT = (\n",
    "    \"system\",\n",
    "    chat_instructions + \" If order of products was not succesfull, allow chef to continue without the product if he wishes to or try to order them again - ask chef for that.\\n \"\n",
    "    \"Say goodbye and wish buon appetite when finished. \"\n",
    "    \"After some software update, all functions you know now have the suffix '_tool' added, so it is a 'find_cuisine_tool' rather than just 'find_cuisine' and 'retrieve_recipe_tool' rather than 'retrieve_recipe' and so on. \"\n",
    "    \"Additionally you have confirm_satisfaction_tool to finish conversation when chef is satified and add_to_order_tool to place desired ingredients to order in the nearbye store.\",\n",
    ")\n",
    "WELCOME_MSG = \"Welcome to the ChefBot helper. Type `q` to quit. How may I serve you today?\""
   ]
  },
  {
   "cell_type": "markdown",
   "id": "ddd5aaed",
   "metadata": {
    "papermill": {
     "duration": 0.010443,
     "end_time": "2025-04-17T13:20:09.556196",
     "exception": false,
     "start_time": "2025-04-17T13:20:09.545753",
     "status": "completed"
    },
    "tags": []
   },
   "source": [
    "## Tools for the Agent and nodes for the graph"
   ]
  },
  {
   "cell_type": "code",
   "execution_count": 22,
   "id": "afb50be9",
   "metadata": {
    "execution": {
     "iopub.execute_input": "2025-04-17T13:20:09.579623Z",
     "iopub.status.busy": "2025-04-17T13:20:09.579211Z",
     "iopub.status.idle": "2025-04-17T13:20:09.620863Z",
     "shell.execute_reply": "2025-04-17T13:20:09.619899Z"
    },
    "papermill": {
     "duration": 0.054916,
     "end_time": "2025-04-17T13:20:09.622494",
     "exception": false,
     "start_time": "2025-04-17T13:20:09.567578",
     "status": "completed"
    },
    "tags": []
   },
   "outputs": [],
   "source": [
    "from langchain_core.messages.tool import ToolMessage\n",
    "from langgraph.prebuilt import ToolNode\n",
    "from langgraph.graph import StateGraph, START, END\n",
    "from langchain_core.tools import tool\n",
    "from langchain_core.messages.ai import AIMessage\n",
    "import time\n",
    "from collections.abc import Iterable\n",
    "\n",
    "@tool\n",
    "def find_cuisine_tool(cuisine_query: str) -> str:\n",
    "    \"\"\"Finds the appropriate cookbook for users request.\"\"\"\n",
    "    return find_cuisine(cuisine_query)\n",
    "\n",
    "@tool\n",
    "def summarize_cookbook_tool(filename: str):\n",
    "    \"\"\"Summarizes the selected cookbook.\"\"\"\n",
    "    return summarize_cookbook(filename)\n",
    "\n",
    "@tool\n",
    "def retrieve_recipe_tool(recipe_query: str) -> str:\n",
    "    \"\"\"Retrieves recipes as RAG utility.\"\"\"\n",
    "    return retrieve_recipe(recipe_query)\n",
    "\n",
    "@tool\n",
    "def add_to_order_tool(ingredients: Iterable[str]) -> str:\n",
    "    \"\"\"Adds the specified ingredient for order.\n",
    "\n",
    "    Returns:\n",
    "      The updated order in progress.    \"\"\"\n",
    "\n",
    "\n",
    "@tool\n",
    "def order_ingredients_tool() -> str:\n",
    "    \"\"\"Asks the chef if the order is correct.\n",
    "\n",
    "    Returns:\n",
    "      The user's free-text response.\n",
    "    \"\"\"\n",
    "\n",
    "\n",
    "@tool\n",
    "def confirm_satisfaction_tool():\n",
    "    \"\"\"Confirms chef's satisfaction with the help from chatbot, after recipe is presented and ingredients discussed.\n",
    "    \"\"\"\n",
    "\n",
    "\n",
    "\n",
    "def actions_node(state: RecipeState) -> RecipeState:\n",
    "    tool_msg = state.get(\"messages\", [])[-1]\n",
    "    order = state.get(\"order\", [])\n",
    "    outbound_msgs = []\n",
    "    chat_finished = False\n",
    "\n",
    "    for tool_call in tool_msg.tool_calls:\n",
    "        if tool_call[\"name\"] == \"add_to_order_tool\":            \n",
    "            order.append(f'{tool_call[\"args\"][\"ingredients\"]}')\n",
    "            response = \"Added to order: \" + \"\\n\".join(order)\n",
    "        \n",
    "        elif tool_call[\"name\"] == \"confirm_order_tool\":\n",
    "            print(\"Your order:\")\n",
    "            if not order:\n",
    "                print(\"  (no items)\")\n",
    "\n",
    "            for ingredient in order:\n",
    "                print(f\"  {ingredient}\")\n",
    "\n",
    "            response = input(\"Is this correct? \")\n",
    "        \n",
    "        elif tool_call[\"name\"] == \"order_ingredients_tool\":\n",
    "            response = \"Ingredients ordered!\"\n",
    "            \n",
    "        elif tool_call[\"name\"] == \"confirm_satisfaction_tool\":\n",
    "            response = \"I am glad I could help!\"\n",
    "            chat_finished = True\n",
    "            \n",
    "        else:\n",
    "            raise NotImplementedError(f'Unknown tool call: {tool_call[\"name\"]}')\n",
    "\n",
    "        outbound_msgs.append(\n",
    "            ToolMessage(\n",
    "                content=response,\n",
    "                name=tool_call[\"name\"],\n",
    "                tool_call_id=tool_call[\"id\"],\n",
    "            )\n",
    "        )\n",
    "    \n",
    "    return {\"messages\": outbound_msgs, \"order\": order, \"finished\": chat_finished}\n",
    "\n",
    "\n",
    "def human_node(state: RecipeState) -> RecipeState:\n",
    "    last_msg = state[\"messages\"][-1]\n",
    "    print(\"Model:\", last_msg.content)\n",
    "\n",
    "    user_input = input(\"User: \")\n",
    "\n",
    "    if user_input in {\"q\", \"quit\", \"exit\", \"goodbye\"}:\n",
    "        state[\"finished\"] = True\n",
    "\n",
    "    return state | {\"messages\": [(\"user\", user_input)]}\n",
    "\n",
    "\n",
    "# Comment this out if you wish interactive chat (based on 'input') instead of pre arranged user messages (for notebook demonstration purposes)\n",
    "input_strings = [\"I want chinese food today.\", \n",
    "                 \"All I have is some rice, I will take your suggested recipe.\", \n",
    "                 \"Please, add to order missing ingredients and order them.\", \n",
    "                 \"I am happy with your help, thank you.\"]\n",
    "input_iterator = iter(input_strings)\n",
    "\n",
    "def human_node(state: RecipeState) -> RecipeState:\n",
    "    last_msg = state[\"messages\"][-1]\n",
    "    print(\"Model:\", last_msg.content)\n",
    "\n",
    "    # Wait some time to decrease calls / minute to the API\n",
    "    time.sleep(30) \n",
    "    \n",
    "    try:\n",
    "        user_input = next(input_iterator)  # Get the next input from the iterator\n",
    "        print(f\"User: {user_input}\") # Print user input from array\n",
    "    except StopIteration:\n",
    "        state[\"finished\"] = True\n",
    "        return state  # Exit if the iterator is exhausted\n",
    "\n",
    "    if user_input in {\"q\", \"quit\", \"exit\", \"goodbye\"}:\n",
    "        state[\"finished\"] = True\n",
    "\n",
    "    return state | {\"messages\": [(\"user\", user_input)]}"
   ]
  },
  {
   "cell_type": "markdown",
   "id": "de5d9f03",
   "metadata": {
    "papermill": {
     "duration": 0.010089,
     "end_time": "2025-04-17T13:20:09.643582",
     "exception": false,
     "start_time": "2025-04-17T13:20:09.633493",
     "status": "completed"
    },
    "tags": []
   },
   "source": [
    "## Conditional edges"
   ]
  },
  {
   "cell_type": "code",
   "execution_count": 23,
   "id": "eaefe3c4",
   "metadata": {
    "execution": {
     "iopub.execute_input": "2025-04-17T13:20:09.665495Z",
     "iopub.status.busy": "2025-04-17T13:20:09.665152Z",
     "iopub.status.idle": "2025-04-17T13:20:09.671969Z",
     "shell.execute_reply": "2025-04-17T13:20:09.671104Z"
    },
    "papermill": {
     "duration": 0.019814,
     "end_time": "2025-04-17T13:20:09.673543",
     "exception": false,
     "start_time": "2025-04-17T13:20:09.653729",
     "status": "completed"
    },
    "tags": []
   },
   "outputs": [],
   "source": [
    "from typing import Literal\n",
    "\n",
    "def maybe_route_to_tools(state: RecipeState) -> str:\n",
    "    \"\"\"Route between chat and tool nodes if a tool call is made.\"\"\"\n",
    "    if not (msgs := state.get(\"messages\", [])):\n",
    "        raise ValueError(f\"No messages found when parsing state: {state}\")\n",
    "\n",
    "    msg = msgs[-1]\n",
    "\n",
    "    if state.get(\"finished\", False):\n",
    "        return END\n",
    "\n",
    "    elif hasattr(msg, \"tool_calls\") and len(msg.tool_calls) > 0:\n",
    "        if any(\n",
    "            tool[\"name\"] in tool_node.tools_by_name.keys() for tool in msg.tool_calls\n",
    "        ):\n",
    "            return \"context_tools\"\n",
    "        else:\n",
    "            return \"action_tools\"\n",
    "    \n",
    "    else:\n",
    "        return \"human\"\n",
    "\n",
    "\n",
    "def maybe_exit_human_node(state: RecipeState) -> Literal[\"chatbot\", \"__end__\"]:\n",
    "    \"\"\"Route to the chatbot, unless it looks like the user is exiting.\"\"\"\n",
    "    if state.get(\"finished\", False):\n",
    "        return END\n",
    "    else:\n",
    "        return \"chatbot\""
   ]
  },
  {
   "cell_type": "markdown",
   "id": "e8f46137",
   "metadata": {
    "execution": {
     "iopub.execute_input": "2025-04-12T16:44:25.338846Z",
     "iopub.status.busy": "2025-04-12T16:44:25.338429Z",
     "iopub.status.idle": "2025-04-12T16:44:25.344372Z",
     "shell.execute_reply": "2025-04-12T16:44:25.342927Z",
     "shell.execute_reply.started": "2025-04-12T16:44:25.338822Z"
    },
    "papermill": {
     "duration": 0.010526,
     "end_time": "2025-04-17T13:20:09.694594",
     "exception": false,
     "start_time": "2025-04-17T13:20:09.684068",
     "status": "completed"
    },
    "tags": []
   },
   "source": [
    "## Full graph building for the Agent"
   ]
  },
  {
   "cell_type": "code",
   "execution_count": 24,
   "id": "aab675d8",
   "metadata": {
    "execution": {
     "iopub.execute_input": "2025-04-17T13:20:09.718494Z",
     "iopub.status.busy": "2025-04-17T13:20:09.718155Z",
     "iopub.status.idle": "2025-04-17T13:20:09.752995Z",
     "shell.execute_reply": "2025-04-17T13:20:09.751968Z"
    },
    "papermill": {
     "duration": 0.048852,
     "end_time": "2025-04-17T13:20:09.754755",
     "exception": false,
     "start_time": "2025-04-17T13:20:09.705903",
     "status": "completed"
    },
    "tags": []
   },
   "outputs": [],
   "source": [
    "llm = ChatGoogleGenerativeAI(model=\"gemini-2.0-flash\")\n",
    "\n",
    "def chatbot_with_tools(state: RecipeState) -> RecipeState:\n",
    "    defaults = {\"order\": [], \"finished\": False}\n",
    "\n",
    "    if state['messages']:\n",
    "        new_output = llm_with_tools.invoke([CHEF_BOT_SYSINT] + state[\"messages\"])\n",
    "    else:\n",
    "        new_output = AIMessage(content=WELCOME_MSG)\n",
    "\n",
    "    return defaults | state | {'messages': [new_output]}\n",
    "\n",
    "\n",
    "# --------- tools\n",
    "auto_tools = [find_cuisine_tool, summarize_cookbook_tool, retrieve_recipe_tool]\n",
    "actions_tools = [add_to_order_tool, order_ingredients_tool, confirm_satisfaction_tool]\n",
    "\n",
    "tool_node = ToolNode(auto_tools)\n",
    "\n",
    "llm_with_tools = llm.bind_tools(auto_tools + actions_tools)\n",
    "\n",
    "# --------- graph\n",
    "graph_builder = StateGraph(RecipeState)\n",
    "\n",
    "# nodes\n",
    "graph_builder.add_node(\"chatbot\", chatbot_with_tools)\n",
    "graph_builder.add_node(\"human\", human_node)\n",
    "graph_builder.add_node(\"context_tools\", tool_node)\n",
    "graph_builder.add_node(\"action_tools\", actions_node)\n",
    "\n",
    "# edges\n",
    "graph_builder.add_edge(START, \"chatbot\")\n",
    "graph_builder.add_edge(\"context_tools\", \"chatbot\")\n",
    "graph_builder.add_edge(\"action_tools\", \"chatbot\")\n",
    "graph_builder.add_conditional_edges(\"chatbot\", maybe_route_to_tools)\n",
    "graph_builder.add_conditional_edges(\"human\", maybe_exit_human_node)\n",
    "\n",
    "chat_graph = graph_builder.compile()"
   ]
  },
  {
   "cell_type": "markdown",
   "id": "a39faf65",
   "metadata": {
    "papermill": {
     "duration": 0.010625,
     "end_time": "2025-04-17T13:20:09.776306",
     "exception": false,
     "start_time": "2025-04-17T13:20:09.765681",
     "status": "completed"
    },
    "tags": []
   },
   "source": [
    "## 💬 Test the Agentic Chatbot \n",
    "In this notebook a pre arranged user messages are run in a chat with the bot."
   ]
  },
  {
   "cell_type": "code",
   "execution_count": 25,
   "id": "f6dd2dfe",
   "metadata": {
    "execution": {
     "iopub.execute_input": "2025-04-17T13:20:09.799561Z",
     "iopub.status.busy": "2025-04-17T13:20:09.799228Z",
     "iopub.status.idle": "2025-04-17T13:22:19.348606Z",
     "shell.execute_reply": "2025-04-17T13:22:19.347556Z"
    },
    "papermill": {
     "duration": 129.562789,
     "end_time": "2025-04-17T13:22:19.350674",
     "exception": false,
     "start_time": "2025-04-17T13:20:09.787885",
     "status": "completed"
    },
    "tags": []
   },
   "outputs": [
    {
     "name": "stdout",
     "output_type": "stream",
     "text": [
      "Model: Welcome to the ChefBot helper. Type `q` to quit. How may I serve you today?\n",
      "User: I want chinese food today.\n",
      "Model: Okay, I have loaded the Chinese cookbook. Now, tell me which ingredients you already have, so I can suggest a recipe.\n",
      "User: All I have is some rice, I will take your suggested recipe.\n",
      "Model: Okay, I have a few recipes that use rice. How about \"Fried Rice with Herbs\"?\n",
      "\n",
      "*Name of dish and extremely brief summary:* Fried Rice with Herbs - A simple and tasty fried rice dish with celery, onion, and water chestnuts.\n",
      "\n",
      "*Detailed preparation guide:*\n",
      "\n",
      "1.  Fry one large onion a light brown in one and one half tablespoonfuls of pork fat. (Make sure the onion is evenly browned to add a sweet and savory base to the dish.)\n",
      "2.  Chop up three stalks of celery very fine, and add five water chestnuts, sliced thin.\n",
      "3.  Fry all a light brown, then take two cups of rice that has boiled for twenty-five minutes, or use cold rice if you have any on hand. (Using cold rice is preferable as it fries better and doesn't clump together.)\n",
      "4.  Mix all together with salt and cayenne and syou (soy sauce), and fry for ten minutes, shaking and stirring constantly.\n",
      "5.  Serve hot, garnished with any meat or fish, or alone. (This dish is versatile and can be customized with your favorite protein or vegetables.)\n",
      "\n",
      "*Ingredients chef already has:*\n",
      "\n",
      "*   Rice\n",
      "\n",
      "*Ingredients missing:*\n",
      "\n",
      "*   Pork fat (One and one half tablespoonfuls)\n",
      "*   Onion (One large)\n",
      "*   Celery (Three stalks)\n",
      "*   Water chestnuts (Five)\n",
      "*   Salt (One teaspoonful)\n",
      "*   Cayenne pepper (Dash)\n",
      "*   Syou (Soy sauce - Two tablespoonfuls)\n",
      "\n",
      "Do you want to order the missing ingredients?\n",
      "User: Please, add to order missing ingredients and order them.\n",
      "Model: OK. I have placed the order for: Pork fat, Onion, Celery, Water chestnuts, Salt, Cayenne pepper, and Soy sauce.\n",
      "\n",
      "Is there anything else I can help you with?\n",
      "User: I am happy with your help, thank you.\n"
     ]
    }
   ],
   "source": [
    "config = {\"recursion_limit\": 100}\n",
    "state = chat_graph.invoke({\"messages\": []}, config)"
   ]
  },
  {
   "cell_type": "code",
   "execution_count": 26,
   "id": "153a69df",
   "metadata": {
    "execution": {
     "iopub.execute_input": "2025-04-17T13:22:19.375313Z",
     "iopub.status.busy": "2025-04-17T13:22:19.374999Z",
     "iopub.status.idle": "2025-04-17T13:22:19.385862Z",
     "shell.execute_reply": "2025-04-17T13:22:19.384945Z"
    },
    "papermill": {
     "duration": 0.025659,
     "end_time": "2025-04-17T13:22:19.388353",
     "exception": false,
     "start_time": "2025-04-17T13:22:19.362694",
     "status": "completed"
    },
    "tags": []
   },
   "outputs": [
    {
     "name": "stdout",
     "output_type": "stream",
     "text": [
      "{'finished': True,\n",
      " 'messages': [AIMessage(content='Welcome to the ChefBot helper. Type `q` to quit. How may I serve you today?', additional_kwargs={}, response_metadata={}, id='7f4680aa-af42-4a69-bac1-6cd3a5a5841e'),\n",
      "              HumanMessage(content='I want chinese food today.', additional_kwargs={}, response_metadata={}, id='6a3d42bc-992b-4397-9177-c53e4cb717ea'),\n",
      "              AIMessage(content='', additional_kwargs={'function_call': {'name': 'find_cuisine_tool', 'arguments': '{\"cuisine_query\": \"chinese\"}'}}, response_metadata={'prompt_feedback': {'block_reason': 0, 'safety_ratings': []}, 'finish_reason': 'STOP', 'model_name': 'gemini-2.0-flash', 'safety_ratings': []}, id='run-1d42ec6a-7f5d-43b7-8c6f-0c333cbede3a-0', tool_calls=[{'name': 'find_cuisine_tool', 'args': {'cuisine_query': 'chinese'}, 'id': 'a888ea09-89b6-4283-83a4-86394fc02edd', 'type': 'tool_call'}], usage_metadata={'input_tokens': 562, 'output_tokens': 9, 'total_tokens': 571, 'input_token_details': {'cache_read': 0}}),\n",
      "              ToolMessage(content='chin.txt', name='find_cuisine_tool', id='ec58dc52-ed3c-4d1d-8754-d83323db235c', tool_call_id='a888ea09-89b6-4283-83a4-86394fc02edd'),\n",
      "              AIMessage(content='OK. I found a cookbook called chin.txt. It contains Chinese recipes. I will summarize it for you now.', additional_kwargs={'function_call': {'name': 'summarize_cookbook_tool', 'arguments': '{\"filename\": \"chin.txt\"}'}}, response_metadata={'prompt_feedback': {'block_reason': 0, 'safety_ratings': []}, 'finish_reason': 'STOP', 'model_name': 'gemini-2.0-flash', 'safety_ratings': []}, id='run-f7499ab3-a1d9-45b9-97f3-114df39e6e0a-0', tool_calls=[{'name': 'summarize_cookbook_tool', 'args': {'filename': 'chin.txt'}, 'id': '51bd26b5-d1a9-4051-b97d-bcc16a4b8fbe', 'type': 'tool_call'}], usage_metadata={'input_tokens': 580, 'output_tokens': 36, 'total_tokens': 616, 'input_token_details': {'cache_read': 0}}),\n",
      "              ToolMessage(content='null', name='summarize_cookbook_tool', id='66c9a4ed-c866-4fa2-9a75-e3385c99b440', tool_call_id='51bd26b5-d1a9-4051-b97d-bcc16a4b8fbe'),\n",
      "              AIMessage(content='Okay, I have loaded the Chinese cookbook. Now, tell me which ingredients you already have, so I can suggest a recipe.', additional_kwargs={}, response_metadata={'prompt_feedback': {'block_reason': 0, 'safety_ratings': []}, 'finish_reason': 'STOP', 'model_name': 'gemini-2.0-flash', 'safety_ratings': []}, id='run-2160c2c1-b3ac-41c8-98d8-fdc6da36b9e0-0', usage_metadata={'input_tokens': 599, 'output_tokens': 27, 'total_tokens': 626, 'input_token_details': {'cache_read': 0}}),\n",
      "              HumanMessage(content='All I have is some rice, I will take your suggested recipe.', additional_kwargs={}, response_metadata={}, id='e7bbdb25-64ce-432e-86c1-174ef95f85b0'),\n",
      "              AIMessage(content='', additional_kwargs={'function_call': {'name': 'retrieve_recipe_tool', 'arguments': '{\"recipe_query\": \"rice\"}'}}, response_metadata={'prompt_feedback': {'block_reason': 0, 'safety_ratings': []}, 'finish_reason': 'STOP', 'model_name': 'gemini-2.0-flash', 'safety_ratings': []}, id='run-be48460c-4f42-4084-82b3-d67e752deef4-0', tool_calls=[{'name': 'retrieve_recipe_tool', 'args': {'recipe_query': 'rice'}, 'id': '84eb543e-9f08-4b8a-b879-6a9d55228b5c', 'type': 'tool_call'}], usage_metadata={'input_tokens': 639, 'output_tokens': 9, 'total_tokens': 648, 'input_token_details': {'cache_read': 0}}),\n",
      "              ToolMessage(content='PASSAGE:   rice  if you have any on hand. Mix all together with  salt  and  cayenne  and syou, and fry for ten minutes, shaking and stirring constantly. Serve hot, garnished with any  meat  or  fish,  or alone. This is very tasty.        FRIED RICE WITH EGGS AND HERBS  Six  eggs;  one half pound of  rice;  one quarter pound of  pork,  very fat; three  water chestnuts;  one stalk of  celery;  one  onion;  one teaspoonful of chopped  parsley;  one teaspoonful of  salt;  pinch of  pepper.   First wash the rice and boil for half an hour. Cut up the  pork  very small, and fry brown. Add one  onion,  chopped fine; the three  water chestnuts,  sliced thin, and one stalk of  celery,  cut small.  Salt  and  pepper,  and fry all for ten minutes, taking care not to brown. Now turn in the  rice,  and fry five minutes. Meanwhile beat up six  eggs,  pour them over the mixture, stirring and shaking the pan constantly for five minutes, and serve hot.      FRIED RICE WITH TOMATO SAUCE   One teaspoonful of chopped  parsley;  two cupfuls of boiled  rice;  four  tomatoes,  or half a can; one  onion;  one tablespoonful of  fat pork;  dash of  cayenne.        Cut up the  pork  and fry brown. Put in the  onion,  then the  tomatoes  and  salt  and  cayenne . Fry for five minutes. Turn the  rice,  which has previously been cooked, into the pan and fry all together for five minutes. Place on hot platter, and garnish with minced  parsley  and  eggs,  threaded. Serve very hot. Make  eggs  thread by beating them with a tablespoonful of  water,  then pour through a sieve into boiling  water  and use as a garnish.            OMELETTES     FOO TAY D&#196;N (Chinese Ham and Eggs)  Six  eggs;  one tablespoonful of  ham fat;  one half cup of minced  ham;  one half dozen  water chestnuts;\\nPASSAGE:   There is no reason why these same dishes should not be cooked and served in any American home. When it is known how simple and clean are the ingredients used to make up these Oriental dishes, the Westerner will cease to feel that natural repugnance which assails one when about to taste a strange dish of a new and strange land.       Bread, butter, and potatoes are never used by the Chinese or Japanese. Tea is drunk plain, with neither cream nor sugar, but great care should be used in its brewing. Rice is indispensable, and should be cooked in that peculiarly delectable fashion of which the Oriental peoples alone are past masters. The secret of the solid, flaky, almost dry, yet thoroughly cooked rice lies in the fact that it is never boiled more than thirty minutes, is covered twenty minutes, never stirred nor disturbed, and set to dry on back of range when cooked, covered with a cloth. Mushy, wet, slimy, overcooked rice is unknown to the Chinese and Japanese. Sweetened rice, as in rice pudding and similar dishes, is unknown. Rice takes the place of such staples as bread and potatoes. Syou, sometimes called Soye, is similar to Worcestershire and similar European sauces. In fact, the latter are all said to be adaptations of the original Chinese syou, and most of these European sauces contain     syou in their makeup. It lends a flavor to any meat dish, and is greatly esteemed by the Oriental peoples.  In China, with the exception of rice, bonbons, and so on, food is served in one large dish or bowl, out of which all eat, using the chop-sticks. Considerable etiquette governs the manner of picking desired morsels from the main bowls. In high-caste or mandarin families a servant has his place at the foot of the table, but he stands throughout the meal. It is his duty to serve at the table the portions from the main dishes to each individual, and to do what the host generally does for the comfort of those at table. The other servants waiting on table take their orders from him, and he is really there as a sort of proxy for the host.  In Japan, individual meals are brought in on separate trays to each person. All sit cross-legged upon the floor before their trays. The Japanese consider it gross and vulgar to put     food in quantity upon the plate. The portions are very\\nPASSAGE:  and rinsed thoroughly.  Care must be taken to measure accurately the ingredients of recipes, for the spices and relishes used in Chinese kitchens are exceedingly hot and pronounced in flavor.  To make rich stock for soup use     only a quart of water to every pound of veal, mutton, or beef bone.  To determine whether a fish is fresh, watch that its flesh is firm and thick, its scales glistening, and its eyes prominent.  When dropped into a bowl or pan containing cold water, eggs that are absolutely fresh will immediately sink to the bottom and rest there; eggs which are not perfectly fresh will stand on end or rise a little.  Delicious dishes can be obtained only from the use of the purest and best quality of ingredients. A good cook needs to be as well a discriminating purchaser.  Glass measures recording pints and quarts of liquid and ounces and pounds of solids (like sugar), with the fractions thereof, are handy and sanitary.        TO BOIL RICE  Use an iron pot. Wash the  rice  thoroughly in many waters, until, in fact, the  water  is as clear as for drinking. To one cupful of  rice  add     one and a quarter cupfuls of  cold water.  Cover tight, and boil slowly half an hour--no more. On no account stir.  Rice  should not be disturbed till it is taken up; that is the secret of the dry, finely cooked Chinese  rice.  Set on back of range, covered with a clean cloth or napkin, until ready to serve.  Rice  should be served in individual bowls, replenished as soon as empty throughout the meal. With the Chinese it takes the place of bread or potatoes.  Salt  is not added until it is served.          TEA  The quantity of  tea  used depends on the quality, and the taste of the individual. Rinse the pot with boiling  water  before putting in the  tea.  The  water  should just come to a boil--no more. Pour on the  tea leaves.  Let it stand for two or three minutes, but on no account must it be allowed to boil. Strain  tea  from leaves, and serve pure, if Chinese  tea  is used. See more about  tea  on page 109.              SOUPS     YEA FOO MAIN\\nPASSAGE:  forming a layer at the bottom of the dish, and place the vegetables and  gravy  on top of the noodles. Add a layer of the shredded  chicken breast,  lastly the  yolks of hard-boiled eggs,  crumbled, as a garnish. Serve very hot.      LOBSTER CHOW MAIN  One pound of  lobster meat;  two  eggs;  one half pound of  noodles;  three stalks of  celery;  one can of  bamboo shoots;  one  onion;  one quarter pound of  mushrooms;  one tablespoonful of  sweet lard;  one quart of  peanut oil;  three  water chestnuts.   First boil the  peanut oil  and into it throw the noodles, cooking until crisp. Remove and drain, while preparing following: Put teaspoon of  sweet lard  into frying pan, and when hot turn in half the  lobster meat,  which has previously been cooked. (Canned      lobster  will do as well.) Cook for a few minutes, then add the  onion,   mushrooms,  and  water chestnuts.  The bamboo shoots are added last, and all fried for ten minutes. Take a hot platter, and place the crisp noodles as a layer at the bottom of the dish, and spread above ingredients on top. Then take the other half of the  lobster meat,  and place a layer on top. Garnish with shredded  yolks of hard-boiled eggs.             FRIED RICE     FRIED RICE WITH HERBS  Two cupfuls of boiled  rice;  one and one half teaspoonfuls of  pork fat;  three stalks of  celery;  one large  onion;  five  water chestnuts;  one teaspoonful of  salt;  dash  cayenne pepper;  two tablespoonfuls of  syou.   Fry one large  onion  a light brown in one and one half tablespoonfuls of  pork fat;  chop up three stalks of  celery  very fine, and add five  water chestnuts,  sliced thin. Fry all a light brown, then take two cups of  rice  that has boiled for twenty-five minutes, or use cold  rice  if you have any on hand. Mix all together with  salt  and  cayenne  and syou, and fry for\\nPASSAGE: ump steak,  cut in small pieces (strips about two inches long). Chop up the  suet  and fry out all the  fat,       drain, and fry the  beef  in it good and brown. Add the  onion  and slice the  lotus seeds.  Cut up the  mushrooms  and turn in. Fry for about two minutes, then add two tablespoonfuls of syou and  salt.  Cover up tight, and let it simmer for fifteen minutes. Serve with  rice.       FRIED RICE WITH CHICKEN AND MUSHROOMS  One pound of  rice;  one pound of cooked  flesh of chicken;  one pound of fresh  white mushrooms;  two stalks of  celery;  one  onion;  six  water chestnuts;  one tablespoonful of  pork fat;  two tablespoonfuls of  syou;  dash of cayenne  pepper;  one teaspoonful of  salt.   Boil one pound of  rice  for twenty minutes. While this is boiling, prepare the following: Take one pound of cooked  chicken  and cut it in small pieces. Put a tablespoonful of  pork fat  in the pan, and when it is very hot turn in the  chicken  and fry for a few minutes. Then cut up two stalks of       celery,  one  onion,  and six  water chestnuts,  and add with the syou cayenne, and  salt.  Fry all for ten minutes, then place the  rice  in a platter and pour the above over it. Cover tight, and let it soak through the  rice  thoroughly. Then garnish with chopped  parsley,  and serve.            CHOP SUEYS     EXTRA WHITE CHOP SUEY  Breast of one and one half pound  chicken;  one tablespoonful of  chicken fat;  one pound of fresh  mushrooms;  one half bunch of  celery;  one dozen  water chestnuts;  two  white onions;  one half can of  bamboo shoots;  two pounds of  bean sprouts;  one and one half teaspoonfuls of  salt;  two tablespoonfuls of  syou.   Cut in small pieces the  breast  of a young  chicken  of about one and one half pounds. Put a tablespoonful\\n', name='retrieve_recipe_tool', id='3713fb58-fad9-4532-807b-f4c6438dbba1', tool_call_id='84eb543e-9f08-4b8a-b879-6a9d55228b5c'),\n",
      "              AIMessage(content='Okay, I have a few recipes that use rice. How about \"Fried Rice with Herbs\"?\\n\\n*Name of dish and extremely brief summary:* Fried Rice with Herbs - A simple and tasty fried rice dish with celery, onion, and water chestnuts.\\n\\n*Detailed preparation guide:*\\n\\n1.  Fry one large onion a light brown in one and one half tablespoonfuls of pork fat. (Make sure the onion is evenly browned to add a sweet and savory base to the dish.)\\n2.  Chop up three stalks of celery very fine, and add five water chestnuts, sliced thin.\\n3.  Fry all a light brown, then take two cups of rice that has boiled for twenty-five minutes, or use cold rice if you have any on hand. (Using cold rice is preferable as it fries better and doesn\\'t clump together.)\\n4.  Mix all together with salt and cayenne and syou (soy sauce), and fry for ten minutes, shaking and stirring constantly.\\n5.  Serve hot, garnished with any meat or fish, or alone. (This dish is versatile and can be customized with your favorite protein or vegetables.)\\n\\n*Ingredients chef already has:*\\n\\n*   Rice\\n\\n*Ingredients missing:*\\n\\n*   Pork fat (One and one half tablespoonfuls)\\n*   Onion (One large)\\n*   Celery (Three stalks)\\n*   Water chestnuts (Five)\\n*   Salt (One teaspoonful)\\n*   Cayenne pepper (Dash)\\n*   Syou (Soy sauce - Two tablespoonfuls)\\n\\nDo you want to order the missing ingredients?', additional_kwargs={}, response_metadata={'prompt_feedback': {'block_reason': 0, 'safety_ratings': []}, 'finish_reason': 'STOP', 'model_name': 'gemini-2.0-flash', 'safety_ratings': []}, id='run-55229f78-cf20-4ecb-801b-a1909a67ad28-0', usage_metadata={'input_tokens': 3076, 'output_tokens': 331, 'total_tokens': 3407, 'input_token_details': {'cache_read': 0}}),\n",
      "              HumanMessage(content='Please, add to order missing ingredients and order them.', additional_kwargs={}, response_metadata={}, id='b3480997-eb13-46b0-9fe4-e7c7d24f8519'),\n",
      "              AIMessage(content='', additional_kwargs={'function_call': {'name': 'add_to_order_tool', 'arguments': '{\"ingredients\": [\"Pork fat\", \"Onion\", \"Celery\", \"Water chestnuts\", \"Salt\", \"Cayenne pepper\", \"Soy sauce\"]}'}}, response_metadata={'prompt_feedback': {'block_reason': 0, 'safety_ratings': []}, 'finish_reason': 'STOP', 'model_name': 'gemini-2.0-flash', 'safety_ratings': []}, id='run-1a7942ce-5bba-448a-a2f3-7c3412022b7c-0', tool_calls=[{'name': 'add_to_order_tool', 'args': {'ingredients': ['Pork fat', 'Onion', 'Celery', 'Water chestnuts', 'Salt', 'Cayenne pepper', 'Soy sauce']}, 'id': 'a2d4eebe-838f-47fa-8ed9-7305905842a4', 'type': 'tool_call'}], usage_metadata={'input_tokens': 3417, 'output_tokens': 21, 'total_tokens': 3438, 'input_token_details': {'cache_read': 0}}),\n",
      "              ToolMessage(content=\"Added to order: ['Pork fat', 'Onion', 'Celery', 'Water chestnuts', 'Salt', 'Cayenne pepper', 'Soy sauce']\", name='add_to_order_tool', id='ec25fdfb-b1f4-4ce5-8764-26fca05c37b4', tool_call_id='a2d4eebe-838f-47fa-8ed9-7305905842a4'),\n",
      "              AIMessage(content='', additional_kwargs={'function_call': {'name': 'order_ingredients_tool', 'arguments': '{}'}}, response_metadata={'prompt_feedback': {'block_reason': 0, 'safety_ratings': []}, 'finish_reason': 'STOP', 'model_name': 'gemini-2.0-flash', 'safety_ratings': []}, id='run-b1f0f740-d968-411a-a5d5-3b9a1c17d070-0', tool_calls=[{'name': 'order_ingredients_tool', 'args': {}, 'id': '13413803-6a70-4be7-a1e9-f27d870d1716', 'type': 'tool_call'}], usage_metadata={'input_tokens': 3477, 'output_tokens': 5, 'total_tokens': 3482, 'input_token_details': {'cache_read': 0}}),\n",
      "              ToolMessage(content='Ingredients ordered!', name='order_ingredients_tool', id='cdb2cda1-beb1-4694-b875-7d7ef32ca872', tool_call_id='13413803-6a70-4be7-a1e9-f27d870d1716'),\n",
      "              AIMessage(content='OK. I have placed the order for: Pork fat, Onion, Celery, Water chestnuts, Salt, Cayenne pepper, and Soy sauce.\\n\\nIs there anything else I can help you with?', additional_kwargs={}, response_metadata={'prompt_feedback': {'block_reason': 0, 'safety_ratings': []}, 'finish_reason': 'STOP', 'model_name': 'gemini-2.0-flash', 'safety_ratings': []}, id='run-4d7066ac-ea43-4183-aae9-1be327f3c604-0', usage_metadata={'input_tokens': 3491, 'output_tokens': 40, 'total_tokens': 3531, 'input_token_details': {'cache_read': 0}}),\n",
      "              HumanMessage(content='I am happy with your help, thank you.', additional_kwargs={}, response_metadata={}, id='8f0a24a3-aa13-4656-b5d8-309c8147c71b'),\n",
      "              AIMessage(content='', additional_kwargs={'function_call': {'name': 'confirm_satisfaction_tool', 'arguments': '{}'}}, response_metadata={'prompt_feedback': {'block_reason': 0, 'safety_ratings': []}, 'finish_reason': 'STOP', 'model_name': 'gemini-2.0-flash', 'safety_ratings': []}, id='run-5e853bf4-4c02-4ee9-a3da-d31564c012c1-0', tool_calls=[{'name': 'confirm_satisfaction_tool', 'args': {}, 'id': '4e7e71b6-f473-4bea-8f59-4ef451ea90a5', 'type': 'tool_call'}], usage_metadata={'input_tokens': 3540, 'output_tokens': 5, 'total_tokens': 3545, 'input_token_details': {'cache_read': 0}}),\n",
      "              ToolMessage(content='I am glad I could help!', name='confirm_satisfaction_tool', id='6d299257-a497-4dbe-a4fb-a57259436fd0', tool_call_id='4e7e71b6-f473-4bea-8f59-4ef451ea90a5'),\n",
      "              AIMessage(content='Great! I am glad I could help! Buon appetito!', additional_kwargs={}, response_metadata={'prompt_feedback': {'block_reason': 0, 'safety_ratings': []}, 'finish_reason': 'STOP', 'model_name': 'gemini-2.0-flash', 'safety_ratings': []}, id='run-3d9b2da3-4db3-4027-9969-1ffec71a7333-0', usage_metadata={'input_tokens': 3558, 'output_tokens': 14, 'total_tokens': 3572, 'input_token_details': {'cache_read': 0}})],\n",
      " 'order': [\"['Pork fat', 'Onion', 'Celery', 'Water chestnuts', 'Salt', \"\n",
      "           \"'Cayenne pepper', 'Soy sauce']\"]}\n",
      "AIMessage: Welcome to the ChefBot helper. Type `q` to quit. How may I serve you today?\n",
      "HumanMessage: I want chinese food today.\n",
      "AIMessage: \n",
      "ToolMessage: chin.txt\n",
      "AIMessage: OK. I found a cookbook called chin.txt. It contains Chinese recipes. I will summarize it for you now.\n",
      "ToolMessage: null\n",
      "AIMessage: Okay, I have loaded the Chinese cookbook. Now, tell me which ingredients you already have, so I can suggest a recipe.\n",
      "HumanMessage: All I have is some rice, I will take your suggested recipe.\n",
      "AIMessage: \n",
      "ToolMessage: PASSAGE:   rice  if you have any on hand. Mix all together with  salt  and  cayenne  and syou, and fry for ten minutes, shaking and stirring constantly. Serve hot, garnished with any  meat  or  fish,  or alone. This is very tasty.        FRIED RICE WITH EGGS AND HERBS  Six  eggs;  one half pound of  rice;  one quarter pound of  pork,  very fat; three  water chestnuts;  one stalk of  celery;  one  onion;  one teaspoonful of chopped  parsley;  one teaspoonful of  salt;  pinch of  pepper.   First wash the rice and boil for half an hour. Cut up the  pork  very small, and fry brown. Add one  onion,  chopped fine; the three  water chestnuts,  sliced thin, and one stalk of  celery,  cut small.  Salt  and  pepper,  and fry all for ten minutes, taking care not to brown. Now turn in the  rice,  and fry five minutes. Meanwhile beat up six  eggs,  pour them over the mixture, stirring and shaking the pan constantly for five minutes, and serve hot.      FRIED RICE WITH TOMATO SAUCE   One teaspoonful of chopped  parsley;  two cupfuls of boiled  rice;  four  tomatoes,  or half a can; one  onion;  one tablespoonful of  fat pork;  dash of  cayenne.        Cut up the  pork  and fry brown. Put in the  onion,  then the  tomatoes  and  salt  and  cayenne . Fry for five minutes. Turn the  rice,  which has previously been cooked, into the pan and fry all together for five minutes. Place on hot platter, and garnish with minced  parsley  and  eggs,  threaded. Serve very hot. Make  eggs  thread by beating them with a tablespoonful of  water,  then pour through a sieve into boiling  water  and use as a garnish.            OMELETTES     FOO TAY D&#196;N (Chinese Ham and Eggs)  Six  eggs;  one tablespoonful of  ham fat;  one half cup of minced  ham;  one half dozen  water chestnuts;\n",
      "PASSAGE:   There is no reason why these same dishes should not be cooked and served in any American home. When it is known how simple and clean are the ingredients used to make up these Oriental dishes, the Westerner will cease to feel that natural repugnance which assails one when about to taste a strange dish of a new and strange land.       Bread, butter, and potatoes are never used by the Chinese or Japanese. Tea is drunk plain, with neither cream nor sugar, but great care should be used in its brewing. Rice is indispensable, and should be cooked in that peculiarly delectable fashion of which the Oriental peoples alone are past masters. The secret of the solid, flaky, almost dry, yet thoroughly cooked rice lies in the fact that it is never boiled more than thirty minutes, is covered twenty minutes, never stirred nor disturbed, and set to dry on back of range when cooked, covered with a cloth. Mushy, wet, slimy, overcooked rice is unknown to the Chinese and Japanese. Sweetened rice, as in rice pudding and similar dishes, is unknown. Rice takes the place of such staples as bread and potatoes. Syou, sometimes called Soye, is similar to Worcestershire and similar European sauces. In fact, the latter are all said to be adaptations of the original Chinese syou, and most of these European sauces contain     syou in their makeup. It lends a flavor to any meat dish, and is greatly esteemed by the Oriental peoples.  In China, with the exception of rice, bonbons, and so on, food is served in one large dish or bowl, out of which all eat, using the chop-sticks. Considerable etiquette governs the manner of picking desired morsels from the main bowls. In high-caste or mandarin families a servant has his place at the foot of the table, but he stands throughout the meal. It is his duty to serve at the table the portions from the main dishes to each individual, and to do what the host generally does for the comfort of those at table. The other servants waiting on table take their orders from him, and he is really there as a sort of proxy for the host.  In Japan, individual meals are brought in on separate trays to each person. All sit cross-legged upon the floor before their trays. The Japanese consider it gross and vulgar to put     food in quantity upon the plate. The portions are very\n",
      "PASSAGE:  and rinsed thoroughly.  Care must be taken to measure accurately the ingredients of recipes, for the spices and relishes used in Chinese kitchens are exceedingly hot and pronounced in flavor.  To make rich stock for soup use     only a quart of water to every pound of veal, mutton, or beef bone.  To determine whether a fish is fresh, watch that its flesh is firm and thick, its scales glistening, and its eyes prominent.  When dropped into a bowl or pan containing cold water, eggs that are absolutely fresh will immediately sink to the bottom and rest there; eggs which are not perfectly fresh will stand on end or rise a little.  Delicious dishes can be obtained only from the use of the purest and best quality of ingredients. A good cook needs to be as well a discriminating purchaser.  Glass measures recording pints and quarts of liquid and ounces and pounds of solids (like sugar), with the fractions thereof, are handy and sanitary.        TO BOIL RICE  Use an iron pot. Wash the  rice  thoroughly in many waters, until, in fact, the  water  is as clear as for drinking. To one cupful of  rice  add     one and a quarter cupfuls of  cold water.  Cover tight, and boil slowly half an hour--no more. On no account stir.  Rice  should not be disturbed till it is taken up; that is the secret of the dry, finely cooked Chinese  rice.  Set on back of range, covered with a clean cloth or napkin, until ready to serve.  Rice  should be served in individual bowls, replenished as soon as empty throughout the meal. With the Chinese it takes the place of bread or potatoes.  Salt  is not added until it is served.          TEA  The quantity of  tea  used depends on the quality, and the taste of the individual. Rinse the pot with boiling  water  before putting in the  tea.  The  water  should just come to a boil--no more. Pour on the  tea leaves.  Let it stand for two or three minutes, but on no account must it be allowed to boil. Strain  tea  from leaves, and serve pure, if Chinese  tea  is used. See more about  tea  on page 109.              SOUPS     YEA FOO MAIN\n",
      "PASSAGE:  forming a layer at the bottom of the dish, and place the vegetables and  gravy  on top of the noodles. Add a layer of the shredded  chicken breast,  lastly the  yolks of hard-boiled eggs,  crumbled, as a garnish. Serve very hot.      LOBSTER CHOW MAIN  One pound of  lobster meat;  two  eggs;  one half pound of  noodles;  three stalks of  celery;  one can of  bamboo shoots;  one  onion;  one quarter pound of  mushrooms;  one tablespoonful of  sweet lard;  one quart of  peanut oil;  three  water chestnuts.   First boil the  peanut oil  and into it throw the noodles, cooking until crisp. Remove and drain, while preparing following: Put teaspoon of  sweet lard  into frying pan, and when hot turn in half the  lobster meat,  which has previously been cooked. (Canned      lobster  will do as well.) Cook for a few minutes, then add the  onion,   mushrooms,  and  water chestnuts.  The bamboo shoots are added last, and all fried for ten minutes. Take a hot platter, and place the crisp noodles as a layer at the bottom of the dish, and spread above ingredients on top. Then take the other half of the  lobster meat,  and place a layer on top. Garnish with shredded  yolks of hard-boiled eggs.             FRIED RICE     FRIED RICE WITH HERBS  Two cupfuls of boiled  rice;  one and one half teaspoonfuls of  pork fat;  three stalks of  celery;  one large  onion;  five  water chestnuts;  one teaspoonful of  salt;  dash  cayenne pepper;  two tablespoonfuls of  syou.   Fry one large  onion  a light brown in one and one half tablespoonfuls of  pork fat;  chop up three stalks of  celery  very fine, and add five  water chestnuts,  sliced thin. Fry all a light brown, then take two cups of  rice  that has boiled for twenty-five minutes, or use cold  rice  if you have any on hand. Mix all together with  salt  and  cayenne  and syou, and fry for\n",
      "PASSAGE: ump steak,  cut in small pieces (strips about two inches long). Chop up the  suet  and fry out all the  fat,       drain, and fry the  beef  in it good and brown. Add the  onion  and slice the  lotus seeds.  Cut up the  mushrooms  and turn in. Fry for about two minutes, then add two tablespoonfuls of syou and  salt.  Cover up tight, and let it simmer for fifteen minutes. Serve with  rice.       FRIED RICE WITH CHICKEN AND MUSHROOMS  One pound of  rice;  one pound of cooked  flesh of chicken;  one pound of fresh  white mushrooms;  two stalks of  celery;  one  onion;  six  water chestnuts;  one tablespoonful of  pork fat;  two tablespoonfuls of  syou;  dash of cayenne  pepper;  one teaspoonful of  salt.   Boil one pound of  rice  for twenty minutes. While this is boiling, prepare the following: Take one pound of cooked  chicken  and cut it in small pieces. Put a tablespoonful of  pork fat  in the pan, and when it is very hot turn in the  chicken  and fry for a few minutes. Then cut up two stalks of       celery,  one  onion,  and six  water chestnuts,  and add with the syou cayenne, and  salt.  Fry all for ten minutes, then place the  rice  in a platter and pour the above over it. Cover tight, and let it soak through the  rice  thoroughly. Then garnish with chopped  parsley,  and serve.            CHOP SUEYS     EXTRA WHITE CHOP SUEY  Breast of one and one half pound  chicken;  one tablespoonful of  chicken fat;  one pound of fresh  mushrooms;  one half bunch of  celery;  one dozen  water chestnuts;  two  white onions;  one half can of  bamboo shoots;  two pounds of  bean sprouts;  one and one half teaspoonfuls of  salt;  two tablespoonfuls of  syou.   Cut in small pieces the  breast  of a young  chicken  of about one and one half pounds. Put a tablespoonful\n",
      "\n",
      "AIMessage: Okay, I have a few recipes that use rice. How about \"Fried Rice with Herbs\"?\n",
      "\n",
      "*Name of dish and extremely brief summary:* Fried Rice with Herbs - A simple and tasty fried rice dish with celery, onion, and water chestnuts.\n",
      "\n",
      "*Detailed preparation guide:*\n",
      "\n",
      "1.  Fry one large onion a light brown in one and one half tablespoonfuls of pork fat. (Make sure the onion is evenly browned to add a sweet and savory base to the dish.)\n",
      "2.  Chop up three stalks of celery very fine, and add five water chestnuts, sliced thin.\n",
      "3.  Fry all a light brown, then take two cups of rice that has boiled for twenty-five minutes, or use cold rice if you have any on hand. (Using cold rice is preferable as it fries better and doesn't clump together.)\n",
      "4.  Mix all together with salt and cayenne and syou (soy sauce), and fry for ten minutes, shaking and stirring constantly.\n",
      "5.  Serve hot, garnished with any meat or fish, or alone. (This dish is versatile and can be customized with your favorite protein or vegetables.)\n",
      "\n",
      "*Ingredients chef already has:*\n",
      "\n",
      "*   Rice\n",
      "\n",
      "*Ingredients missing:*\n",
      "\n",
      "*   Pork fat (One and one half tablespoonfuls)\n",
      "*   Onion (One large)\n",
      "*   Celery (Three stalks)\n",
      "*   Water chestnuts (Five)\n",
      "*   Salt (One teaspoonful)\n",
      "*   Cayenne pepper (Dash)\n",
      "*   Syou (Soy sauce - Two tablespoonfuls)\n",
      "\n",
      "Do you want to order the missing ingredients?\n",
      "HumanMessage: Please, add to order missing ingredients and order them.\n",
      "AIMessage: \n",
      "ToolMessage: Added to order: ['Pork fat', 'Onion', 'Celery', 'Water chestnuts', 'Salt', 'Cayenne pepper', 'Soy sauce']\n",
      "AIMessage: \n",
      "ToolMessage: Ingredients ordered!\n",
      "AIMessage: OK. I have placed the order for: Pork fat, Onion, Celery, Water chestnuts, Salt, Cayenne pepper, and Soy sauce.\n",
      "\n",
      "Is there anything else I can help you with?\n",
      "HumanMessage: I am happy with your help, thank you.\n",
      "AIMessage: \n",
      "ToolMessage: I am glad I could help!\n",
      "AIMessage: Great! I am glad I could help! Buon appetito!\n"
     ]
    }
   ],
   "source": [
    "from pprint import pprint\n",
    "pprint(state)\n",
    "for msg in state[\"messages\"]:\n",
    "    print(f\"{type(msg).__name__}: {msg.content}\")"
   ]
  }
 ],
 "metadata": {
  "kaggle": {
   "accelerator": "none",
   "dataSources": [
    {
     "sourceId": 97258,
     "sourceType": "competition"
    },
    {
     "datasetId": 512760,
     "sourceId": 945693,
     "sourceType": "datasetVersion"
    }
   ],
   "dockerImageVersionId": 31012,
   "isGpuEnabled": false,
   "isInternetEnabled": true,
   "language": "python",
   "sourceType": "notebook"
  },
  "kernelspec": {
   "display_name": "Python 3",
   "language": "python",
   "name": "python3"
  },
  "language_info": {
   "codemirror_mode": {
    "name": "ipython",
    "version": 3
   },
   "file_extension": ".py",
   "mimetype": "text/x-python",
   "name": "python",
   "nbconvert_exporter": "python",
   "pygments_lexer": "ipython3",
   "version": "3.11.11"
  },
  "papermill": {
   "default_parameters": {},
   "duration": 215.331898,
   "end_time": "2025-04-17T13:22:20.523915",
   "environment_variables": {},
   "exception": null,
   "input_path": "__notebook__.ipynb",
   "output_path": "__notebook__.ipynb",
   "parameters": {},
   "start_time": "2025-04-17T13:18:45.192017",
   "version": "2.6.0"
  }
 },
 "nbformat": 4,
 "nbformat_minor": 5
}
