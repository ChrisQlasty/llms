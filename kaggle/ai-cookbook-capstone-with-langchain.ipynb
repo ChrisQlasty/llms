{
 "cells": [
  {
   "cell_type": "markdown",
   "id": "fd90d994",
   "metadata": {
    "papermill": {
     "duration": 0.005929,
     "end_time": "2025-04-16T12:38:51.120323",
     "exception": false,
     "start_time": "2025-04-16T12:38:51.114394",
     "status": "completed"
    },
    "tags": []
   },
   "source": [
    "# 📖 Introduction"
   ]
  },
  {
   "cell_type": "markdown",
   "id": "c63992a6",
   "metadata": {
    "_cell_guid": "b1076dfc-b9ad-4769-8c92-a6c4dae69d19",
    "_uuid": "8f2839f25d086af736a60e9eeb907d3b93b6e0e5",
    "papermill": {
     "duration": 0.004516,
     "end_time": "2025-04-16T12:38:51.130086",
     "exception": false,
     "start_time": "2025-04-16T12:38:51.125570",
     "status": "completed"
    },
    "tags": []
   },
   "source": [
    "This is a notebook that summarizes some of the knowledge gained through the **5-day Gen AI Intensive Course with Google** in a form of the **Gen AI Intensive Course Capstone 2025Q1**.  \n",
    "\n",
    "## It is a refactored approach to use **LangChain** capabilities where possible.\n",
    "\n",
    "### TODO: verify list below when finished\n",
    "\n",
    "It implements the intelligent chef assistant bot, whose main capabilities are:\n",
    "* selection of proper cookbook based on users suggestion\n",
    "* suggestion of a recipe eg. based on available ingredients\n",
    "* dummy ordering of ingredients\n",
    "\n",
    "The **gen AI capabilities** used in the notebook are:  \n",
    "✅ Embeddings  \n",
    "✅ Few shot prompting  \n",
    "✅ Structured output/JSON mode/controlled generation  \n",
    "✅ Retrieval augmented generation (RAG)  \n",
    "✅ Vector search/vector store/vector database   \n",
    "✅ Agents with LangGraph"
   ]
  },
  {
   "cell_type": "markdown",
   "id": "98b0de47",
   "metadata": {
    "papermill": {
     "duration": 0.004492,
     "end_time": "2025-04-16T12:38:51.139346",
     "exception": false,
     "start_time": "2025-04-16T12:38:51.134854",
     "status": "completed"
    },
    "tags": []
   },
   "source": [
    "# ⚒ Installation and setup"
   ]
  },
  {
   "cell_type": "code",
   "execution_count": 1,
   "id": "a11ae2aa",
   "metadata": {
    "execution": {
     "iopub.execute_input": "2025-04-16T12:38:51.150254Z",
     "iopub.status.busy": "2025-04-16T12:38:51.149928Z",
     "iopub.status.idle": "2025-04-16T12:39:30.987405Z",
     "shell.execute_reply": "2025-04-16T12:39:30.986306Z"
    },
    "papermill": {
     "duration": 39.844889,
     "end_time": "2025-04-16T12:39:30.989185",
     "exception": false,
     "start_time": "2025-04-16T12:38:51.144296",
     "status": "completed"
    },
    "tags": []
   },
   "outputs": [
    {
     "name": "stdout",
     "output_type": "stream",
     "text": [
      "\u001b[33mWARNING: Skipping kfp as it is not installed.\u001b[0m\u001b[33m\r\n",
      "\u001b[2K     \u001b[90m━━━━━━━━━━━━━━━━━━━━━━━━━━━━━━━━━━━━━━━━\u001b[0m \u001b[32m43.5/43.5 kB\u001b[0m \u001b[31m1.4 MB/s\u001b[0m eta \u001b[36m0:00:00\u001b[0m\r\n",
      "\u001b[2K   \u001b[90m━━━━━━━━━━━━━━━━━━━━━━━━━━━━━━━━━━━━━━━━\u001b[0m \u001b[32m138.0/138.0 kB\u001b[0m \u001b[31m4.7 MB/s\u001b[0m eta \u001b[36m0:00:00\u001b[0m\r\n",
      "\u001b[2K   \u001b[90m━━━━━━━━━━━━━━━━━━━━━━━━━━━━━━━━━━━━━━━━\u001b[0m \u001b[32m42.0/42.0 kB\u001b[0m \u001b[31m1.9 MB/s\u001b[0m eta \u001b[36m0:00:00\u001b[0m\r\n",
      "\u001b[2K   \u001b[90m━━━━━━━━━━━━━━━━━━━━━━━━━━━━━━━━━━━━━━━━\u001b[0m \u001b[32m1.0/1.0 MB\u001b[0m \u001b[31m21.0 MB/s\u001b[0m eta \u001b[36m0:00:00\u001b[0m\r\n",
      "\u001b[2K   \u001b[90m━━━━━━━━━━━━━━━━━━━━━━━━━━━━━━━━━━━━━━━━\u001b[0m \u001b[32m2.5/2.5 MB\u001b[0m \u001b[31m52.3 MB/s\u001b[0m eta \u001b[36m0:00:00\u001b[0m\r\n",
      "\u001b[2K   \u001b[90m━━━━━━━━━━━━━━━━━━━━━━━━━━━━━━━━━━━━━━━━\u001b[0m \u001b[32m1.4/1.4 MB\u001b[0m \u001b[31m45.3 MB/s\u001b[0m eta \u001b[36m0:00:00\u001b[0m\r\n",
      "\u001b[2K   \u001b[90m━━━━━━━━━━━━━━━━━━━━━━━━━━━━━━━━━━━━━━━━\u001b[0m \u001b[32m433.6/433.6 kB\u001b[0m \u001b[31m19.3 MB/s\u001b[0m eta \u001b[36m0:00:00\u001b[0m\r\n",
      "\u001b[2K   \u001b[90m━━━━━━━━━━━━━━━━━━━━━━━━━━━━━━━━━━━━━━━━\u001b[0m \u001b[32m42.0/42.0 kB\u001b[0m \u001b[31m1.7 MB/s\u001b[0m eta \u001b[36m0:00:00\u001b[0m\r\n",
      "\u001b[2K   \u001b[90m━━━━━━━━━━━━━━━━━━━━━━━━━━━━━━━━━━━━━━━━\u001b[0m \u001b[32m47.2/47.2 kB\u001b[0m \u001b[31m1.9 MB/s\u001b[0m eta \u001b[36m0:00:00\u001b[0m\r\n",
      "\u001b[2K   \u001b[90m━━━━━━━━━━━━━━━━━━━━━━━━━━━━━━━━━━━━━━━━\u001b[0m \u001b[32m223.6/223.6 kB\u001b[0m \u001b[31m7.2 MB/s\u001b[0m eta \u001b[36m0:00:00\u001b[0m\r\n",
      "\u001b[?25h"
     ]
    }
   ],
   "source": [
    "!pip uninstall -qqy kfp jupyterlab libpysal thinc spacy fastai ydata-profiling google-cloud-bigquery google-generativeai\n",
    "\n",
    "!pip install -qU 'langgraph==0.3.21' 'langchain-google-genai==2.1.2' 'langgraph-prebuilt==0.1.7' 'langchain' 'langchain-community'"
   ]
  },
  {
   "cell_type": "code",
   "execution_count": 2,
   "id": "4dd18294",
   "metadata": {
    "execution": {
     "iopub.execute_input": "2025-04-16T12:39:31.002861Z",
     "iopub.status.busy": "2025-04-16T12:39:31.002500Z",
     "iopub.status.idle": "2025-04-16T12:39:56.048519Z",
     "shell.execute_reply": "2025-04-16T12:39:56.047576Z"
    },
    "papermill": {
     "duration": 25.054812,
     "end_time": "2025-04-16T12:39:56.050166",
     "exception": false,
     "start_time": "2025-04-16T12:39:30.995354",
     "status": "completed"
    },
    "tags": []
   },
   "outputs": [
    {
     "name": "stdout",
     "output_type": "stream",
     "text": [
      "\u001b[2K     \u001b[90m━━━━━━━━━━━━━━━━━━━━━━━━━━━━━━━━━━━━━━━━\u001b[0m \u001b[32m67.3/67.3 kB\u001b[0m \u001b[31m2.7 MB/s\u001b[0m eta \u001b[36m0:00:00\u001b[0m\r\n",
      "\u001b[?25h  Installing build dependencies ... \u001b[?25l\u001b[?25hdone\r\n",
      "  Getting requirements to build wheel ... \u001b[?25l\u001b[?25hdone\r\n",
      "  Preparing metadata (pyproject.toml) ... \u001b[?25l\u001b[?25hdone\r\n",
      "\u001b[2K   \u001b[90m━━━━━━━━━━━━━━━━━━━━━━━━━━━━━━━━━━━━━━━━\u001b[0m \u001b[32m144.7/144.7 kB\u001b[0m \u001b[31m5.1 MB/s\u001b[0m eta \u001b[36m0:00:00\u001b[0m\r\n",
      "\u001b[2K   \u001b[90m━━━━━━━━━━━━━━━━━━━━━━━━━━━━━━━━━━━━━━━━\u001b[0m \u001b[32m611.1/611.1 kB\u001b[0m \u001b[31m16.8 MB/s\u001b[0m eta \u001b[36m0:00:00\u001b[0m\r\n",
      "\u001b[2K   \u001b[90m━━━━━━━━━━━━━━━━━━━━━━━━━━━━━━━━━━━━━━━━\u001b[0m \u001b[32m2.4/2.4 MB\u001b[0m \u001b[31m57.4 MB/s\u001b[0m eta \u001b[36m0:00:00\u001b[0m\r\n",
      "\u001b[2K   \u001b[90m━━━━━━━━━━━━━━━━━━━━━━━━━━━━━━━━━━━━━━━━\u001b[0m \u001b[32m100.9/100.9 kB\u001b[0m \u001b[31m4.7 MB/s\u001b[0m eta \u001b[36m0:00:00\u001b[0m\r\n",
      "\u001b[2K   \u001b[90m━━━━━━━━━━━━━━━━━━━━━━━━━━━━━━━━━━━━━━━━\u001b[0m \u001b[32m284.2/284.2 kB\u001b[0m \u001b[31m13.8 MB/s\u001b[0m eta \u001b[36m0:00:00\u001b[0m\r\n",
      "\u001b[2K   \u001b[90m━━━━━━━━━━━━━━━━━━━━━━━━━━━━━━━━━━━━━━━━\u001b[0m \u001b[32m95.2/95.2 kB\u001b[0m \u001b[31m5.7 MB/s\u001b[0m eta \u001b[36m0:00:00\u001b[0m\r\n",
      "\u001b[2K   \u001b[90m━━━━━━━━━━━━━━━━━━━━━━━━━━━━━━━━━━━━━━━━\u001b[0m \u001b[32m2.0/2.0 MB\u001b[0m \u001b[31m61.8 MB/s\u001b[0m eta \u001b[36m0:00:00\u001b[0m\r\n",
      "\u001b[2K   \u001b[90m━━━━━━━━━━━━━━━━━━━━━━━━━━━━━━━━━━━━━━━━\u001b[0m \u001b[32m101.6/101.6 kB\u001b[0m \u001b[31m5.5 MB/s\u001b[0m eta \u001b[36m0:00:00\u001b[0m\r\n",
      "\u001b[2K   \u001b[90m━━━━━━━━━━━━━━━━━━━━━━━━━━━━━━━━━━━━━━━━\u001b[0m \u001b[32m16.0/16.0 MB\u001b[0m \u001b[31m86.0 MB/s\u001b[0m eta \u001b[36m0:00:00\u001b[0m\r\n",
      "\u001b[2K   \u001b[90m━━━━━━━━━━━━━━━━━━━━━━━━━━━━━━━━━━━━━━━━\u001b[0m \u001b[32m55.9/55.9 kB\u001b[0m \u001b[31m2.4 MB/s\u001b[0m eta \u001b[36m0:00:00\u001b[0m\r\n",
      "\u001b[2K   \u001b[90m━━━━━━━━━━━━━━━━━━━━━━━━━━━━━━━━━━━━━━━━\u001b[0m \u001b[32m188.4/188.4 kB\u001b[0m \u001b[31m10.8 MB/s\u001b[0m eta \u001b[36m0:00:00\u001b[0m\r\n",
      "\u001b[2K   \u001b[90m━━━━━━━━━━━━━━━━━━━━━━━━━━━━━━━━━━━━━━━━\u001b[0m \u001b[32m65.3/65.3 kB\u001b[0m \u001b[31m3.2 MB/s\u001b[0m eta \u001b[36m0:00:00\u001b[0m\r\n",
      "\u001b[2K   \u001b[90m━━━━━━━━━━━━━━━━━━━━━━━━━━━━━━━━━━━━━━━━\u001b[0m \u001b[32m119.0/119.0 kB\u001b[0m \u001b[31m6.2 MB/s\u001b[0m eta \u001b[36m0:00:00\u001b[0m\r\n",
      "\u001b[2K   \u001b[90m━━━━━━━━━━━━━━━━━━━━━━━━━━━━━━━━━━━━━━━━\u001b[0m \u001b[32m89.1/89.1 kB\u001b[0m \u001b[31m4.7 MB/s\u001b[0m eta \u001b[36m0:00:00\u001b[0m\r\n",
      "\u001b[2K   \u001b[90m━━━━━━━━━━━━━━━━━━━━━━━━━━━━━━━━━━━━━━━━\u001b[0m \u001b[32m62.4/62.4 kB\u001b[0m \u001b[31m3.0 MB/s\u001b[0m eta \u001b[36m0:00:00\u001b[0m\r\n",
      "\u001b[2K   \u001b[90m━━━━━━━━━━━━━━━━━━━━━━━━━━━━━━━━━━━━━━━━\u001b[0m \u001b[32m459.8/459.8 kB\u001b[0m \u001b[31m19.1 MB/s\u001b[0m eta \u001b[36m0:00:00\u001b[0m\r\n",
      "\u001b[2K   \u001b[90m━━━━━━━━━━━━━━━━━━━━━━━━━━━━━━━━━━━━━━━━\u001b[0m \u001b[32m319.7/319.7 kB\u001b[0m \u001b[31m18.3 MB/s\u001b[0m eta \u001b[36m0:00:00\u001b[0m\r\n",
      "\u001b[2K   \u001b[90m━━━━━━━━━━━━━━━━━━━━━━━━━━━━━━━━━━━━━━━━\u001b[0m \u001b[32m72.0/72.0 kB\u001b[0m \u001b[31m4.0 MB/s\u001b[0m eta \u001b[36m0:00:00\u001b[0m\r\n",
      "\u001b[2K   \u001b[90m━━━━━━━━━━━━━━━━━━━━━━━━━━━━━━━━━━━━━━━━\u001b[0m \u001b[32m4.0/4.0 MB\u001b[0m \u001b[31m74.2 MB/s\u001b[0m eta \u001b[36m0:00:00\u001b[0m\r\n",
      "\u001b[2K   \u001b[90m━━━━━━━━━━━━━━━━━━━━━━━━━━━━━━━━━━━━━━━━\u001b[0m \u001b[32m454.8/454.8 kB\u001b[0m \u001b[31m22.4 MB/s\u001b[0m eta \u001b[36m0:00:00\u001b[0m\r\n",
      "\u001b[2K   \u001b[90m━━━━━━━━━━━━━━━━━━━━━━━━━━━━━━━━━━━━━━━━\u001b[0m \u001b[32m46.0/46.0 kB\u001b[0m \u001b[31m2.3 MB/s\u001b[0m eta \u001b[36m0:00:00\u001b[0m\r\n",
      "\u001b[2K   \u001b[90m━━━━━━━━━━━━━━━━━━━━━━━━━━━━━━━━━━━━━━━━\u001b[0m \u001b[32m86.8/86.8 kB\u001b[0m \u001b[31m5.4 MB/s\u001b[0m eta \u001b[36m0:00:00\u001b[0m\r\n",
      "\u001b[?25h  Building wheel for pypika (pyproject.toml) ... \u001b[?25l\u001b[?25hdone\r\n",
      "\u001b[31mERROR: pip's dependency resolver does not currently take into account all the packages that are installed. This behaviour is the source of the following dependency conflicts.\r\n",
      "jupyterlab-lsp 3.10.2 requires jupyterlab<4.0.0a0,>=3.1.0, which is not installed.\r\n",
      "pandas-gbq 0.26.1 requires google-cloud-bigquery<4.0.0dev,>=3.4.2, which is not installed.\r\n",
      "bigframes 1.36.0 requires google-cloud-bigquery[bqstorage,pandas]>=3.18.0, which is not installed.\r\n",
      "google-cloud-aiplatform 1.79.0 requires google-cloud-bigquery!=3.20.0,<4.0.0dev,>=1.15.0, which is not installed.\r\n",
      "google-cloud-translate 3.12.1 requires protobuf!=3.20.0,!=3.20.1,!=4.21.0,!=4.21.1,!=4.21.2,!=4.21.3,!=4.21.4,!=4.21.5,<5.0.0dev,>=3.19.5, but you have protobuf 5.29.4 which is incompatible.\r\n",
      "google-api-core 1.34.1 requires protobuf!=3.20.0,!=3.20.1,!=4.21.0,!=4.21.1,!=4.21.2,!=4.21.3,!=4.21.4,!=4.21.5,<4.0.0dev,>=3.19.5, but you have protobuf 5.29.4 which is incompatible.\r\n",
      "google-spark-connect 0.5.2 requires google-api-core>=2.19.1, but you have google-api-core 1.34.1 which is incompatible.\r\n",
      "pandas-gbq 0.26.1 requires google-api-core<3.0.0dev,>=2.10.2, but you have google-api-core 1.34.1 which is incompatible.\r\n",
      "bigframes 1.36.0 requires rich<14,>=12.4.4, but you have rich 14.0.0 which is incompatible.\r\n",
      "google-cloud-bigtable 2.28.1 requires google-api-core[grpc]<3.0.0dev,>=2.16.0, but you have google-api-core 1.34.1 which is incompatible.\u001b[0m\u001b[31m\r\n",
      "\u001b[0m"
     ]
    }
   ],
   "source": [
    "!pip install -qU \"google-genai==1.7.0\" \"chromadb==0.6.3\""
   ]
  },
  {
   "cell_type": "markdown",
   "id": "752bd26a",
   "metadata": {
    "papermill": {
     "duration": 0.006968,
     "end_time": "2025-04-16T12:39:56.064696",
     "exception": false,
     "start_time": "2025-04-16T12:39:56.057728",
     "status": "completed"
    },
    "tags": []
   },
   "source": [
    "Verify installed genai version"
   ]
  },
  {
   "cell_type": "code",
   "execution_count": 3,
   "id": "73fa8199",
   "metadata": {
    "execution": {
     "iopub.execute_input": "2025-04-16T12:39:56.080673Z",
     "iopub.status.busy": "2025-04-16T12:39:56.079820Z",
     "iopub.status.idle": "2025-04-16T12:39:57.303692Z",
     "shell.execute_reply": "2025-04-16T12:39:57.302854Z"
    },
    "papermill": {
     "duration": 1.233317,
     "end_time": "2025-04-16T12:39:57.304992",
     "exception": false,
     "start_time": "2025-04-16T12:39:56.071675",
     "status": "completed"
    },
    "tags": []
   },
   "outputs": [
    {
     "data": {
      "text/plain": [
       "'1.7.0'"
      ]
     },
     "execution_count": 3,
     "metadata": {},
     "output_type": "execute_result"
    }
   ],
   "source": [
    "from google import genai\n",
    "from google.genai import types\n",
    "\n",
    "genai.__version__"
   ]
  },
  {
   "cell_type": "markdown",
   "id": "f47c74f4",
   "metadata": {
    "papermill": {
     "duration": 0.007033,
     "end_time": "2025-04-16T12:39:57.320029",
     "exception": false,
     "start_time": "2025-04-16T12:39:57.312996",
     "status": "completed"
    },
    "tags": []
   },
   "source": [
    "Setup the API key and env variable."
   ]
  },
  {
   "cell_type": "code",
   "execution_count": 4,
   "id": "ed7b1d92",
   "metadata": {
    "execution": {
     "iopub.execute_input": "2025-04-16T12:39:57.336519Z",
     "iopub.status.busy": "2025-04-16T12:39:57.335421Z",
     "iopub.status.idle": "2025-04-16T12:39:57.878435Z",
     "shell.execute_reply": "2025-04-16T12:39:57.877672Z"
    },
    "papermill": {
     "duration": 0.552973,
     "end_time": "2025-04-16T12:39:57.880331",
     "exception": false,
     "start_time": "2025-04-16T12:39:57.327358",
     "status": "completed"
    },
    "tags": []
   },
   "outputs": [],
   "source": [
    "import os\n",
    "from kaggle_secrets import UserSecretsClient\n",
    "from enum import Enum, auto\n",
    "\n",
    "class LLM_PROVIDER(Enum):\n",
    "    GOOGLE = auto()\n",
    "\n",
    "OUR_LLM_PROVIDER = LLM_PROVIDER.GOOGLE\n",
    "LLM_KWARGS = dict(model=\"gemini-1.5-flash\")\n",
    "\n",
    "GOOGLE_API_KEY = UserSecretsClient().get_secret(\"GOOGLE_API_KEY\")\n",
    "client = genai.Client(api_key=GOOGLE_API_KEY)\n",
    "\n",
    "# This is crucial, necessary for LangGraph invoke\n",
    "os.environ['GOOGLE_API_KEY'] = GOOGLE_API_KEY\n",
    "\n",
    "is_retriable = lambda e: (isinstance(e, genai.errors.APIError) and e.code in {429, 503})"
   ]
  },
  {
   "cell_type": "markdown",
   "id": "9fdc8bd0",
   "metadata": {
    "execution": {
     "iopub.execute_input": "2025-04-11T14:18:48.778215Z",
     "iopub.status.busy": "2025-04-11T14:18:48.77787Z",
     "iopub.status.idle": "2025-04-11T14:18:48.782625Z",
     "shell.execute_reply": "2025-04-11T14:18:48.781857Z",
     "shell.execute_reply.started": "2025-04-11T14:18:48.778191Z"
    },
    "papermill": {
     "duration": 0.006984,
     "end_time": "2025-04-16T12:39:57.895232",
     "exception": false,
     "start_time": "2025-04-16T12:39:57.888248",
     "status": "completed"
    },
    "tags": []
   },
   "source": [
    "# 📚 Cookbook data corpus preparation\n",
    "\n",
    "From the attached dataset **Cookbooks** select some books and get the first N characters, based on which the titles will be retrieved later."
   ]
  },
  {
   "cell_type": "code",
   "execution_count": 5,
   "id": "c9935c42",
   "metadata": {
    "execution": {
     "iopub.execute_input": "2025-04-16T12:39:57.911049Z",
     "iopub.status.busy": "2025-04-16T12:39:57.910744Z",
     "iopub.status.idle": "2025-04-16T12:39:58.493116Z",
     "shell.execute_reply": "2025-04-16T12:39:58.492129Z"
    },
    "papermill": {
     "duration": 0.591785,
     "end_time": "2025-04-16T12:39:58.494460",
     "exception": false,
     "start_time": "2025-04-16T12:39:57.902675",
     "status": "completed"
    },
    "tags": []
   },
   "outputs": [
    {
     "name": "stdout",
     "output_type": "stream",
     "text": [
      "amem.txt\n",
      "chin.txt\n",
      "epia.txt\n",
      "grea.txt\n",
      "linc.txt\n"
     ]
    }
   ],
   "source": [
    "import os\n",
    "import re\n",
    "import json\n",
    "import typing_extensions as typing\n",
    "from google.api_core import retry\n",
    "from langchain_community.document_loaders import TextLoader\n",
    "\n",
    "CLIP = 250\n",
    "NUM_BOOKS = 5\n",
    "BOOKS_STEP = 12\n",
    "\n",
    "book_headers = []\n",
    "book_file_names = []\n",
    "\n",
    "for dirname, _, filenames in os.walk('/kaggle/input'):\n",
    "    for filename in sorted(filenames)[::BOOKS_STEP][:NUM_BOOKS]:\n",
    "\n",
    "        book_loader = TextLoader(os.path.join(dirname, filename))\n",
    "        book = book_loader.load()\n",
    "        \n",
    "        book_headers.append(book[0].page_content[:CLIP])\n",
    "        book_file_names.append(filename)\n",
    "        print(filename)"
   ]
  },
  {
   "cell_type": "markdown",
   "id": "b0d3000e",
   "metadata": {
    "execution": {
     "iopub.execute_input": "2025-04-11T14:20:58.710653Z",
     "iopub.status.busy": "2025-04-11T14:20:58.709996Z",
     "iopub.status.idle": "2025-04-11T14:20:58.714991Z",
     "shell.execute_reply": "2025-04-11T14:20:58.714141Z",
     "shell.execute_reply.started": "2025-04-11T14:20:58.710628Z"
    },
    "papermill": {
     "duration": 0.007173,
     "end_time": "2025-04-16T12:39:58.509463",
     "exception": false,
     "start_time": "2025-04-16T12:39:58.502290",
     "status": "completed"
    },
    "tags": []
   },
   "source": [
    "## 📝 Titles retrieval\n",
    "Define Pydantic model for a function output, to help structure the few_shot_prompt and LLM call output format.\n",
    "Capabilities:\n",
    "* **few shot prompting**\n",
    "* **structured output controlled generation**"
   ]
  },
  {
   "cell_type": "code",
   "execution_count": 6,
   "id": "07a52f9e",
   "metadata": {
    "execution": {
     "iopub.execute_input": "2025-04-16T12:39:58.525947Z",
     "iopub.status.busy": "2025-04-16T12:39:58.525495Z",
     "iopub.status.idle": "2025-04-16T12:39:58.531984Z",
     "shell.execute_reply": "2025-04-16T12:39:58.531093Z"
    },
    "papermill": {
     "duration": 0.01628,
     "end_time": "2025-04-16T12:39:58.533438",
     "exception": false,
     "start_time": "2025-04-16T12:39:58.517158",
     "status": "completed"
    },
    "tags": []
   },
   "outputs": [],
   "source": [
    "from pydantic import BaseModel, Field\n",
    "\n",
    "class BookInfo(BaseModel):\n",
    "    title: str = Field(description=\"Title of a book\")\n",
    "    authors: list[str] = Field(description=\"Book authors list\")"
   ]
  },
  {
   "cell_type": "code",
   "execution_count": 7,
   "id": "e34ef789",
   "metadata": {
    "execution": {
     "iopub.execute_input": "2025-04-16T12:39:58.550540Z",
     "iopub.status.busy": "2025-04-16T12:39:58.549731Z",
     "iopub.status.idle": "2025-04-16T12:39:58.709831Z",
     "shell.execute_reply": "2025-04-16T12:39:58.708975Z"
    },
    "papermill": {
     "duration": 0.170495,
     "end_time": "2025-04-16T12:39:58.711545",
     "exception": false,
     "start_time": "2025-04-16T12:39:58.541050",
     "status": "completed"
    },
    "tags": []
   },
   "outputs": [],
   "source": [
    "from langchain_core.prompts import PromptTemplate, FewShotPromptTemplate\n",
    "from langchain_core.example_selectors import LengthBasedExampleSelector\n",
    "from langchain_core.output_parsers import JsonOutputParser\n",
    "\n",
    "few_shot_prompt_instruction = \"Parse the begining of given book to retrieve title and authors. Note there can be many new-line characters inside the text.\"\n",
    "examples = [{\"input\": \"\\n \\n \\n \\n The American Woman's Home: or, Principles of Domestic Science; being a Guide to the Formation and Maintenance of Economical, Healthful, Beautiful, and Christian Homes.  Beecher, Catharine Esther  Stowe, Harriet Beecher  Home economics.  Introduction. The Christian Family. A Christian House. A Healthful Home.\",\n",
    "            \"output\": \n",
    "                \"\"\"\n",
    "                title: \"The American Woman's Home: or, Principles of Domestic Science; being a Guide to the Formation and Maintenance of Economical, Healthful, Beautiful, and Christian Homes.\\n\"\n",
    "                authors: [\"Catharine Beecher\", \"Stowe Esther\", \"Beecher Harriet\"]\n",
    "                \"\"\",\n",
    "            },           \n",
    "            {\"input\": \"\\n\\n Directions for Cookery, in its Various Branches.\\n Leslie, Eliza \\nCookery, American.\\n\",\n",
    "            \"output\":\n",
    "                \"\"\"\n",
    "                title: \"Directions for Cookery, in its Various Branches.\"\n",
    "                authors: [\"Eliza Leslie\"]\n",
    "                \"\"\",\n",
    "            },\n",
    "            {\"input\": \"\\n\\n \\n\\n \\nA bookplate illustration of a illuminated reading lap and an open book.  \\nThis book belongs to Beatrice V. Grant.\\n\\n\",\n",
    "            \"output\":\n",
    "                \"\"\"\n",
    "                title: \"A bookplate illustration of a illuminated reading lap and an open book.\"\n",
    "                authors: [\"Beatrice V. Grant\"]\n",
    "                \"\"\"\n",
    "           }]\n",
    "\n",
    "example_prompt = PromptTemplate(\n",
    "    input_variables = [\"input\", \"output\"],\n",
    "    template = \"EXAMPLE: {input}\\nResponse: {output}\",  \n",
    ")\n",
    "\n",
    "example_selector = LengthBasedExampleSelector(\n",
    "    examples=examples,\n",
    "    example_prompt=example_prompt,\n",
    "    max_length=500,\n",
    ")\n",
    "\n",
    "output_parser = JsonOutputParser(pydantic_object=BookInfo)\n",
    "format_instructions = output_parser.get_format_instructions()\n",
    "\n",
    "dynamic_prompt = FewShotPromptTemplate(\n",
    "    example_selector=example_selector,\n",
    "    example_prompt=example_prompt,\n",
    "    prefix=few_shot_prompt_instruction + \"\\n {format_instructions}\",\n",
    "    suffix=\"EXAMPLE: {header}\\nResponse:\",\n",
    "    input_variables=[\"header\"],\n",
    "    partial_variables={\"format_instructions\": format_instructions},\n",
    ")"
   ]
  },
  {
   "cell_type": "code",
   "execution_count": 8,
   "id": "a51fa1a6",
   "metadata": {
    "execution": {
     "iopub.execute_input": "2025-04-16T12:39:58.728061Z",
     "iopub.status.busy": "2025-04-16T12:39:58.727285Z",
     "iopub.status.idle": "2025-04-16T12:39:58.732499Z",
     "shell.execute_reply": "2025-04-16T12:39:58.731606Z"
    },
    "papermill": {
     "duration": 0.014874,
     "end_time": "2025-04-16T12:39:58.733893",
     "exception": false,
     "start_time": "2025-04-16T12:39:58.719019",
     "status": "completed"
    },
    "tags": []
   },
   "outputs": [
    {
     "name": "stdout",
     "output_type": "stream",
     "text": [
      "Parse the begining of given book to retrieve title and authors. Note there can be many new-line characters inside the text.\n",
      " The output should be formatted as a JSON instance that conforms to the JSON schema below.\n",
      "\n",
      "As an example, for the schema {\"properties\": {\"foo\": {\"title\": \"Foo\", \"description\": \"a list of strings\", \"type\": \"array\", \"items\": {\"type\": \"string\"}}}, \"required\": [\"foo\"]}\n",
      "the object {\"foo\": [\"bar\", \"baz\"]} is a well-formatted instance of the schema. The object {\"properties\": {\"foo\": [\"bar\", \"baz\"]}} is not well-formatted.\n",
      "\n",
      "Here is the output schema:\n",
      "```\n",
      "{\"properties\": {\"title\": {\"description\": \"Title of a book\", \"title\": \"Title\", \"type\": \"string\"}, \"authors\": {\"description\": \"Book authors list\", \"items\": {\"type\": \"string\"}, \"title\": \"Authors\", \"type\": \"array\"}}, \"required\": [\"title\", \"authors\"]}\n",
      "```\n",
      "\n",
      "EXAMPLE: \n",
      " \n",
      " \n",
      " \n",
      " The American Woman's Home: or, Principles of Domestic Science; being a Guide to the Formation and Maintenance of Economical, Healthful, Beautiful, and Christian Homes.  Beecher, Catharine Esther  Stowe, Harriet Beecher  Home economics.  Introduction. The Christian Family. A Christian House. A Healthful Home.\n",
      "Response: \n",
      "                title: \"The American Woman's Home: or, Principles of Domestic Science; being a Guide to the Formation and Maintenance of Economical, Healthful, Beautiful, and Christian Homes.\n",
      "\"\n",
      "                authors: [\"Catharine Beecher\", \"Stowe Esther\", \"Beecher Harriet\"]\n",
      "                \n",
      "\n",
      "EXAMPLE: \n",
      "\n",
      " Directions for Cookery, in its Various Branches.\n",
      " Leslie, Eliza \n",
      "Cookery, American.\n",
      "\n",
      "Response: \n",
      "                title: \"Directions for Cookery, in its Various Branches.\"\n",
      "                authors: [\"Eliza Leslie\"]\n",
      "                \n",
      "\n",
      "EXAMPLE: \n",
      "\n",
      " \n",
      "\n",
      " \n",
      "A bookplate illustration of a illuminated reading lap and an open book.  \n",
      "This book belongs to Beatrice V. Grant.\n",
      "\n",
      "\n",
      "Response: \n",
      "                title: \"A bookplate illustration of a illuminated reading lap and an open book.\"\n",
      "                authors: [\"Beatrice V. Grant\"]\n",
      "                \n",
      "\n",
      "EXAMPLE: Cookbook for oldies. Mr. Matuzalem\n",
      "Response:\n"
     ]
    }
   ],
   "source": [
    "print(dynamic_prompt.format(header=\"Cookbook for oldies. Mr. Matuzalem\"))"
   ]
  },
  {
   "cell_type": "code",
   "execution_count": 9,
   "id": "a2c3d518",
   "metadata": {
    "execution": {
     "iopub.execute_input": "2025-04-16T12:39:58.751761Z",
     "iopub.status.busy": "2025-04-16T12:39:58.750993Z",
     "iopub.status.idle": "2025-04-16T12:39:58.755710Z",
     "shell.execute_reply": "2025-04-16T12:39:58.754913Z"
    },
    "papermill": {
     "duration": 0.014347,
     "end_time": "2025-04-16T12:39:58.756966",
     "exception": false,
     "start_time": "2025-04-16T12:39:58.742619",
     "status": "completed"
    },
    "tags": []
   },
   "outputs": [],
   "source": [
    "def gen_llm_factory(provider: LLM_PROVIDER, args=None, kwargs=None):\n",
    "    if provider == LLM_PROVIDER.GOOGLE:\n",
    "        return GoogleGenerativeAI(**kwargs)\n",
    "        \n",
    "    else:\n",
    "        raise NotImplementedError(f\"The provider {provider} is not supported!\")"
   ]
  },
  {
   "cell_type": "code",
   "execution_count": 10,
   "id": "c596bbcf",
   "metadata": {
    "execution": {
     "iopub.execute_input": "2025-04-16T12:39:58.773470Z",
     "iopub.status.busy": "2025-04-16T12:39:58.772713Z",
     "iopub.status.idle": "2025-04-16T12:40:03.115914Z",
     "shell.execute_reply": "2025-04-16T12:40:03.114938Z"
    },
    "papermill": {
     "duration": 4.352723,
     "end_time": "2025-04-16T12:40:03.117277",
     "exception": false,
     "start_time": "2025-04-16T12:39:58.764554",
     "status": "completed"
    },
    "tags": []
   },
   "outputs": [
    {
     "name": "stdout",
     "output_type": "stream",
     "text": [
      "=========================\n",
      "Original book header:\n",
      "\n",
      " \n",
      " \n",
      "\n",
      " \n",
      "  \n",
      "\n",
      " \n",
      " \n",
      " \n",
      "\n",
      "\n",
      " The American Matron: Or, Practical and Scientific Cookery. \n",
      "\n",
      "\n",
      " By a Housekeeper. \n",
      "\n",
      "\n",
      " Boston: J. Munroe &amp; Co., 1851 \n",
      "\n",
      " [Page images for  The American Matron  were produced before MSU began the \"Feeding America\" digitization pro\n",
      "=========================\n",
      "Retrieved title and authors:\n",
      "{'title': 'The American Matron: Or, Practical and Scientific Cookery.', 'authors': ['A Housekeeper']}\n",
      "\n",
      "=========================\n",
      "\n",
      "=========================\n",
      "Original book header:\n",
      "\n",
      " \n",
      " \n",
      "  \n",
      " \n",
      " Chinese-Japanese Cook Book \n",
      " Bosse, Sara \n",
      " Watanna, Onoto \n",
      " Cookery, Chinese. Cookery, Japanese. Cookery, American. \n",
      " Part 1 Chinese Recipes. Rules for Cooking. Soups. Gravy. Fish. Poultry and Game. Meats. Chop Sueys. Chow Mains. Fried Rice\n",
      "=========================\n",
      "Retrieved title and authors:\n",
      "{'title': 'Chinese-Japanese Cook Book', 'authors': ['Sara Bosse', 'Onoto Watanna']}\n",
      "\n",
      "=========================\n",
      "\n",
      "=========================\n",
      "Original book header:\n",
      "\n",
      " \n",
      " \n",
      " \n",
      "  The Epicurean...  Ranhofer, Charles.  Cookery, American. Cookery, French. Menus.  Complete title: The Epicurean. A complete treatise of Analytical and Practical Studies on the Culinary Art including Table and Wine Service, How to Prepare and \n",
      "=========================\n",
      "Retrieved title and authors:\n",
      "{'title': 'The Epicurean...', 'authors': ['Charles Ranhofer']}\n",
      "\n",
      "=========================\n",
      "\n",
      "=========================\n",
      "Original book header:\n",
      "\n",
      " \n",
      " \n",
      " \n",
      " \n",
      "  The Great Western Cook Book, or Table Receipts, Adapted to Western Housewifery.  Collins, Anna Maria  Cookery, American.  Soups and broths. Fish. Boiling. Sauces and gravies. Pickling. Vegetables. Bread. Roasting. Broiling, etc. Preserves. \n",
      "=========================\n",
      "Retrieved title and authors:\n",
      "{'title': 'The Great Western Cook Book, or Table Receipts, Adapted to Western Housewifery.', 'authors': ['Anna Maria Collins']}\n",
      "\n",
      "=========================\n",
      "\n",
      "=========================\n",
      "Original book header:\n",
      "\n",
      " \n",
      " \n",
      " \n",
      " \n",
      " Mrs. Lincoln's Boston Cook Book. What to Do and What Not to Do in Cooking. \n",
      " Lincoln, Mary Johnson \n",
      " Cookery, American. \n",
      " Introduction. Bread and Bread Making. Receipts for Yeast and Bread. Raised Biscuit, Rolls, etc. Stale Bread, Toast, etc\n",
      "=========================\n",
      "Retrieved title and authors:\n",
      "{'title': \"Mrs. Lincoln's Boston Cook Book. What to Do and What Not to Do in Cooking.\", 'authors': ['Mary Johnson Lincoln']}\n",
      "\n",
      "=========================\n",
      "\n"
     ]
    }
   ],
   "source": [
    "from langchain_google_genai import GoogleGenerativeAI\n",
    "\n",
    "llm = gen_llm_factory(OUR_LLM_PROVIDER, kwargs=LLM_KWARGS)\n",
    "\n",
    "@retry.Retry(predicate=is_retriable, timeout=3.0)\n",
    "def extract_header_meta(book_header: str) -> dict:\n",
    "\n",
    "    chain = dynamic_prompt | llm | output_parser\n",
    "    \n",
    "    return chain.invoke({\"header\": book_header})\n",
    "    \n",
    "\n",
    "titles_retrieved = [] \n",
    "for book_header in book_headers:\n",
    "    print(\"=========================\")\n",
    "    print(\"Original book header:\\n\")\n",
    "    print(book_header)\n",
    "\n",
    "    try:        \n",
    "        book_info = extract_header_meta(book_header)\n",
    "        titles_retrieved.append(book_info.get(\"title\"))\n",
    "        print(\"=========================\")\n",
    "        print(\"Retrieved title and authors:\")\n",
    "        print(book_info)\n",
    "        print(\"\")\n",
    "    except:\n",
    "        print(\"error\")\n",
    "        titles_retrieved.append(\"\")\n",
    "    print(\"=========================\\n\")"
   ]
  },
  {
   "cell_type": "markdown",
   "id": "3133f250",
   "metadata": {
    "papermill": {
     "duration": 0.007422,
     "end_time": "2025-04-16T12:40:03.132712",
     "exception": false,
     "start_time": "2025-04-16T12:40:03.125290",
     "status": "completed"
    },
    "tags": []
   },
   "source": [
    "# 🧠 RAG utilities\n",
    "## Text chunking"
   ]
  },
  {
   "cell_type": "code",
   "execution_count": 11,
   "id": "67421aa1",
   "metadata": {
    "execution": {
     "iopub.execute_input": "2025-04-16T12:40:03.149542Z",
     "iopub.status.busy": "2025-04-16T12:40:03.148729Z",
     "iopub.status.idle": "2025-04-16T12:40:04.282261Z",
     "shell.execute_reply": "2025-04-16T12:40:04.281173Z"
    },
    "papermill": {
     "duration": 1.143491,
     "end_time": "2025-04-16T12:40:04.283824",
     "exception": false,
     "start_time": "2025-04-16T12:40:03.140333",
     "status": "completed"
    },
    "tags": []
   },
   "outputs": [
    {
     "name": "stdout",
     "output_type": "stream",
     "text": [
      " \n",
      " \n",
      " \n",
      " \n",
      " Mrs. Lincoln's Boston Cook Book. What to Do and What Not to Do in Cooking. \n",
      " Lincoln, Mary Johnson \n",
      " Cookery, American. \n",
      " Introduction. Bread and Bread Making. Receipts for Yeast and Bread. Raised Biscuit, Rolls, etc. Stale Bread, Toast, etc. Soda Biscuit, Muffins, Gems, etc. Waffles and Griddle-Cakes. Fried Muffins, Fritters, Doughnuts, etc. Oatmeal and other Grains. Beverages. Soup and Stock. Soup without Stock. Fish. Shell Fish. Meat and Fish Sauces. Eggs. Meat. Beef. Mutton and Lamb. Veal. Pork. Poultry and Game. Entr&#233;es and Meat R&#233;chauff&#233;. Sundries. Vegetables. Rice and Macaroni. Salads. Pastry and Pies. Pudding Sauces. Hot Puddings. Custards, Jellies, and Creams. Ice-Cream and Sherbet. Cake. Fruit. Cooking for Invalids. Miscellaneous Hints. The Dining-Room. The Care of Kitchen Utensils. An Outline of Study for Teachers. Suggestions to Teachers. A Course of Study for Normal Pupils. Miscellaneous Questions for Examination. Topics and Illustrations for Lectures on Cookery. Course of Instruction at the Boston Cooking-School. Explanation of Terms used in Cookery. List of Utensils needed in a Cooking-School. \n",
      " Boston: Roberts Brothers. \n",
      " Electronic edition created by Digital &#38; Multimedia Center, Michigan State University Libraries, East Lansing, Michigan, 2002-2003. \n",
      " Supplementary material by Jan Longone, Anne-Marie Rachman, Peter Berg, Yvonne Lockwood, and Val Berryman \n",
      " 1884 \n",
      " Text \n",
      " xml-external-parsed-entity \n",
      " jpeg \n",
      " quicktime \n",
      " http://digital.lib.msu.edu/cookbooks/mrslincoln/linc.xml \n",
      " OCLC 3299992 \n",
      " en \n",
      " Digitized as part of \"Feeding America: The Historic American Cookbook Project.\" Michigan State University Libraries, East Lansing, Michigan, 2002-2003. http://digital.lib.msu.edu/cookbooks/ \n",
      " United States \n",
      " Nineteenth century \n",
      " The book digitized here was published in the United States before 1923 and is in the public domain according to U.S. copyright\n"
     ]
    }
   ],
   "source": [
    "from langchain.text_splitter import TokenTextSplitter\n",
    "\n",
    "splitter = TokenTextSplitter(\n",
    "    encoding_name=\"cl100k_base\", # Example encoding for newer OpenAI models\n",
    "    chunk_size=500,  # Target chunk size in TOKENS\n",
    "    chunk_overlap=30 # Overlap in TOKENS\n",
    ")\n",
    "\n",
    "chunks = splitter.split_documents(book)\n",
    "\n",
    "# example:\n",
    "print(chunks[0].page_content)"
   ]
  },
  {
   "cell_type": "markdown",
   "id": "926c0a20",
   "metadata": {
    "papermill": {
     "duration": 0.007451,
     "end_time": "2025-04-16T12:40:04.299254",
     "exception": false,
     "start_time": "2025-04-16T12:40:04.291803",
     "status": "completed"
    },
    "tags": []
   },
   "source": [
    "## Embedding function for RAG system\n",
    "This will make embeddings of text chunks (obtained with dummy_chunk_text) that will be stored in a vector database. Later a user query will allow to retrieve (hopefully) the most relevant chunks."
   ]
  },
  {
   "cell_type": "markdown",
   "id": "58f10382",
   "metadata": {
    "execution": {
     "iopub.execute_input": "2025-04-11T14:26:45.734163Z",
     "iopub.status.busy": "2025-04-11T14:26:45.733768Z",
     "iopub.status.idle": "2025-04-11T14:26:45.74075Z",
     "shell.execute_reply": "2025-04-11T14:26:45.739642Z",
     "shell.execute_reply.started": "2025-04-11T14:26:45.734136Z"
    },
    "papermill": {
     "duration": 0.007284,
     "end_time": "2025-04-16T12:40:04.314074",
     "exception": false,
     "start_time": "2025-04-16T12:40:04.306790",
     "status": "completed"
    },
    "tags": []
   },
   "source": [
    "Helper method to navigate through book titles."
   ]
  },
  {
   "cell_type": "markdown",
   "id": "5281b130",
   "metadata": {
    "papermill": {
     "duration": 0.00733,
     "end_time": "2025-04-16T12:40:04.328991",
     "exception": false,
     "start_time": "2025-04-16T12:40:04.321661",
     "status": "completed"
    },
    "tags": []
   },
   "source": [
    "# 🔩 Tools for LLM to use\n",
    "Several tools are specified here:\n",
    "* find_cuisine - Find appropriate cookbook based on how the provided query matches the title of a book - based on semantic similarity (capability: **Embeddings**)\n",
    "* summarize_cookbook - Summarize cookbook (perform indexing with vector database) - (capability: **RAG**)\n",
    "* retrieve_recipe - Retrieves relevant information about user requested recipe - (capability: **RAG**)\n",
    "* order_ingredients - Orders desired ingredients in the nearby store - (capability: just **function calling** like other methods)"
   ]
  },
  {
   "cell_type": "markdown",
   "id": "5350ba6f",
   "metadata": {
    "papermill": {
     "duration": 0.007282,
     "end_time": "2025-04-16T12:40:04.343807",
     "exception": false,
     "start_time": "2025-04-16T12:40:04.336525",
     "status": "completed"
    },
    "tags": []
   },
   "source": [
    "Gather tools and prepare chat bot instructions."
   ]
  },
  {
   "cell_type": "markdown",
   "id": "86770e72",
   "metadata": {
    "papermill": {
     "duration": 0.007277,
     "end_time": "2025-04-16T12:40:04.358580",
     "exception": false,
     "start_time": "2025-04-16T12:40:04.351303",
     "status": "completed"
    },
    "tags": []
   },
   "source": [
    "# 💬 Configure the chat and start conversation"
   ]
  },
  {
   "cell_type": "markdown",
   "id": "9a2124e8",
   "metadata": {
    "papermill": {
     "duration": 0.007444,
     "end_time": "2025-04-16T12:40:04.373605",
     "exception": false,
     "start_time": "2025-04-16T12:40:04.366161",
     "status": "completed"
    },
    "tags": []
   },
   "source": [
    "## Preview the details of conversation"
   ]
  },
  {
   "cell_type": "markdown",
   "id": "04a90642",
   "metadata": {
    "papermill": {
     "duration": 0.00739,
     "end_time": "2025-04-16T12:40:04.388573",
     "exception": false,
     "start_time": "2025-04-16T12:40:04.381183",
     "status": "completed"
    },
    "tags": []
   },
   "source": [
    "# 🥷 Agentic approach "
   ]
  },
  {
   "cell_type": "markdown",
   "id": "175a6e3a",
   "metadata": {
    "papermill": {
     "duration": 0.007374,
     "end_time": "2025-04-16T12:40:04.403450",
     "exception": false,
     "start_time": "2025-04-16T12:40:04.396076",
     "status": "completed"
    },
    "tags": []
   },
   "source": [
    "## State class\n",
    "Prepare class to store conversation history and success state of the conversation, along with ingredients lits."
   ]
  },
  {
   "cell_type": "markdown",
   "id": "9d9ff072",
   "metadata": {
    "papermill": {
     "duration": 0.007409,
     "end_time": "2025-04-16T12:40:04.418338",
     "exception": false,
     "start_time": "2025-04-16T12:40:04.410929",
     "status": "completed"
    },
    "tags": []
   },
   "source": [
    "## Extended and updated instruction for the Agent"
   ]
  },
  {
   "cell_type": "markdown",
   "id": "0e49f437",
   "metadata": {
    "papermill": {
     "duration": 0.007393,
     "end_time": "2025-04-16T12:40:04.433313",
     "exception": false,
     "start_time": "2025-04-16T12:40:04.425920",
     "status": "completed"
    },
    "tags": []
   },
   "source": [
    "## Tools for the Agent and nodes for the graph"
   ]
  },
  {
   "cell_type": "markdown",
   "id": "795bcf1f",
   "metadata": {
    "papermill": {
     "duration": 0.007438,
     "end_time": "2025-04-16T12:40:04.448464",
     "exception": false,
     "start_time": "2025-04-16T12:40:04.441026",
     "status": "completed"
    },
    "tags": []
   },
   "source": [
    "## Conditional edges"
   ]
  },
  {
   "cell_type": "markdown",
   "id": "6a03f383",
   "metadata": {
    "execution": {
     "iopub.execute_input": "2025-04-12T16:44:25.338846Z",
     "iopub.status.busy": "2025-04-12T16:44:25.338429Z",
     "iopub.status.idle": "2025-04-12T16:44:25.344372Z",
     "shell.execute_reply": "2025-04-12T16:44:25.342927Z",
     "shell.execute_reply.started": "2025-04-12T16:44:25.338822Z"
    },
    "papermill": {
     "duration": 0.007671,
     "end_time": "2025-04-16T12:40:04.463754",
     "exception": false,
     "start_time": "2025-04-16T12:40:04.456083",
     "status": "completed"
    },
    "tags": []
   },
   "source": [
    "## Full graph building for the Agent"
   ]
  },
  {
   "cell_type": "markdown",
   "id": "f2c4bf03",
   "metadata": {
    "papermill": {
     "duration": 0.007597,
     "end_time": "2025-04-16T12:40:04.479419",
     "exception": false,
     "start_time": "2025-04-16T12:40:04.471822",
     "status": "completed"
    },
    "tags": []
   },
   "source": [
    "## 💬 Test the Agentic Chatbot \n",
    "In this notebook a pre arranged user messages are run in a chat with the bot."
   ]
  }
 ],
 "metadata": {
  "kaggle": {
   "accelerator": "none",
   "dataSources": [
    {
     "sourceId": 97258,
     "sourceType": "competition"
    },
    {
     "datasetId": 512760,
     "sourceId": 945693,
     "sourceType": "datasetVersion"
    }
   ],
   "dockerImageVersionId": 31012,
   "isGpuEnabled": false,
   "isInternetEnabled": true,
   "language": "python",
   "sourceType": "notebook"
  },
  "kernelspec": {
   "display_name": "Python 3",
   "language": "python",
   "name": "python3"
  },
  "language_info": {
   "codemirror_mode": {
    "name": "ipython",
    "version": 3
   },
   "file_extension": ".py",
   "mimetype": "text/x-python",
   "name": "python",
   "nbconvert_exporter": "python",
   "pygments_lexer": "ipython3",
   "version": "3.11.11"
  },
  "papermill": {
   "default_parameters": {},
   "duration": 80.454429,
   "end_time": "2025-04-16T12:40:05.374096",
   "environment_variables": {},
   "exception": null,
   "input_path": "__notebook__.ipynb",
   "output_path": "__notebook__.ipynb",
   "parameters": {},
   "start_time": "2025-04-16T12:38:44.919667",
   "version": "2.6.0"
  }
 },
 "nbformat": 4,
 "nbformat_minor": 5
}
